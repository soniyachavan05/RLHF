{
 "cells": [
  {
   "cell_type": "code",
   "execution_count": 2,
   "metadata": {
    "id": "nRgnTK6rLybA"
   },
   "outputs": [
    {
     "name": "stdout",
     "output_type": "stream",
     "text": [
      "Defaulting to user installation because normal site-packages is not writeable\n",
      "Requirement already satisfied: transformers in ./.local/lib/python3.8/site-packages (4.38.2)\n",
      "Requirement already satisfied: pyyaml>=5.1 in /apps/spack/scholar/fall20/apps/anaconda/2020.11-py38-gcc-4.8.5-djkvkvk/lib/python3.8/site-packages (from transformers) (5.3.1)\n",
      "Requirement already satisfied: safetensors>=0.4.1 in ./.local/lib/python3.8/site-packages (from transformers) (0.4.2)\n",
      "Requirement already satisfied: filelock in /apps/spack/scholar/fall20/apps/anaconda/2020.11-py38-gcc-4.8.5-djkvkvk/lib/python3.8/site-packages (from transformers) (3.0.12)\n",
      "Requirement already satisfied: numpy>=1.17 in /apps/spack/scholar/fall20/apps/anaconda/2020.11-py38-gcc-4.8.5-djkvkvk/lib/python3.8/site-packages (from transformers) (1.19.2)\n",
      "Requirement already satisfied: tqdm>=4.27 in ./.local/lib/python3.8/site-packages (from transformers) (4.66.2)\n",
      "Requirement already satisfied: huggingface-hub<1.0,>=0.19.3 in ./.local/lib/python3.8/site-packages (from transformers) (0.21.4)\n",
      "Requirement already satisfied: requests in /apps/spack/scholar/fall20/apps/anaconda/2020.11-py38-gcc-4.8.5-djkvkvk/lib/python3.8/site-packages (from transformers) (2.24.0)\n",
      "Requirement already satisfied: tokenizers<0.19,>=0.14 in ./.local/lib/python3.8/site-packages (from transformers) (0.15.2)\n",
      "Requirement already satisfied: packaging>=20.0 in /apps/spack/scholar/fall20/apps/anaconda/2020.11-py38-gcc-4.8.5-djkvkvk/lib/python3.8/site-packages (from transformers) (20.4)\n",
      "Requirement already satisfied: regex!=2019.12.17 in ./.local/lib/python3.8/site-packages (from transformers) (2023.12.25)\n",
      "Requirement already satisfied: fsspec>=2023.5.0 in ./.local/lib/python3.8/site-packages (from huggingface-hub<1.0,>=0.19.3->transformers) (2024.2.0)\n",
      "Requirement already satisfied: typing-extensions>=3.7.4.3 in ./.local/lib/python3.8/site-packages (from huggingface-hub<1.0,>=0.19.3->transformers) (4.10.0)\n",
      "Requirement already satisfied: idna<3,>=2.5 in /apps/spack/scholar/fall20/apps/anaconda/2020.11-py38-gcc-4.8.5-djkvkvk/lib/python3.8/site-packages (from requests->transformers) (2.10)\n",
      "Requirement already satisfied: urllib3!=1.25.0,!=1.25.1,<1.26,>=1.21.1 in ./.local/lib/python3.8/site-packages (from requests->transformers) (1.25.11)\n",
      "Requirement already satisfied: chardet<4,>=3.0.2 in /apps/spack/scholar/fall20/apps/anaconda/2020.11-py38-gcc-4.8.5-djkvkvk/lib/python3.8/site-packages (from requests->transformers) (3.0.4)\n",
      "Requirement already satisfied: certifi>=2017.4.17 in /apps/spack/scholar/fall20/apps/anaconda/2020.11-py38-gcc-4.8.5-djkvkvk/lib/python3.8/site-packages (from requests->transformers) (2020.6.20)\n",
      "Requirement already satisfied: pyparsing>=2.0.2 in /apps/spack/scholar/fall20/apps/anaconda/2020.11-py38-gcc-4.8.5-djkvkvk/lib/python3.8/site-packages (from packaging>=20.0->transformers) (2.4.7)\n",
      "Requirement already satisfied: six in /apps/spack/scholar/fall20/apps/anaconda/2020.11-py38-gcc-4.8.5-djkvkvk/lib/python3.8/site-packages (from packaging>=20.0->transformers) (1.15.0)\n",
      "Defaulting to user installation because normal site-packages is not writeable\n",
      "Requirement already satisfied: wandb in ./.local/lib/python3.8/site-packages (0.16.4)\n",
      "Requirement already satisfied: typing-extensions; python_version < \"3.10\" in ./.local/lib/python3.8/site-packages (from wandb) (4.10.0)\n",
      "Requirement already satisfied: sentry-sdk>=1.0.0 in ./.local/lib/python3.8/site-packages (from wandb) (1.43.0)\n",
      "Requirement already satisfied: requests<3,>=2.0.0 in /apps/spack/scholar/fall20/apps/anaconda/2020.11-py38-gcc-4.8.5-djkvkvk/lib/python3.8/site-packages (from wandb) (2.24.0)\n",
      "Requirement already satisfied: docker-pycreds>=0.4.0 in ./.local/lib/python3.8/site-packages (from wandb) (0.4.0)\n",
      "Requirement already satisfied: Click!=8.0.0,>=7.1 in /apps/spack/scholar/fall20/apps/anaconda/2020.11-py38-gcc-4.8.5-djkvkvk/lib/python3.8/site-packages (from wandb) (7.1.2)\n",
      "Requirement already satisfied: psutil>=5.0.0 in /apps/spack/scholar/fall20/apps/anaconda/2020.11-py38-gcc-4.8.5-djkvkvk/lib/python3.8/site-packages (from wandb) (5.7.2)\n",
      "Requirement already satisfied: setproctitle in ./.local/lib/python3.8/site-packages (from wandb) (1.3.3)\n",
      "Requirement already satisfied: PyYAML in /apps/spack/scholar/fall20/apps/anaconda/2020.11-py38-gcc-4.8.5-djkvkvk/lib/python3.8/site-packages (from wandb) (5.3.1)\n",
      "Requirement already satisfied: appdirs>=1.4.3 in ./.local/lib/python3.8/site-packages (from wandb) (1.4.4)\n",
      "Requirement already satisfied: setuptools in /apps/spack/scholar/fall20/apps/anaconda/2020.11-py38-gcc-4.8.5-djkvkvk/lib/python3.8/site-packages (from wandb) (50.3.1.post20201107)\n",
      "Requirement already satisfied: protobuf!=4.21.0,<5,>=3.12.0; python_version < \"3.9\" and sys_platform == \"linux\" in ./.local/lib/python3.8/site-packages (from wandb) (4.25.3)\n",
      "Requirement already satisfied: GitPython!=3.1.29,>=1.0.0 in ./.local/lib/python3.8/site-packages (from wandb) (3.1.42)\n",
      "Collecting urllib3>=1.26.11; python_version >= \"3.6\"\n",
      "  Using cached urllib3-2.2.1-py3-none-any.whl (121 kB)\n",
      "Requirement already satisfied: certifi in /apps/spack/scholar/fall20/apps/anaconda/2020.11-py38-gcc-4.8.5-djkvkvk/lib/python3.8/site-packages (from sentry-sdk>=1.0.0->wandb) (2020.6.20)\n",
      "Requirement already satisfied: chardet<4,>=3.0.2 in /apps/spack/scholar/fall20/apps/anaconda/2020.11-py38-gcc-4.8.5-djkvkvk/lib/python3.8/site-packages (from requests<3,>=2.0.0->wandb) (3.0.4)\n",
      "Requirement already satisfied: idna<3,>=2.5 in /apps/spack/scholar/fall20/apps/anaconda/2020.11-py38-gcc-4.8.5-djkvkvk/lib/python3.8/site-packages (from requests<3,>=2.0.0->wandb) (2.10)\n",
      "Requirement already satisfied: six>=1.4.0 in /apps/spack/scholar/fall20/apps/anaconda/2020.11-py38-gcc-4.8.5-djkvkvk/lib/python3.8/site-packages (from docker-pycreds>=0.4.0->wandb) (1.15.0)\n",
      "Requirement already satisfied: gitdb<5,>=4.0.1 in ./.local/lib/python3.8/site-packages (from GitPython!=3.1.29,>=1.0.0->wandb) (4.0.11)\n",
      "Requirement already satisfied: smmap<6,>=3.0.1 in ./.local/lib/python3.8/site-packages (from gitdb<5,>=4.0.1->GitPython!=3.1.29,>=1.0.0->wandb) (5.0.1)\n",
      "Installing collected packages: urllib3\n",
      "  Attempting uninstall: urllib3\n",
      "    Found existing installation: urllib3 1.25.11\n",
      "    Uninstalling urllib3-1.25.11:\n",
      "      Successfully uninstalled urllib3-1.25.11\n",
      "\u001b[31mERROR: After October 2020 you may experience errors when installing or updating packages. This is because pip will change the way that it resolves dependency conflicts.\n",
      "\n",
      "We recommend you use --use-feature=2020-resolver to test your packages with the new resolver before it becomes the default.\n",
      "\n",
      "requests 2.24.0 requires urllib3!=1.25.0,!=1.25.1,<1.26,>=1.21.1, but you'll have urllib3 2.2.1 which is incompatible.\u001b[0m\n",
      "Successfully installed urllib3-2.2.1\n",
      "Defaulting to user installation because normal site-packages is not writeable\n",
      "Requirement already satisfied: trl in ./.local/lib/python3.8/site-packages (0.8.1)\n",
      "Requirement already satisfied: torch>=1.4.0 in ./.local/lib/python3.8/site-packages (from trl) (2.2.1)\n",
      "Requirement already satisfied: accelerate in ./.local/lib/python3.8/site-packages (from trl) (0.28.0)\n",
      "Requirement already satisfied: numpy>=1.18.2 in /apps/spack/scholar/fall20/apps/anaconda/2020.11-py38-gcc-4.8.5-djkvkvk/lib/python3.8/site-packages (from trl) (1.19.2)\n",
      "Requirement already satisfied: datasets in ./.local/lib/python3.8/site-packages (from trl) (2.18.0)\n",
      "Requirement already satisfied: transformers>=4.31.0 in ./.local/lib/python3.8/site-packages (from trl) (4.38.2)\n",
      "Requirement already satisfied: tyro>=0.5.11 in ./.local/lib/python3.8/site-packages (from trl) (0.7.3)\n",
      "Requirement already satisfied: nvidia-cudnn-cu12==8.9.2.26; platform_system == \"Linux\" and platform_machine == \"x86_64\" in ./.local/lib/python3.8/site-packages (from torch>=1.4.0->trl) (8.9.2.26)\n",
      "Requirement already satisfied: nvidia-curand-cu12==10.3.2.106; platform_system == \"Linux\" and platform_machine == \"x86_64\" in ./.local/lib/python3.8/site-packages (from torch>=1.4.0->trl) (10.3.2.106)\n",
      "Requirement already satisfied: jinja2 in /apps/spack/scholar/fall20/apps/anaconda/2020.11-py38-gcc-4.8.5-djkvkvk/lib/python3.8/site-packages (from torch>=1.4.0->trl) (2.11.2)\n",
      "Requirement already satisfied: typing-extensions>=4.8.0 in ./.local/lib/python3.8/site-packages (from torch>=1.4.0->trl) (4.10.0)\n",
      "Requirement already satisfied: nvidia-cusparse-cu12==12.1.0.106; platform_system == \"Linux\" and platform_machine == \"x86_64\" in ./.local/lib/python3.8/site-packages (from torch>=1.4.0->trl) (12.1.0.106)\n",
      "Requirement already satisfied: filelock in /apps/spack/scholar/fall20/apps/anaconda/2020.11-py38-gcc-4.8.5-djkvkvk/lib/python3.8/site-packages (from torch>=1.4.0->trl) (3.0.12)\n",
      "Requirement already satisfied: nvidia-cublas-cu12==12.1.3.1; platform_system == \"Linux\" and platform_machine == \"x86_64\" in ./.local/lib/python3.8/site-packages (from torch>=1.4.0->trl) (12.1.3.1)\n",
      "Requirement already satisfied: nvidia-cufft-cu12==11.0.2.54; platform_system == \"Linux\" and platform_machine == \"x86_64\" in ./.local/lib/python3.8/site-packages (from torch>=1.4.0->trl) (11.0.2.54)\n",
      "Requirement already satisfied: nvidia-nccl-cu12==2.19.3; platform_system == \"Linux\" and platform_machine == \"x86_64\" in ./.local/lib/python3.8/site-packages (from torch>=1.4.0->trl) (2.19.3)\n",
      "Requirement already satisfied: fsspec in ./.local/lib/python3.8/site-packages (from torch>=1.4.0->trl) (2024.2.0)\n"
     ]
    },
    {
     "name": "stdout",
     "output_type": "stream",
     "text": [
      "Requirement already satisfied: nvidia-nvtx-cu12==12.1.105; platform_system == \"Linux\" and platform_machine == \"x86_64\" in ./.local/lib/python3.8/site-packages (from torch>=1.4.0->trl) (12.1.105)\n",
      "Requirement already satisfied: networkx in /apps/spack/scholar/fall20/apps/anaconda/2020.11-py38-gcc-4.8.5-djkvkvk/lib/python3.8/site-packages (from torch>=1.4.0->trl) (2.5)\n",
      "Requirement already satisfied: nvidia-cuda-cupti-cu12==12.1.105; platform_system == \"Linux\" and platform_machine == \"x86_64\" in ./.local/lib/python3.8/site-packages (from torch>=1.4.0->trl) (12.1.105)\n",
      "Requirement already satisfied: triton==2.2.0; platform_system == \"Linux\" and platform_machine == \"x86_64\" and python_version < \"3.12\" in ./.local/lib/python3.8/site-packages (from torch>=1.4.0->trl) (2.2.0)\n",
      "Requirement already satisfied: nvidia-cusolver-cu12==11.4.5.107; platform_system == \"Linux\" and platform_machine == \"x86_64\" in ./.local/lib/python3.8/site-packages (from torch>=1.4.0->trl) (11.4.5.107)\n",
      "Requirement already satisfied: nvidia-cuda-runtime-cu12==12.1.105; platform_system == \"Linux\" and platform_machine == \"x86_64\" in ./.local/lib/python3.8/site-packages (from torch>=1.4.0->trl) (12.1.105)\n",
      "Requirement already satisfied: sympy in /apps/spack/scholar/fall20/apps/anaconda/2020.11-py38-gcc-4.8.5-djkvkvk/lib/python3.8/site-packages (from torch>=1.4.0->trl) (1.6.2)\n",
      "Requirement already satisfied: nvidia-cuda-nvrtc-cu12==12.1.105; platform_system == \"Linux\" and platform_machine == \"x86_64\" in ./.local/lib/python3.8/site-packages (from torch>=1.4.0->trl) (12.1.105)\n",
      "Requirement already satisfied: safetensors>=0.3.1 in ./.local/lib/python3.8/site-packages (from accelerate->trl) (0.4.2)\n",
      "Requirement already satisfied: packaging>=20.0 in /apps/spack/scholar/fall20/apps/anaconda/2020.11-py38-gcc-4.8.5-djkvkvk/lib/python3.8/site-packages (from accelerate->trl) (20.4)\n",
      "Requirement already satisfied: pyyaml in /apps/spack/scholar/fall20/apps/anaconda/2020.11-py38-gcc-4.8.5-djkvkvk/lib/python3.8/site-packages (from accelerate->trl) (5.3.1)\n",
      "Requirement already satisfied: huggingface-hub in ./.local/lib/python3.8/site-packages (from accelerate->trl) (0.21.4)\n",
      "Requirement already satisfied: psutil in /apps/spack/scholar/fall20/apps/anaconda/2020.11-py38-gcc-4.8.5-djkvkvk/lib/python3.8/site-packages (from accelerate->trl) (5.7.2)\n",
      "Requirement already satisfied: requests>=2.19.0 in /apps/spack/scholar/fall20/apps/anaconda/2020.11-py38-gcc-4.8.5-djkvkvk/lib/python3.8/site-packages (from datasets->trl) (2.24.0)\n",
      "Requirement already satisfied: dill<0.3.9,>=0.3.0 in ./.local/lib/python3.8/site-packages (from datasets->trl) (0.3.8)\n",
      "Requirement already satisfied: xxhash in ./.local/lib/python3.8/site-packages (from datasets->trl) (3.4.1)\n",
      "Requirement already satisfied: aiohttp in ./.local/lib/python3.8/site-packages (from datasets->trl) (3.9.3)\n",
      "Requirement already satisfied: pyarrow-hotfix in ./.local/lib/python3.8/site-packages (from datasets->trl) (0.6)\n",
      "Requirement already satisfied: multiprocess in ./.local/lib/python3.8/site-packages (from datasets->trl) (0.70.16)\n",
      "Requirement already satisfied: pandas in /apps/spack/scholar/fall20/apps/anaconda/2020.11-py38-gcc-4.8.5-djkvkvk/lib/python3.8/site-packages (from datasets->trl) (1.1.3)\n",
      "Requirement already satisfied: pyarrow>=12.0.0 in ./.local/lib/python3.8/site-packages (from datasets->trl) (15.0.2)\n",
      "Requirement already satisfied: tqdm>=4.62.1 in ./.local/lib/python3.8/site-packages (from datasets->trl) (4.66.2)\n",
      "Requirement already satisfied: tokenizers<0.19,>=0.14 in ./.local/lib/python3.8/site-packages (from transformers>=4.31.0->trl) (0.15.2)\n",
      "Requirement already satisfied: regex!=2019.12.17 in ./.local/lib/python3.8/site-packages (from transformers>=4.31.0->trl) (2023.12.25)\n",
      "Requirement already satisfied: shtab>=1.5.6 in ./.local/lib/python3.8/site-packages (from tyro>=0.5.11->trl) (1.7.1)\n",
      "Requirement already satisfied: rich>=11.1.0 in ./.local/lib/python3.8/site-packages (from tyro>=0.5.11->trl) (13.7.1)\n",
      "Requirement already satisfied: docstring-parser>=0.14.1 in ./.local/lib/python3.8/site-packages (from tyro>=0.5.11->trl) (0.16)\n",
      "Requirement already satisfied: MarkupSafe>=0.23 in /apps/spack/scholar/fall20/apps/anaconda/2020.11-py38-gcc-4.8.5-djkvkvk/lib/python3.8/site-packages (from jinja2->torch>=1.4.0->trl) (1.1.1)\n",
      "Requirement already satisfied: nvidia-nvjitlink-cu12 in ./.local/lib/python3.8/site-packages (from nvidia-cusparse-cu12==12.1.0.106; platform_system == \"Linux\" and platform_machine == \"x86_64\"->torch>=1.4.0->trl) (12.4.99)\n",
      "Requirement already satisfied: decorator>=4.3.0 in /apps/spack/scholar/fall20/apps/anaconda/2020.11-py38-gcc-4.8.5-djkvkvk/lib/python3.8/site-packages (from networkx->torch>=1.4.0->trl) (4.4.2)\n",
      "Requirement already satisfied: mpmath>=0.19 in /apps/spack/scholar/fall20/apps/anaconda/2020.11-py38-gcc-4.8.5-djkvkvk/lib/python3.8/site-packages (from sympy->torch>=1.4.0->trl) (1.1.0)\n",
      "Requirement already satisfied: pyparsing>=2.0.2 in /apps/spack/scholar/fall20/apps/anaconda/2020.11-py38-gcc-4.8.5-djkvkvk/lib/python3.8/site-packages (from packaging>=20.0->accelerate->trl) (2.4.7)\n",
      "Requirement already satisfied: six in /apps/spack/scholar/fall20/apps/anaconda/2020.11-py38-gcc-4.8.5-djkvkvk/lib/python3.8/site-packages (from packaging>=20.0->accelerate->trl) (1.15.0)\n",
      "Requirement already satisfied: chardet<4,>=3.0.2 in /apps/spack/scholar/fall20/apps/anaconda/2020.11-py38-gcc-4.8.5-djkvkvk/lib/python3.8/site-packages (from requests>=2.19.0->datasets->trl) (3.0.4)\n",
      "Requirement already satisfied: certifi>=2017.4.17 in /apps/spack/scholar/fall20/apps/anaconda/2020.11-py38-gcc-4.8.5-djkvkvk/lib/python3.8/site-packages (from requests>=2.19.0->datasets->trl) (2020.6.20)\n",
      "Requirement already satisfied: idna<3,>=2.5 in /apps/spack/scholar/fall20/apps/anaconda/2020.11-py38-gcc-4.8.5-djkvkvk/lib/python3.8/site-packages (from requests>=2.19.0->datasets->trl) (2.10)\n",
      "Collecting urllib3!=1.25.0,!=1.25.1,<1.26,>=1.21.1\n",
      "  Using cached urllib3-1.25.11-py2.py3-none-any.whl (127 kB)\n",
      "Requirement already satisfied: aiosignal>=1.1.2 in ./.local/lib/python3.8/site-packages (from aiohttp->datasets->trl) (1.3.1)\n",
      "Requirement already satisfied: frozenlist>=1.1.1 in ./.local/lib/python3.8/site-packages (from aiohttp->datasets->trl) (1.4.1)\n",
      "Requirement already satisfied: yarl<2.0,>=1.0 in ./.local/lib/python3.8/site-packages (from aiohttp->datasets->trl) (1.9.4)\n",
      "Requirement already satisfied: async-timeout<5.0,>=4.0; python_version < \"3.11\" in ./.local/lib/python3.8/site-packages (from aiohttp->datasets->trl) (4.0.3)\n",
      "Requirement already satisfied: attrs>=17.3.0 in /apps/spack/scholar/fall20/apps/anaconda/2020.11-py38-gcc-4.8.5-djkvkvk/lib/python3.8/site-packages (from aiohttp->datasets->trl) (20.3.0)\n",
      "Requirement already satisfied: multidict<7.0,>=4.5 in ./.local/lib/python3.8/site-packages (from aiohttp->datasets->trl) (6.0.5)\n",
      "Requirement already satisfied: python-dateutil>=2.7.3 in /apps/spack/scholar/fall20/apps/anaconda/2020.11-py38-gcc-4.8.5-djkvkvk/lib/python3.8/site-packages (from pandas->datasets->trl) (2.8.1)\n",
      "Requirement already satisfied: pytz>=2017.2 in /apps/spack/scholar/fall20/apps/anaconda/2020.11-py38-gcc-4.8.5-djkvkvk/lib/python3.8/site-packages (from pandas->datasets->trl) (2020.1)\n",
      "Requirement already satisfied: pygments<3.0.0,>=2.13.0 in ./.local/lib/python3.8/site-packages (from rich>=11.1.0->tyro>=0.5.11->trl) (2.17.2)\n",
      "Requirement already satisfied: markdown-it-py>=2.2.0 in ./.local/lib/python3.8/site-packages (from rich>=11.1.0->tyro>=0.5.11->trl) (3.0.0)\n",
      "Requirement already satisfied: mdurl~=0.1 in ./.local/lib/python3.8/site-packages (from markdown-it-py>=2.2.0->rich>=11.1.0->tyro>=0.5.11->trl) (0.1.2)\n",
      "Installing collected packages: urllib3\n",
      "  Attempting uninstall: urllib3\n",
      "    Found existing installation: urllib3 2.2.1\n",
      "    Uninstalling urllib3-2.2.1:\n",
      "      Successfully uninstalled urllib3-2.2.1\n",
      "\u001b[31mERROR: After October 2020 you may experience errors when installing or updating packages. This is because pip will change the way that it resolves dependency conflicts.\n",
      "\n",
      "We recommend you use --use-feature=2020-resolver to test your packages with the new resolver before it becomes the default.\n",
      "\n",
      "sentry-sdk 1.43.0 requires urllib3>=1.26.11; python_version >= \"3.6\", but you'll have urllib3 1.25.11 which is incompatible.\u001b[0m\n",
      "Successfully installed urllib3-1.25.11\n"
     ]
    },
    {
     "name": "stdout",
     "output_type": "stream",
     "text": [
      "Defaulting to user installation because normal site-packages is not writeable\n",
      "Requirement already satisfied: pandas in /apps/spack/scholar/fall20/apps/anaconda/2020.11-py38-gcc-4.8.5-djkvkvk/lib/python3.8/site-packages (1.1.3)\n",
      "Requirement already satisfied: pytz>=2017.2 in /apps/spack/scholar/fall20/apps/anaconda/2020.11-py38-gcc-4.8.5-djkvkvk/lib/python3.8/site-packages (from pandas) (2020.1)\n",
      "Requirement already satisfied: numpy>=1.15.4 in /apps/spack/scholar/fall20/apps/anaconda/2020.11-py38-gcc-4.8.5-djkvkvk/lib/python3.8/site-packages (from pandas) (1.19.2)\n",
      "Requirement already satisfied: python-dateutil>=2.7.3 in /apps/spack/scholar/fall20/apps/anaconda/2020.11-py38-gcc-4.8.5-djkvkvk/lib/python3.8/site-packages (from pandas) (2.8.1)\n",
      "Requirement already satisfied: six>=1.5 in /apps/spack/scholar/fall20/apps/anaconda/2020.11-py38-gcc-4.8.5-djkvkvk/lib/python3.8/site-packages (from python-dateutil>=2.7.3->pandas) (1.15.0)\n",
      "Defaulting to user installation because normal site-packages is not writeable\n",
      "Requirement already satisfied: datasets in ./.local/lib/python3.8/site-packages (2.18.0)\n",
      "Requirement already satisfied: pyarrow>=12.0.0 in ./.local/lib/python3.8/site-packages (from datasets) (15.0.2)\n",
      "Requirement already satisfied: numpy>=1.17 in /apps/spack/scholar/fall20/apps/anaconda/2020.11-py38-gcc-4.8.5-djkvkvk/lib/python3.8/site-packages (from datasets) (1.19.2)\n",
      "Requirement already satisfied: xxhash in ./.local/lib/python3.8/site-packages (from datasets) (3.4.1)\n",
      "Requirement already satisfied: huggingface-hub>=0.19.4 in ./.local/lib/python3.8/site-packages (from datasets) (0.21.4)\n",
      "Requirement already satisfied: packaging in /apps/spack/scholar/fall20/apps/anaconda/2020.11-py38-gcc-4.8.5-djkvkvk/lib/python3.8/site-packages (from datasets) (20.4)\n",
      "Requirement already satisfied: aiohttp in ./.local/lib/python3.8/site-packages (from datasets) (3.9.3)\n",
      "Requirement already satisfied: multiprocess in ./.local/lib/python3.8/site-packages (from datasets) (0.70.16)\n",
      "Requirement already satisfied: pandas in /apps/spack/scholar/fall20/apps/anaconda/2020.11-py38-gcc-4.8.5-djkvkvk/lib/python3.8/site-packages (from datasets) (1.1.3)\n",
      "Requirement already satisfied: fsspec[http]<=2024.2.0,>=2023.1.0 in ./.local/lib/python3.8/site-packages (from datasets) (2024.2.0)\n",
      "Requirement already satisfied: filelock in /apps/spack/scholar/fall20/apps/anaconda/2020.11-py38-gcc-4.8.5-djkvkvk/lib/python3.8/site-packages (from datasets) (3.0.12)\n",
      "Requirement already satisfied: pyyaml>=5.1 in /apps/spack/scholar/fall20/apps/anaconda/2020.11-py38-gcc-4.8.5-djkvkvk/lib/python3.8/site-packages (from datasets) (5.3.1)\n",
      "Requirement already satisfied: pyarrow-hotfix in ./.local/lib/python3.8/site-packages (from datasets) (0.6)\n",
      "Requirement already satisfied: tqdm>=4.62.1 in ./.local/lib/python3.8/site-packages (from datasets) (4.66.2)\n",
      "Requirement already satisfied: requests>=2.19.0 in /apps/spack/scholar/fall20/apps/anaconda/2020.11-py38-gcc-4.8.5-djkvkvk/lib/python3.8/site-packages (from datasets) (2.24.0)\n",
      "Requirement already satisfied: dill<0.3.9,>=0.3.0 in ./.local/lib/python3.8/site-packages (from datasets) (0.3.8)\n",
      "Requirement already satisfied: typing-extensions>=3.7.4.3 in ./.local/lib/python3.8/site-packages (from huggingface-hub>=0.19.4->datasets) (4.10.0)\n",
      "Requirement already satisfied: pyparsing>=2.0.2 in /apps/spack/scholar/fall20/apps/anaconda/2020.11-py38-gcc-4.8.5-djkvkvk/lib/python3.8/site-packages (from packaging->datasets) (2.4.7)\n",
      "Requirement already satisfied: six in /apps/spack/scholar/fall20/apps/anaconda/2020.11-py38-gcc-4.8.5-djkvkvk/lib/python3.8/site-packages (from packaging->datasets) (1.15.0)\n",
      "Requirement already satisfied: frozenlist>=1.1.1 in ./.local/lib/python3.8/site-packages (from aiohttp->datasets) (1.4.1)\n",
      "Requirement already satisfied: aiosignal>=1.1.2 in ./.local/lib/python3.8/site-packages (from aiohttp->datasets) (1.3.1)\n",
      "Requirement already satisfied: attrs>=17.3.0 in /apps/spack/scholar/fall20/apps/anaconda/2020.11-py38-gcc-4.8.5-djkvkvk/lib/python3.8/site-packages (from aiohttp->datasets) (20.3.0)\n",
      "Requirement already satisfied: yarl<2.0,>=1.0 in ./.local/lib/python3.8/site-packages (from aiohttp->datasets) (1.9.4)\n",
      "Requirement already satisfied: async-timeout<5.0,>=4.0; python_version < \"3.11\" in ./.local/lib/python3.8/site-packages (from aiohttp->datasets) (4.0.3)\n",
      "Requirement already satisfied: multidict<7.0,>=4.5 in ./.local/lib/python3.8/site-packages (from aiohttp->datasets) (6.0.5)\n",
      "Requirement already satisfied: python-dateutil>=2.7.3 in /apps/spack/scholar/fall20/apps/anaconda/2020.11-py38-gcc-4.8.5-djkvkvk/lib/python3.8/site-packages (from pandas->datasets) (2.8.1)\n",
      "Requirement already satisfied: pytz>=2017.2 in /apps/spack/scholar/fall20/apps/anaconda/2020.11-py38-gcc-4.8.5-djkvkvk/lib/python3.8/site-packages (from pandas->datasets) (2020.1)\n",
      "Requirement already satisfied: chardet<4,>=3.0.2 in /apps/spack/scholar/fall20/apps/anaconda/2020.11-py38-gcc-4.8.5-djkvkvk/lib/python3.8/site-packages (from requests>=2.19.0->datasets) (3.0.4)\n",
      "Requirement already satisfied: certifi>=2017.4.17 in /apps/spack/scholar/fall20/apps/anaconda/2020.11-py38-gcc-4.8.5-djkvkvk/lib/python3.8/site-packages (from requests>=2.19.0->datasets) (2020.6.20)\n",
      "Requirement already satisfied: idna<3,>=2.5 in /apps/spack/scholar/fall20/apps/anaconda/2020.11-py38-gcc-4.8.5-djkvkvk/lib/python3.8/site-packages (from requests>=2.19.0->datasets) (2.10)\n",
      "Requirement already satisfied: urllib3!=1.25.0,!=1.25.1,<1.26,>=1.21.1 in ./.local/lib/python3.8/site-packages (from requests>=2.19.0->datasets) (1.25.11)\n",
      "Defaulting to user installation because normal site-packages is not writeable\n",
      "Requirement already satisfied: accelerate in ./.local/lib/python3.8/site-packages (0.28.0)\n",
      "Requirement already satisfied: numpy>=1.17 in /apps/spack/scholar/fall20/apps/anaconda/2020.11-py38-gcc-4.8.5-djkvkvk/lib/python3.8/site-packages (from accelerate) (1.19.2)\n",
      "Requirement already satisfied: packaging>=20.0 in /apps/spack/scholar/fall20/apps/anaconda/2020.11-py38-gcc-4.8.5-djkvkvk/lib/python3.8/site-packages (from accelerate) (20.4)\n",
      "Requirement already satisfied: psutil in /apps/spack/scholar/fall20/apps/anaconda/2020.11-py38-gcc-4.8.5-djkvkvk/lib/python3.8/site-packages (from accelerate) (5.7.2)\n",
      "Requirement already satisfied: torch>=1.10.0 in ./.local/lib/python3.8/site-packages (from accelerate) (2.2.1)\n",
      "Requirement already satisfied: huggingface-hub in ./.local/lib/python3.8/site-packages (from accelerate) (0.21.4)\n",
      "Requirement already satisfied: safetensors>=0.3.1 in ./.local/lib/python3.8/site-packages (from accelerate) (0.4.2)\n",
      "Requirement already satisfied: pyyaml in /apps/spack/scholar/fall20/apps/anaconda/2020.11-py38-gcc-4.8.5-djkvkvk/lib/python3.8/site-packages (from accelerate) (5.3.1)\n",
      "Requirement already satisfied: pyparsing>=2.0.2 in /apps/spack/scholar/fall20/apps/anaconda/2020.11-py38-gcc-4.8.5-djkvkvk/lib/python3.8/site-packages (from packaging>=20.0->accelerate) (2.4.7)\n",
      "Requirement already satisfied: six in /apps/spack/scholar/fall20/apps/anaconda/2020.11-py38-gcc-4.8.5-djkvkvk/lib/python3.8/site-packages (from packaging>=20.0->accelerate) (1.15.0)\n",
      "Requirement already satisfied: networkx in /apps/spack/scholar/fall20/apps/anaconda/2020.11-py38-gcc-4.8.5-djkvkvk/lib/python3.8/site-packages (from torch>=1.10.0->accelerate) (2.5)\n",
      "Requirement already satisfied: nvidia-cublas-cu12==12.1.3.1; platform_system == \"Linux\" and platform_machine == \"x86_64\" in ./.local/lib/python3.8/site-packages (from torch>=1.10.0->accelerate) (12.1.3.1)\n",
      "Requirement already satisfied: triton==2.2.0; platform_system == \"Linux\" and platform_machine == \"x86_64\" and python_version < \"3.12\" in ./.local/lib/python3.8/site-packages (from torch>=1.10.0->accelerate) (2.2.0)\n",
      "Requirement already satisfied: nvidia-cuda-runtime-cu12==12.1.105; platform_system == \"Linux\" and platform_machine == \"x86_64\" in ./.local/lib/python3.8/site-packages (from torch>=1.10.0->accelerate) (12.1.105)\n",
      "Requirement already satisfied: fsspec in ./.local/lib/python3.8/site-packages (from torch>=1.10.0->accelerate) (2024.2.0)\n",
      "Requirement already satisfied: nvidia-curand-cu12==10.3.2.106; platform_system == \"Linux\" and platform_machine == \"x86_64\" in ./.local/lib/python3.8/site-packages (from torch>=1.10.0->accelerate) (10.3.2.106)\n",
      "Requirement already satisfied: typing-extensions>=4.8.0 in ./.local/lib/python3.8/site-packages (from torch>=1.10.0->accelerate) (4.10.0)\n",
      "Requirement already satisfied: nvidia-cufft-cu12==11.0.2.54; platform_system == \"Linux\" and platform_machine == \"x86_64\" in ./.local/lib/python3.8/site-packages (from torch>=1.10.0->accelerate) (11.0.2.54)\n",
      "Requirement already satisfied: jinja2 in /apps/spack/scholar/fall20/apps/anaconda/2020.11-py38-gcc-4.8.5-djkvkvk/lib/python3.8/site-packages (from torch>=1.10.0->accelerate) (2.11.2)\n",
      "Requirement already satisfied: filelock in /apps/spack/scholar/fall20/apps/anaconda/2020.11-py38-gcc-4.8.5-djkvkvk/lib/python3.8/site-packages (from torch>=1.10.0->accelerate) (3.0.12)\n",
      "Requirement already satisfied: nvidia-cuda-cupti-cu12==12.1.105; platform_system == \"Linux\" and platform_machine == \"x86_64\" in ./.local/lib/python3.8/site-packages (from torch>=1.10.0->accelerate) (12.1.105)\n",
      "Requirement already satisfied: sympy in /apps/spack/scholar/fall20/apps/anaconda/2020.11-py38-gcc-4.8.5-djkvkvk/lib/python3.8/site-packages (from torch>=1.10.0->accelerate) (1.6.2)\n",
      "Requirement already satisfied: nvidia-cudnn-cu12==8.9.2.26; platform_system == \"Linux\" and platform_machine == \"x86_64\" in ./.local/lib/python3.8/site-packages (from torch>=1.10.0->accelerate) (8.9.2.26)\n",
      "Requirement already satisfied: nvidia-cusolver-cu12==11.4.5.107; platform_system == \"Linux\" and platform_machine == \"x86_64\" in ./.local/lib/python3.8/site-packages (from torch>=1.10.0->accelerate) (11.4.5.107)\n",
      "Requirement already satisfied: nvidia-cuda-nvrtc-cu12==12.1.105; platform_system == \"Linux\" and platform_machine == \"x86_64\" in ./.local/lib/python3.8/site-packages (from torch>=1.10.0->accelerate) (12.1.105)\n",
      "Requirement already satisfied: nvidia-nccl-cu12==2.19.3; platform_system == \"Linux\" and platform_machine == \"x86_64\" in ./.local/lib/python3.8/site-packages (from torch>=1.10.0->accelerate) (2.19.3)\n",
      "Requirement already satisfied: nvidia-cusparse-cu12==12.1.0.106; platform_system == \"Linux\" and platform_machine == \"x86_64\" in ./.local/lib/python3.8/site-packages (from torch>=1.10.0->accelerate) (12.1.0.106)\n",
      "Requirement already satisfied: nvidia-nvtx-cu12==12.1.105; platform_system == \"Linux\" and platform_machine == \"x86_64\" in ./.local/lib/python3.8/site-packages (from torch>=1.10.0->accelerate) (12.1.105)\n",
      "Requirement already satisfied: requests in /apps/spack/scholar/fall20/apps/anaconda/2020.11-py38-gcc-4.8.5-djkvkvk/lib/python3.8/site-packages (from huggingface-hub->accelerate) (2.24.0)\n",
      "Requirement already satisfied: tqdm>=4.42.1 in ./.local/lib/python3.8/site-packages (from huggingface-hub->accelerate) (4.66.2)\n"
     ]
    },
    {
     "name": "stdout",
     "output_type": "stream",
     "text": [
      "Requirement already satisfied: decorator>=4.3.0 in /apps/spack/scholar/fall20/apps/anaconda/2020.11-py38-gcc-4.8.5-djkvkvk/lib/python3.8/site-packages (from networkx->torch>=1.10.0->accelerate) (4.4.2)\n",
      "Requirement already satisfied: MarkupSafe>=0.23 in /apps/spack/scholar/fall20/apps/anaconda/2020.11-py38-gcc-4.8.5-djkvkvk/lib/python3.8/site-packages (from jinja2->torch>=1.10.0->accelerate) (1.1.1)\n",
      "Requirement already satisfied: mpmath>=0.19 in /apps/spack/scholar/fall20/apps/anaconda/2020.11-py38-gcc-4.8.5-djkvkvk/lib/python3.8/site-packages (from sympy->torch>=1.10.0->accelerate) (1.1.0)\n",
      "Requirement already satisfied: nvidia-nvjitlink-cu12 in ./.local/lib/python3.8/site-packages (from nvidia-cusolver-cu12==11.4.5.107; platform_system == \"Linux\" and platform_machine == \"x86_64\"->torch>=1.10.0->accelerate) (12.4.99)\n",
      "Requirement already satisfied: idna<3,>=2.5 in /apps/spack/scholar/fall20/apps/anaconda/2020.11-py38-gcc-4.8.5-djkvkvk/lib/python3.8/site-packages (from requests->huggingface-hub->accelerate) (2.10)\n",
      "Requirement already satisfied: certifi>=2017.4.17 in /apps/spack/scholar/fall20/apps/anaconda/2020.11-py38-gcc-4.8.5-djkvkvk/lib/python3.8/site-packages (from requests->huggingface-hub->accelerate) (2020.6.20)\n",
      "Requirement already satisfied: urllib3!=1.25.0,!=1.25.1,<1.26,>=1.21.1 in ./.local/lib/python3.8/site-packages (from requests->huggingface-hub->accelerate) (1.25.11)\n",
      "Requirement already satisfied: chardet<4,>=3.0.2 in /apps/spack/scholar/fall20/apps/anaconda/2020.11-py38-gcc-4.8.5-djkvkvk/lib/python3.8/site-packages (from requests->huggingface-hub->accelerate) (3.0.4)\n",
      "Defaulting to user installation because normal site-packages is not writeable\n",
      "Requirement already satisfied: tyro in ./.local/lib/python3.8/site-packages (0.7.3)\n",
      "Requirement already satisfied: rich>=11.1.0 in ./.local/lib/python3.8/site-packages (from tyro) (13.7.1)\n",
      "Requirement already satisfied: typing-extensions>=4.3.0 in ./.local/lib/python3.8/site-packages (from tyro) (4.10.0)\n",
      "Requirement already satisfied: shtab>=1.5.6 in ./.local/lib/python3.8/site-packages (from tyro) (1.7.1)\n",
      "Requirement already satisfied: docstring-parser>=0.14.1 in ./.local/lib/python3.8/site-packages (from tyro) (0.16)\n",
      "Requirement already satisfied: pygments<3.0.0,>=2.13.0 in ./.local/lib/python3.8/site-packages (from rich>=11.1.0->tyro) (2.17.2)\n",
      "Requirement already satisfied: markdown-it-py>=2.2.0 in ./.local/lib/python3.8/site-packages (from rich>=11.1.0->tyro) (3.0.0)\n",
      "Requirement already satisfied: mdurl~=0.1 in ./.local/lib/python3.8/site-packages (from markdown-it-py>=2.2.0->rich>=11.1.0->tyro) (0.1.2)\n",
      "Defaulting to user installation because normal site-packages is not writeable\n",
      "Requirement already up-to-date: nltk in ./.local/lib/python3.8/site-packages (3.8.1)\n",
      "Requirement already satisfied, skipping upgrade: click in /apps/spack/scholar/fall20/apps/anaconda/2020.11-py38-gcc-4.8.5-djkvkvk/lib/python3.8/site-packages (from nltk) (7.1.2)\n",
      "Requirement already satisfied, skipping upgrade: regex>=2021.8.3 in ./.local/lib/python3.8/site-packages (from nltk) (2023.12.25)\n",
      "Requirement already satisfied, skipping upgrade: joblib in /apps/spack/scholar/fall20/apps/anaconda/2020.11-py38-gcc-4.8.5-djkvkvk/lib/python3.8/site-packages (from nltk) (0.17.0)\n",
      "Requirement already satisfied, skipping upgrade: tqdm in ./.local/lib/python3.8/site-packages (from nltk) (4.66.2)\n"
     ]
    }
   ],
   "source": [
    "!pip install transformers\n",
    "!pip install wandb\n",
    "!pip install trl\n",
    "!pip install pandas\n",
    "!pip install datasets\n",
    "!pip install accelerate\n",
    "!pip install tyro\n",
    "!pip install nltk -U"
   ]
  },
  {
   "cell_type": "code",
   "execution_count": 3,
   "metadata": {
    "id": "AJz_K58sL_k5"
   },
   "outputs": [],
   "source": [
    "import torch\n",
    "from tqdm import tqdm\n",
    "import pandas as pd\n",
    "import wandb\n",
    "import os\n",
    "\n",
    "tqdm.pandas()\n",
    "\n",
    "from transformers import pipeline, AutoTokenizer\n",
    "from datasets import load_dataset\n",
    "\n",
    "from trl import PPOTrainer, PPOConfig, AutoModelForCausalLMWithValueHead\n",
    "from trl.core import LengthSampler"
   ]
  },
  {
   "cell_type": "code",
   "execution_count": 4,
   "metadata": {
    "id": "eJ8CZOyAL_n5"
   },
   "outputs": [],
   "source": [
    "config = PPOConfig(\n",
    "    model_name    = \"mrm8488/distilroberta-finetuned-financial-news-sentiment-analysis\",\n",
    "    learning_rate = 1.41e-5,\n",
    "    ## log_with      = \"wandb\",\n",
    ")\n",
    "\n",
    "sent_kwargs = {\n",
    "         \"return_all_scores\": True,\n",
    "         \"function_to_apply\": \"none\",\n",
    "         \"batch_size\": 16\n",
    "}"
   ]
  },
  {
   "cell_type": "code",
   "execution_count": 5,
   "metadata": {
    "id": "i9qlrKpqL_rB"
   },
   "outputs": [
    {
     "name": "stderr",
     "output_type": "stream",
     "text": [
      "Failed to detect the name of this notebook, you can set it manually with the WANDB_NOTEBOOK_NAME environment variable to enable code saving.\n"
     ]
    }
   ],
   "source": [
    "## wandb.init()\n",
    "\n",
    "wandb.init(mode=\"disabled\")\n",
    "os.environ['WANDB_DISABLED'] = 'true'"
   ]
  },
  {
   "cell_type": "markdown",
   "metadata": {
    "id": "HzqO40w_MbOz"
   },
   "source": [
    "# **Load 'financial_phrasebank' dataset**\n",
    "\n",
    "Polar sentiment dataset of sentences from financial news. The dataset consists of 4840 sentences from English language financial news categorised by sentiment. The dataset is divided by agreement rate of 5-8 annotators.\n"
   ]
  },
  {
   "cell_type": "markdown",
   "metadata": {
    "id": "xhJfx10ZezQs"
   },
   "source": [
    "# **Visualize details of dataset**"
   ]
  },
  {
   "cell_type": "code",
   "execution_count": 6,
   "metadata": {
    "id": "4KxwKXZUL_w4"
   },
   "outputs": [],
   "source": [
    "dataset_name=\"financial_phrasebank\""
   ]
  },
  {
   "cell_type": "code",
   "execution_count": 7,
   "metadata": {
    "id": "lMgb2pAIL_0A"
   },
   "outputs": [],
   "source": [
    "ds  = load_dataset(dataset_name,'sentences_50agree', split = \"train\")"
   ]
  },
  {
   "cell_type": "code",
   "execution_count": 8,
   "metadata": {
    "id": "-SoQ1_JjL_3T"
   },
   "outputs": [
    {
     "data": {
      "text/plain": [
       "Dataset({\n",
       "    features: ['sentence', 'label'],\n",
       "    num_rows: 4846\n",
       "})"
      ]
     },
     "execution_count": 8,
     "metadata": {},
     "output_type": "execute_result"
    }
   ],
   "source": [
    "ds"
   ]
  },
  {
   "cell_type": "code",
   "execution_count": 9,
   "metadata": {
    "id": "zajjPQnPL_6b"
   },
   "outputs": [
    {
     "data": {
      "text/plain": [
       "{'sentence': ['Consolidated net sales increased 16 % to reach EUR74 .8 m , while operating profit amounted to EUR0 .9 m compared to a loss of EUR0 .7 m in the prior year period .',\n",
       "  'Foundries division reports its sales increased by 9.7 % to EUR 63.1 mn from EUR 57.5 mn in the corresponding period in 2006 , and sales of the Machine Shop division increased by 16.4 % to EUR 41.2 mn from EUR 35.4 mn in the corresponding period in 2006 .',\n",
       "  \"HELSINKI ( AFX ) - Shares closed higher , led by Nokia after it announced plans to team up with Sanyo to manufacture 3G handsets , and by Nokian Tyres after its fourth-quarter earnings report beat analysts ' expectations , dealers said .\"],\n",
       " 'label': [2, 2, 2]}"
      ]
     },
     "execution_count": 9,
     "metadata": {},
     "output_type": "execute_result"
    }
   ],
   "source": [
    "ds[15:18]"
   ]
  },
  {
   "cell_type": "code",
   "execution_count": 10,
   "metadata": {
    "id": "5-Yo4xe3L_9d"
   },
   "outputs": [],
   "source": [
    "from datasets import ClassLabel\n",
    "import random\n",
    "import pandas as pd\n",
    "from IPython.display import display, HTML"
   ]
  },
  {
   "cell_type": "code",
   "execution_count": 11,
   "metadata": {
    "id": "KQwdjlFaMAAP"
   },
   "outputs": [],
   "source": [
    "def show_random_elements(dataset, num_examples=20):\n",
    "    assert num_examples <= len(dataset), \"Can't pick more elements than there are in the dataset.\"\n",
    "\n",
    "    picks = []\n",
    "\n",
    "    for _ in range( num_examples ):\n",
    "\n",
    "        pick = random.randint(0, len(dataset)-1)\n",
    "        while pick in picks:\n",
    "            pick = random.randint(0, len(dataset)-1)\n",
    "        picks.append(pick)\n",
    "\n",
    "    df = pd.DataFrame( dataset[picks] )        ## indexing 10 picks\n",
    "\n",
    "    print(df)\n",
    "    print(dataset.features.items())\n",
    "\n",
    "    for column, typ in dataset.features.items():\n",
    "        print(column)\n",
    "        print(typ)\n",
    "        print(ClassLabel)\n",
    "        ## The isinstance() function returns True if the specified object\n",
    "        ## is of the specified type, otherwise False\n",
    "        if isinstance(typ, ClassLabel):\n",
    "            print(\"Hello\")\n",
    "            df[column] = df[column].transform(lambda i: typ.names[i])\n",
    "            ## print(typ.names[i])\n",
    "\n",
    "    display(HTML(df.to_html()))"
   ]
  },
  {
   "cell_type": "code",
   "execution_count": 12,
   "metadata": {
    "id": "4eSDBecUMADH"
   },
   "outputs": [
    {
     "name": "stdout",
     "output_type": "stream",
     "text": [
      "                                             sentence  label\n",
      "0   Incap Corporation Stock Exchange Announcement ...      1\n",
      "1   Finnish Bank of +àland reports its operating p...      0\n",
      "2   Stichting Pensioenfonds ABP : 4 118 122 shares...      1\n",
      "3   Simultaneously , Alma Media has purchased a 35...      1\n",
      "4   Profit after taxes was EUR 0.1 mn , compared t...      2\n",
      "5   Glaston , headquartered in Tampere , Finland ,...      2\n",
      "6   The hull of the vessel was built one block at ...      1\n",
      "7   He also mentions that this improvement to the ...      2\n",
      "8   Finnish real estate investor Sponda Plc said o...      1\n",
      "9   Protalix is developing genetically engineered ...      1\n",
      "10  The 5,000 megawatt wind farm being planned in ...      1\n",
      "11  She will succeed Krister Kylas , who has decid...      1\n",
      "12  The other seats would go to Edgar Edmonds , an...      1\n",
      "13  Progress Group , QPR 's representative in Saud...      2\n",
      "14  Tallink claims the watertight doors of both Va...      2\n",
      "15  The above mentioned shareholders will suggest ...      1\n",
      "16  Mr Skogster currently serves as the manager re...      1\n",
      "17  The company feels these leases are prime locat...      2\n",
      "18  Finnish power supply solutions and systems pro...      0\n",
      "19  Earnings per share ( EPS ) were EUR0 .03 , up ...      2\n",
      "dict_items([('sentence', Value(dtype='string', id=None)), ('label', ClassLabel(names=['negative', 'neutral', 'positive'], id=None))])\n",
      "sentence\n",
      "Value(dtype='string', id=None)\n",
      "<class 'datasets.features.features.ClassLabel'>\n",
      "label\n",
      "ClassLabel(names=['negative', 'neutral', 'positive'], id=None)\n",
      "<class 'datasets.features.features.ClassLabel'>\n",
      "Hello\n"
     ]
    },
    {
     "data": {
      "text/html": [
       "<table border=\"1\" class=\"dataframe\">\n",
       "  <thead>\n",
       "    <tr style=\"text-align: right;\">\n",
       "      <th></th>\n",
       "      <th>sentence</th>\n",
       "      <th>label</th>\n",
       "    </tr>\n",
       "  </thead>\n",
       "  <tbody>\n",
       "    <tr>\n",
       "      <th>0</th>\n",
       "      <td>Incap Corporation Stock Exchange Announcement 29 April 2010 at 1 p.m. INVITATION TO A NEWS CONFERENCE ON INCAP 'S INTERIM REPORT Q1-2010 Incap will publish its interim report for January-March 2010 on Wednesday , 5 May 2010 .</td>\n",
       "      <td>neutral</td>\n",
       "    </tr>\n",
       "    <tr>\n",
       "      <th>1</th>\n",
       "      <td>Finnish Bank of +àland reports its operating profit fell to EUR 4.9 mn in the third quarter of 2007 from EUR 5.6 mn in the third quarter of 2006 .</td>\n",
       "      <td>negative</td>\n",
       "    </tr>\n",
       "    <tr>\n",
       "      <th>2</th>\n",
       "      <td>Stichting Pensioenfonds ABP : 4 118 122 shares representing 5.19 % of the share capital and voting rights .</td>\n",
       "      <td>neutral</td>\n",
       "    </tr>\n",
       "    <tr>\n",
       "      <th>3</th>\n",
       "      <td>Simultaneously , Alma Media has purchased a 35 % share of Arena Interactive , a subsidiary of Arena Partners with a focus on mobile solutions development .</td>\n",
       "      <td>neutral</td>\n",
       "    </tr>\n",
       "    <tr>\n",
       "      <th>4</th>\n",
       "      <td>Profit after taxes was EUR 0.1 mn , compared to EUR -0.4 mn the previous year .</td>\n",
       "      <td>positive</td>\n",
       "    </tr>\n",
       "    <tr>\n",
       "      <th>5</th>\n",
       "      <td>Glaston , headquartered in Tampere , Finland , is a growing , international glass technology company .</td>\n",
       "      <td>positive</td>\n",
       "    </tr>\n",
       "    <tr>\n",
       "      <th>6</th>\n",
       "      <td>The hull of the vessel was built one block at a time and Ruukki delivered the plate material for each block as construction progressed .</td>\n",
       "      <td>neutral</td>\n",
       "    </tr>\n",
       "    <tr>\n",
       "      <th>7</th>\n",
       "      <td>He also mentions that this improvement to the service follows the recent expansion of the Finnlines service from Bilbao via Antwerp and Helsinki and from Hull via Helsinki to St. Petersburg .</td>\n",
       "      <td>positive</td>\n",
       "    </tr>\n",
       "    <tr>\n",
       "      <th>8</th>\n",
       "      <td>Finnish real estate investor Sponda Plc said on Wednesday 12 March that it has signed agreements with Danske Bank A-S , Helsinki Branch for a 7-year EUR150m credit facility and with Ilmarinen Mutual Pension Insurance Company for a 7-year EUR50m credit facility .</td>\n",
       "      <td>neutral</td>\n",
       "    </tr>\n",
       "    <tr>\n",
       "      <th>9</th>\n",
       "      <td>Protalix is developing genetically engineered proteins from plant cells .</td>\n",
       "      <td>neutral</td>\n",
       "    </tr>\n",
       "    <tr>\n",
       "      <th>10</th>\n",
       "      <td>The 5,000 megawatt wind farm being planned in Raahe would be built offshore in front of Ruukki 's Raahe Works .</td>\n",
       "      <td>neutral</td>\n",
       "    </tr>\n",
       "    <tr>\n",
       "      <th>11</th>\n",
       "      <td>She will succeed Krister Kylas , who has decided to leave TeliaSonera .</td>\n",
       "      <td>neutral</td>\n",
       "    </tr>\n",
       "    <tr>\n",
       "      <th>12</th>\n",
       "      <td>The other seats would go to Edgar Edmonds , an American with experience of the clothing and retail industry , and Christian Fischer , an Austrian with experience in the winter sports goods business .</td>\n",
       "      <td>neutral</td>\n",
       "    </tr>\n",
       "    <tr>\n",
       "      <th>13</th>\n",
       "      <td>Progress Group , QPR 's representative in Saudi Arabia and North Africa , has signed a framework agreement for a long term strategic relationship with ISE .</td>\n",
       "      <td>positive</td>\n",
       "    </tr>\n",
       "    <tr>\n",
       "      <th>14</th>\n",
       "      <td>Tallink claims the watertight doors of both Vana Tallinn and Regina Baltica , including their electrical systems , are fully in working order .</td>\n",
       "      <td>positive</td>\n",
       "    </tr>\n",
       "    <tr>\n",
       "      <th>15</th>\n",
       "      <td>The above mentioned shareholders will suggest that a monthly salary of EUR 1,400 would be paid for the Board members outside the company .</td>\n",
       "      <td>neutral</td>\n",
       "    </tr>\n",
       "    <tr>\n",
       "      <th>16</th>\n",
       "      <td>Mr Skogster currently serves as the manager responsible for ABB Oy 's system modules for low voltage drives .</td>\n",
       "      <td>neutral</td>\n",
       "    </tr>\n",
       "    <tr>\n",
       "      <th>17</th>\n",
       "      <td>The company feels these leases are prime locations due to several producing formations in the immediate area .</td>\n",
       "      <td>positive</td>\n",
       "    </tr>\n",
       "    <tr>\n",
       "      <th>18</th>\n",
       "      <td>Finnish power supply solutions and systems provider Efore Oyj said its net loss widened to 3.2 mln euro $ 4.2 mln for the first quarter of fiscal 2006-2007 ending October 31 , 2007 from 900,000 euro $ 1.2 mln for the same period of fiscal 2005-06 .</td>\n",
       "      <td>negative</td>\n",
       "    </tr>\n",
       "    <tr>\n",
       "      <th>19</th>\n",
       "      <td>Earnings per share ( EPS ) were EUR0 .03 , up from the loss of EUR0 .083 .</td>\n",
       "      <td>positive</td>\n",
       "    </tr>\n",
       "  </tbody>\n",
       "</table>"
      ],
      "text/plain": [
       "<IPython.core.display.HTML object>"
      ]
     },
     "metadata": {},
     "output_type": "display_data"
    }
   ],
   "source": [
    "show_random_elements(ds)"
   ]
  },
  {
   "cell_type": "code",
   "execution_count": 13,
   "metadata": {
    "id": "PNKEcZj3MAGJ"
   },
   "outputs": [],
   "source": [
    "# ds = ds.rename_columns({\"text\": \"sentence\"})\n",
    "ds = ds.filter(lambda x: len(x[\"sentence\"]) > 200, batched=False)"
   ]
  },
  {
   "cell_type": "code",
   "execution_count": 14,
   "metadata": {
    "id": "CvhiYCylMAJT"
   },
   "outputs": [
    {
     "data": {
      "text/plain": [
       "Dataset({\n",
       "    features: ['sentence', 'label'],\n",
       "    num_rows: 625\n",
       "})"
      ]
     },
     "execution_count": 14,
     "metadata": {},
     "output_type": "execute_result"
    }
   ],
   "source": [
    "ds"
   ]
  },
  {
   "cell_type": "code",
   "execution_count": 15,
   "metadata": {
    "id": "mDU29MVQMAMX"
   },
   "outputs": [],
   "source": [
    "tokenizer           = AutoTokenizer.from_pretrained(config.model_name)\n",
    "tokenizer.pad_token = tokenizer.eos_token"
   ]
  },
  {
   "cell_type": "code",
   "execution_count": 16,
   "metadata": {
    "id": "D8VGDxvUMAPP"
   },
   "outputs": [
    {
     "data": {
      "text/plain": [
       "Dataset({\n",
       "    features: ['sentence', 'label', 'input_ids', 'query'],\n",
       "    num_rows: 625\n",
       "})"
      ]
     },
     "execution_count": 16,
     "metadata": {},
     "output_type": "execute_result"
    }
   ],
   "source": [
    "def tokenize( sample ):\n",
    "    sample[\"input_ids\"] = tokenizer.encode( sample[\"sentence\"]    )[: 20]\n",
    "    sample[\"query\"]     = tokenizer.decode( sample[\"input_ids\"] )\n",
    "    return sample\n",
    "\n",
    "\n",
    "ds = ds.map(tokenize, batched=False)\n",
    "ds"
   ]
  },
  {
   "cell_type": "code",
   "execution_count": 17,
   "metadata": {
    "id": "4ZzvXgb4LzVX"
   },
   "outputs": [
    {
     "data": {
      "text/plain": [
       "{'sentence': [\"Seppala 's revenue increased by 0.2 % to EUR10 .1 m. In Finland , revenue went down by 2.4 % to EUR6 .8 m , while sales abroad rose by 6.2 % to EUR3 .3 m. Sales increased in all the Baltic countries as well as in Russia and Ukraine .\",\n",
       "  \"At the request of Finnish media company Alma Media 's newspapers , research manager Jari Kaivo-oja at the Finland Futures Research Centre at the Turku School of Economics has drawn up a future scenario for Finland 's national economy by using a model developed by the University of Denver .\",\n",
       "  \"`` The new agreement is a continuation to theagreement signed earlier this year with the Lemminkainen Group , whereby Cramo acquired the entire construction machine fleet ofLemminkainen Talo Oy Ita - ja Pohjois Suomo , and signed asimilar agreement , '' said Tatu Hauhio , managing director ofCramo Finland .\"],\n",
       " 'label': [2, 1, 1],\n",
       " 'input_ids': [[0,\n",
       "   14696,\n",
       "   3807,\n",
       "   2331,\n",
       "   128,\n",
       "   29,\n",
       "   903,\n",
       "   1130,\n",
       "   30,\n",
       "   321,\n",
       "   4,\n",
       "   176,\n",
       "   7606,\n",
       "   7,\n",
       "   10353,\n",
       "   698,\n",
       "   479,\n",
       "   134,\n",
       "   475,\n",
       "   4],\n",
       "  [0,\n",
       "   3750,\n",
       "   5,\n",
       "   2069,\n",
       "   9,\n",
       "   21533,\n",
       "   433,\n",
       "   138,\n",
       "   33277,\n",
       "   2454,\n",
       "   128,\n",
       "   29,\n",
       "   9911,\n",
       "   2156,\n",
       "   557,\n",
       "   1044,\n",
       "   344,\n",
       "   1512,\n",
       "   7916,\n",
       "   9697],\n",
       "  [0,\n",
       "   49519,\n",
       "   20,\n",
       "   92,\n",
       "   1288,\n",
       "   16,\n",
       "   10,\n",
       "   18719,\n",
       "   7,\n",
       "   5,\n",
       "   1073,\n",
       "   43563,\n",
       "   1419,\n",
       "   656,\n",
       "   42,\n",
       "   76,\n",
       "   19,\n",
       "   5,\n",
       "   13956,\n",
       "   119]],\n",
       " 'query': [\"<s>Seppala's revenue increased by 0.2 % to EUR10.1 m.\",\n",
       "  \"<s>At the request of Finnish media company Alma Media's newspapers, research manager Jari Kaivo\",\n",
       "  '<s>`` The new agreement is a continuation to theagreement signed earlier this year with the Lemm']}"
      ]
     },
     "execution_count": 17,
     "metadata": {},
     "output_type": "execute_result"
    }
   ],
   "source": [
    "ds[15:18]"
   ]
  },
  {
   "cell_type": "markdown",
   "metadata": {
    "id": "kAfXPV-Mfmwk"
   },
   "source": [
    "### **My own data**"
   ]
  },
  {
   "cell_type": "code",
   "execution_count": 18,
   "metadata": {
    "id": "eUM6KnssLzYE"
   },
   "outputs": [],
   "source": [
    "# my_own_datasets = load_dataset(\"text\", data_files={ \"train\": \"path\", \"validation\": \"path\"} )\n"
   ]
  },
  {
   "cell_type": "code",
   "execution_count": 19,
   "metadata": {
    "id": "tAgq5PjULzas"
   },
   "outputs": [],
   "source": [
    "# my_own_datasets"
   ]
  },
  {
   "cell_type": "markdown",
   "metadata": {
    "id": "bXYr-rYCf6rs"
   },
   "source": [
    "# **Now this for actual RLHF**"
   ]
  },
  {
   "cell_type": "code",
   "execution_count": 20,
   "metadata": {
    "id": "OlgONf58f1yI"
   },
   "outputs": [],
   "source": [
    "def build_dataset(\n",
    "         config,\n",
    "         dataset_name=\"financial_phrasebank\",\n",
    "         input_min_text_length=2,\n",
    "         input_max_text_length=8\n",
    "):\n",
    "    \"\"\"\n",
    "    Build dataset for training. This builds the dataset from `load_dataset`, one should\n",
    "    customize this function to train the model on its own dataset.\n",
    "\n",
    "    Args:\n",
    "        dataset_name (`str`):\n",
    "            The name of the dataset to be loaded.\n",
    "\n",
    "    Returns:\n",
    "        dataloader (`torch.utils.data.DataLoader`):\n",
    "            The dataloader for the dataset.\n",
    "    \"\"\"\n",
    "    tokenizer           = AutoTokenizer.from_pretrained(config.model_name)\n",
    "    tokenizer.pad_token = tokenizer.eos_token\n",
    "\n",
    "    # load imdb with datasets\n",
    "\n",
    "    #ds = load_dataset(dataset_name, split=\"train\")\n",
    "    ds  = load_dataset(dataset_name, 'sentences_50agree', split = \"train\")\n",
    "\n",
    "    #ds = ds.rename_columns({\"text\": \"sentence\"})\n",
    "    ds = ds.filter(lambda x: len(x[\"sentence\"]) > 200, batched=False)\n",
    "\n",
    "    input_size = LengthSampler(input_min_text_length, input_max_text_length)\n",
    "\n",
    "    def tokenize(sample):\n",
    "        sample[\"input_ids\"] = tokenizer.encode( sample[\"sentence\"]    )[: input_size()]\n",
    "        sample[\"query\"]     = tokenizer.decode( sample[\"input_ids\"] )\n",
    "        return sample\n",
    "\n",
    "    ds = ds.map(tokenize, batched=False)\n",
    "    ds.set_format(type=\"torch\")\n",
    "    return ds"
   ]
  },
  {
   "cell_type": "code",
   "execution_count": 21,
   "metadata": {
    "id": "mNYv6J47f10x"
   },
   "outputs": [],
   "source": [
    "dataset = build_dataset(config)\n",
    "# dataset = load_dataset('financial_phrasebank', 'sentences_50agree')"
   ]
  },
  {
   "cell_type": "code",
   "execution_count": 22,
   "metadata": {
    "id": "Q1H4xl34f13h"
   },
   "outputs": [],
   "source": [
    "def collator(data):\n",
    "    return dict((key, [d[key] for d in data]) for key in data[0])"
   ]
  },
  {
   "cell_type": "markdown",
   "metadata": {
    "id": "CBaPoyWIgRRp"
   },
   "source": [
    "# **Load pre-trained GPT2 language models**\n",
    "We load the GPT2 model with a value head and the tokenizer. We load the model twice; the first model is optimized while the second model serves as a reference to calculate the KL-divergence from the starting point. This serves as an additional reward signal in the PPO training to make sure the optimized model does not deviate too much from the original language model."
   ]
  },
  {
   "cell_type": "code",
   "execution_count": 23,
   "metadata": {
    "id": "JuWhUjqjf16V"
   },
   "outputs": [
    {
     "name": "stderr",
     "output_type": "stream",
     "text": [
      "If you want to use `RobertaLMHeadModel` as a standalone, add `is_decoder=True.`\n",
      "Some weights of RobertaForCausalLM were not initialized from the model checkpoint at mrm8488/distilroberta-finetuned-financial-news-sentiment-analysis and are newly initialized: ['lm_head.bias', 'lm_head.decoder.bias', 'lm_head.dense.bias', 'lm_head.dense.weight', 'lm_head.layer_norm.bias', 'lm_head.layer_norm.weight']\n",
      "You should probably TRAIN this model on a down-stream task to be able to use it for predictions and inference.\n",
      "If you want to use `RobertaLMHeadModel` as a standalone, add `is_decoder=True.`\n",
      "Some weights of RobertaForCausalLM were not initialized from the model checkpoint at mrm8488/distilroberta-finetuned-financial-news-sentiment-analysis and are newly initialized: ['lm_head.bias', 'lm_head.decoder.bias', 'lm_head.dense.bias', 'lm_head.dense.weight', 'lm_head.layer_norm.bias', 'lm_head.layer_norm.weight']\n",
      "You should probably TRAIN this model on a down-stream task to be able to use it for predictions and inference.\n"
     ]
    }
   ],
   "source": [
    "model     = AutoModelForCausalLMWithValueHead.from_pretrained(config.model_name)\n",
    "ref_model = AutoModelForCausalLMWithValueHead.from_pretrained(config.model_name)\n",
    "\n",
    "tokenizer = AutoTokenizer.from_pretrained(config.model_name)\n",
    "\n",
    "tokenizer.pad_token = tokenizer.eos_token"
   ]
  },
  {
   "cell_type": "code",
   "execution_count": 24,
   "metadata": {
    "id": "oOlIy5Jif19x"
   },
   "outputs": [
    {
     "name": "stderr",
     "output_type": "stream",
     "text": [
      "Detected kernel version 3.10.0, which is below the recommended minimum of 5.5.0; this can cause the process to hang. It is recommended to upgrade the kernel to the minimum version or higher.\n"
     ]
    }
   ],
   "source": [
    "ppo_trainer = PPOTrainer(\n",
    "                 config,\n",
    "                 model,\n",
    "                 ref_model,\n",
    "                 tokenizer,\n",
    "                 dataset=dataset,\n",
    "                 data_collator=collator\n",
    ")"
   ]
  },
  {
   "cell_type": "markdown",
   "metadata": {
    "id": "0zdIxwb8gfTQ"
   },
   "source": [
    "# **Load BERT classifier (Reward Function)**\n",
    "We load a BERT classifier fine-tuned on the IMDB dataset."
   ]
  },
  {
   "cell_type": "code",
   "execution_count": 25,
   "metadata": {},
   "outputs": [
    {
     "data": {
      "text/plain": [
       "False"
      ]
     },
     "execution_count": 25,
     "metadata": {},
     "output_type": "execute_result"
    }
   ],
   "source": [
    "torch.cuda.is_available()"
   ]
  },
  {
   "cell_type": "code",
   "execution_count": 27,
   "metadata": {},
   "outputs": [],
   "source": [
    "# torch.cuda.get_device_name()"
   ]
  },
  {
   "cell_type": "code",
   "execution_count": 28,
   "metadata": {
    "id": "EhJKsBOrLzdZ"
   },
   "outputs": [
    {
     "data": {
      "text/plain": [
       "device(type='cpu')"
      ]
     },
     "execution_count": 28,
     "metadata": {},
     "output_type": "execute_result"
    }
   ],
   "source": [
    "device = ppo_trainer.accelerator.device\n",
    "device"
   ]
  },
  {
   "cell_type": "code",
   "execution_count": 29,
   "metadata": {
    "id": "Dw1RXF2tLzg5"
   },
   "outputs": [
    {
     "data": {
      "text/plain": [
       "'cpu'"
      ]
     },
     "execution_count": 29,
     "metadata": {},
     "output_type": "execute_result"
    }
   ],
   "source": [
    "if ppo_trainer.accelerator.num_processes == 1:\n",
    "    device = 0 if torch.cuda.is_available() else \"cpu\"  # to avoid a `pipeline` bug\n",
    "\n",
    "device"
   ]
  },
  {
   "cell_type": "code",
   "execution_count": 30,
   "metadata": {
    "id": "uzt8Z7tYgkEo"
   },
   "outputs": [],
   "source": [
    "sentiment_pipe = pipeline(\"sentiment-analysis\", model=\"mrm8488/distilroberta-finetuned-financial-news-sentiment-analysis\", device=device)"
   ]
  },
  {
   "cell_type": "code",
   "execution_count": 31,
   "metadata": {
    "id": "Bfxw7UI1gkIT"
   },
   "outputs": [
    {
     "name": "stderr",
     "output_type": "stream",
     "text": [
      "/home/chavan7/.local/lib/python3.8/site-packages/transformers/pipelines/text_classification.py:104: UserWarning: `return_all_scores` is now deprecated,  if want a similar functionality use `top_k=None` instead of `return_all_scores=True` or `top_k=1` instead of `return_all_scores=False`.\n",
      "  warnings.warn(\n"
     ]
    },
    {
     "data": {
      "text/plain": [
       "[[{'label': 'negative', 'score': 4.749904155731201},\n",
       "  {'label': 'neutral', 'score': -2.4718210697174072},\n",
       "  {'label': 'positive', 'score': -2.789074420928955}]]"
      ]
     },
     "execution_count": 31,
     "metadata": {},
     "output_type": "execute_result"
    }
   ],
   "source": [
    "text = \"Operating profit totaled EUR 9.4 mn , down from EUR 11.7 mn in 2004 .\"   \n",
    "\n",
    "sentiment_pipe(text, **sent_kwargs)"
   ]
  },
  {
   "cell_type": "code",
   "execution_count": 32,
   "metadata": {
    "id": "9Ag-NV5agkL3"
   },
   "outputs": [
    {
     "data": {
      "text/plain": [
       "[[{'label': 'negative', 'score': -2.473881244659424},\n",
       "  {'label': 'neutral', 'score': -3.440216302871704},\n",
       "  {'label': 'positive', 'score': 6.057607650756836}]]"
      ]
     },
     "execution_count": 32,
     "metadata": {},
     "output_type": "execute_result"
    }
   ],
   "source": [
    "text = \"In the third quarter of 2010 , net sales increased by 5.2 % to EUR 205.5 mn , and operating profit by 34.9 % to EUR 23.5 mn .\"  \n",
    "\n",
    "sentiment_pipe(text, **sent_kwargs)"
   ]
  },
  {
   "cell_type": "code",
   "execution_count": 33,
   "metadata": {},
   "outputs": [
    {
     "data": {
      "text/plain": [
       "[[{'label': 'negative', 'score': 4.775065898895264},\n",
       "  {'label': 'neutral', 'score': -2.3186452388763428},\n",
       "  {'label': 'positive', 'score': -2.8229196071624756}]]"
      ]
     },
     "execution_count": 33,
     "metadata": {},
     "output_type": "execute_result"
    }
   ],
   "source": [
    "text = \"Pharmaceuticals group Orion Corp reported a fall in its third-quarter earnings that were hit by larger expenditures on R&D and marketing .\"  \n",
    "\n",
    "sentiment_pipe(text, **sent_kwargs)"
   ]
  },
  {
   "cell_type": "code",
   "execution_count": 34,
   "metadata": {},
   "outputs": [
    {
     "data": {
      "text/plain": [
       "[[{'label': 'negative', 'score': -4.264527320861816},\n",
       "  {'label': 'neutral', 'score': 4.1889967918396},\n",
       "  {'label': 'positive', 'score': 0.7380496859550476}]]"
      ]
     },
     "execution_count": 34,
     "metadata": {},
     "output_type": "execute_result"
    }
   ],
   "source": [
    "text = \"When this investment is in place , Atria plans to expand into the Moscow market .\"  \n",
    "\n",
    "sentiment_pipe(text, **sent_kwargs)"
   ]
  },
  {
   "cell_type": "markdown",
   "metadata": {
    "id": "rjfbj3MXg420"
   },
   "source": [
    "# **Generation settings**\n",
    "For the response generation we just use sampling and make sure top-k and nucleus sampling are turned off as well as a minimal length."
   ]
  },
  {
   "cell_type": "code",
   "execution_count": 35,
   "metadata": {
    "id": "Mc-J7uOFgkPg"
   },
   "outputs": [],
   "source": [
    "gen_kwargs = {\n",
    "         \"min_length\":   -1,\n",
    "         \"top_k\":       0.0,\n",
    "         \"top_p\":       1.0,\n",
    "         \"do_sample\":  True,\n",
    "         \"pad_token_id\": tokenizer.eos_token_id\n",
    "}"
   ]
  },
  {
   "cell_type": "markdown",
   "metadata": {
    "id": "-OJ0OFDLhBH6"
   },
   "source": [
    "# **Optimize model**\n",
    "### **Training loop**\n",
    "The training loop consists of the following main steps:\n",
    "\n",
    "*   Get the query and responses from the policy network (GPT-2)\n",
    "*   Get sentiments for query/responses from BERT\n",
    "*   Optimize policy with PPO using the (query, response, reward) triplet"
   ]
  },
  {
   "cell_type": "code",
   "execution_count": 36,
   "metadata": {
    "id": "GwB7O8Ktg7Zp"
   },
   "outputs": [],
   "source": [
    "output_min_length     = 4\n",
    "output_max_length     = 16\n",
    "output_length_sampler = LengthSampler(output_min_length, output_max_length)"
   ]
  },
  {
   "cell_type": "code",
   "execution_count": 37,
   "metadata": {
    "id": "X_KUeJBIg7fD"
   },
   "outputs": [],
   "source": [
    "generation_kwargs = {\n",
    "    \"min_length\":     -1,\n",
    "    \"top_k\":         0.0,\n",
    "    \"top_p\":         1.0,\n",
    "    \"do_sample\":    True,\n",
    "    \"pad_token_id\": tokenizer.eos_token_id,\n",
    "}"
   ]
  },
  {
   "cell_type": "code",
   "execution_count": 38,
   "metadata": {
    "id": "RtPBJR-1g7iM"
   },
   "outputs": [
    {
     "data": {
      "text/plain": [
       "20000"
      ]
     },
     "execution_count": 38,
     "metadata": {},
     "output_type": "execute_result"
    }
   ],
   "source": [
    "## ppo_trainer.config.steps = 100    ## 20,000\n",
    "ppo_trainer.config.steps"
   ]
  },
  {
   "cell_type": "code",
   "execution_count": 39,
   "metadata": {
    "id": "9MAO75zDg7mB"
   },
   "outputs": [
    {
     "name": "stderr",
     "output_type": "stream",
     "text": [
      "1it [00:00, 11.19it/s]"
     ]
    },
    {
     "name": "stdout",
     "output_type": "stream",
     "text": [
      "[tensor([    0,   597,  5246,  1173, 24753, 18419]), tensor([   0,  133, 9368,  128,   29, 8610]), tensor([    0, 14836]), tensor([   0,  597, 5246]), tensor([   0, 1640, 4516,  510,  491, 4839,  111]), tensor([  0, 597]), tensor([    0, 17986]), tensor([  0, 133]), tensor([   0,  133, 3457, 2156, 2964]), tensor([   0,  597, 5246, 1173, 3296]), tensor([   0,  250, 4779, 2186]), tensor([    0, 14229,     5,   375,  2202,    24,    34]), tensor([    0,   725, 16416, 23617,   100]), tensor([    0, 15685,   128,    29,   299, 11255,  6738]), tensor([   0, 1640, 4516,  510,  491, 4839]), tensor([    0, 41858,   138,  4832,   255,  5810]), tensor([   0, 5320, 4330, 2271, 2527]), tensor([  0, 133]), tensor([   0, 2606,  510, 2926]), tensor([    0, 24476,   168,  7236]), tensor([    0,   133,  4069,     9,    70,   518, 10298]), tensor([    0,   133,   786,    12, 13139]), tensor([    0,   597,  5246,  1173, 11767,  2643,  6596]), tensor([    0, 41024, 18366,   468]), tensor([    0, 31161]), tensor([   0,  597, 5246, 1173]), tensor([   0,  597, 5246]), tensor([    0, 36735,  4832,  2156]), tensor([  0, 597]), tensor([   0, 3908,    5,   92,  931, 2195]), tensor([    0,   725,   791, 14469,  2620]), tensor([    0,   133, 21533,   168,   585]), tensor([    0,  6433,  3850, 10370, 42204]), tensor([    0, 11350, 10612,  5969, 39261,    12]), tensor([   0, 1225,  830]), tensor([    0,   597,  5246,  1173, 32902]), tensor([  0, 133]), tensor([    0, 25546]), tensor([    0,   597,  5246,  1173,  7746,   462, 10544]), tensor([   0,  597, 5246, 1173,  613]), tensor([   0,  243,  554,   19, 2257]), tensor([   0,  565, 5810]), tensor([    0,   133, 38507]), tensor([    0, 47380,  1161,   647,    31,     5, 12168]), tensor([  0, 996]), tensor([   0, 1640]), tensor([  0, 597]), tensor([    0, 15791,  6407,    34,   411]), tensor([   0, 2481,  644]), tensor([    0,   133,  5448, 14258]), tensor([    0, 23565,   783,    16,   546,     7,  3754]), tensor([   0,  597, 5246, 1173, 5516, 1743]), tensor([   0,  487, 3109,  636]), tensor([   0,  133, 1355,   67, 1171, 3931]), tensor([  0, 133]), tensor([    0, 12271,  4358,     8,  6955]), tensor([    0,   530,  1439, 18649, 19938]), tensor([    0, 14693]), tensor([   0,  597, 5246, 1173,  827]), tensor([  0, 134]), tensor([   0,  133, 3566]), tensor([    0,   133, 15785,  4071,    33,  3978]), tensor([    0, 37729,   271,  7223,  2156,   854,  2068]), tensor([    0, 11350, 10612]), tensor([   0,  347, 5384, 1242, 3204]), tensor([   0,  133, 2676]), tensor([    0, 44002,    11,  3503,    21]), tensor([   0,  487, 1988, 3019]), tensor([    0, 10169,  4235,   330,  3852,   817]), tensor([    0,   133,   138,    26,  4995, 12460]), tensor([    0, 33939,  3855,  1797]), tensor([    0, 20420,  1295,  1963]), tensor([    0, 29991,  4458,  2757]), tensor([   0,  133, 2319,  923,    9]), tensor([    0,  2744, 29254]), tensor([   0, 1640, 4516]), tensor([    0, 49519,    20, 31417]), tensor([   0, 1121,   10,  485, 1194,   19,    5]), tensor([  0, 717]), tensor([    0,   565,  1250,  4291,  8897,  1910, 16763]), tensor([    0, 20689, 18121]), tensor([    0, 24789,   545,   550]), tensor([    0,   487, 13967,  4541,    26,    24,    40]), tensor([    0,  1121, 10906, 15739, 12047,  1820]), tensor([    0,   306,   902,  1466,   111, 21533]), tensor([    0, 16837,  1839,    67,  4865,   400]), tensor([    0, 46717]), tensor([    0, 49519,   166,    40,   535,     7]), tensor([  0, 530]), tensor([    0, 22862,  2644]), tensor([    0, 22086,     7]), tensor([    0, 44084]), tensor([    0, 28873,  1902,     9,   800,  7000]), tensor([   0,  133, 6994,   26,   63]), tensor([  0, 250]), tensor([   0, 1640, 4516]), tensor([   0, 4993, 5687,    9,    5, 3857]), tensor([    0,   133, 21533,   138,  1088,    63]), tensor([  0, 698, 902]), tensor([    0, 33477,   545,   494,  1824]), tensor([    0, 43787,   268,    26,     5,   458]), tensor([   0, 4444,  846]), tensor([    0,   133, 20785, 40556,  2835,  1523, 13154]), tensor([   0, 2606,  510]), tensor([    0, 10494,   128]), tensor([    0, 14559]), tensor([    0, 10653,  1999,  3037]), tensor([   0,  597, 5246]), tensor([   0, 2118, 6725, 5945,  500, 2889]), tensor([   0, 1620,    5,  232,  917,   11]), tensor([   0, 7083, 1916, 2454]), tensor([    0,  1121, 10906,  2824,  3412,  3080, 15781]), tensor([    0, 49519,    20,  2175,  4366, 22715,    31]), tensor([    0, 48767,   102,    34,   931]), tensor([    0, 36417, 13967,   128]), tensor([   0, 1121]), tensor([    0, 11108, 21676,  2175]), tensor([   0, 1640]), tensor([    0, 19877, 42292,   384]), tensor([    0,   133, 29147,   104, 30445]), tensor([    0, 14693,     7, 21533]), tensor([    0, 47559,   680,  7653]), tensor([   0,  574, 4989,  362, 1998]), tensor([    0, 22886,  1641,   354, 46707, 16613,  3593]), tensor([    0, 22086,     7]), tensor([  0, 597]), tensor([   0, 4148,    5, 1453,    9]), tensor([    0, 20839,     5])]\n",
      "128\n",
      "[tensor([   0,  597, 5246, 1173]), tensor([  0, 133, 265,  34, 647,   9]), tensor([   0, 2895]), tensor([   0,  597, 5246, 1173]), tensor([    0,   133, 22873,    11,    63]), tensor([    0, 14693]), tensor([   0,  597, 5246]), tensor([    0, 14465,   975, 16802,   221]), tensor([    0,   565,  5810,   139,    11, 27749,    16]), tensor([   0,  133, 2443,  606,   80]), tensor([    0,   605,  1344,  8757,  7606, 10502,   883]), tensor([   0,  597, 9968,   11]), tensor([   0,  134,  587, 1466,  111]), tensor([   0, 1922]), tensor([    0, 11321, 17692,    11,  6193]), tensor([   0,  597, 5246, 1173]), tensor([  0, 133]), tensor([    0, 23031, 22714,  1001,  2543,  3291]), tensor([    0, 14693,     7,     5,   138]), tensor([    0,   133,   418,    40,    28,  1240, 45518]), tensor([   0,  597, 5246]), tensor([    0, 14696,  3807,  2331,   128,    29]), tensor([   0,  448, 2580,  102]), tensor([   0, 1244]), tensor([   0,  597, 5246, 1173, 1663]), tensor([    0, 31004,   811,   786,    12,  7699]), tensor([    0, 34311]), tensor([    0, 38741,   467,  9509, 12169]), tensor([    0,   487, 11200,  2371, 29915]), tensor([  0, 282]), tensor([    0, 27814,  3760,  3206]), tensor([  0, 398]), tensor([    0,   541,   759,  2338,   111, 21533]), tensor([    0,  3972,  3042, 32992,  3247,  1330,     7]), tensor([   0, 2481,  644, 1466,  111]), tensor([    0, 12905, 10318]), tensor([    0,   725,   791, 14469,  2620,  7140,   100]), tensor([   0,  597, 5246, 1173, 3689, 4403,  248]), tensor([    0, 17986,   462, 10544]), tensor([    0, 49519, 12786,   242,  4541]), tensor([    0, 15721,   647,     9, 21533,   764]), tensor([  0, 133]), tensor([    0, 28152]), tensor([  0, 597]), tensor([    0, 10285,   186,  2156,     5]), tensor([    0,    29, 14680,  3223, 23765]), tensor([   0, 1360,  494, 1466,  111, 6765, 8922]), tensor([    0,   347, 12019,     7,     5,  5405]), tensor([    0, 19923,  2963]), tensor([   0,  133, 1288,   21]), tensor([    0,   597,  5246,  1173, 28104]), tensor([    0, 14693,     7, 21533,  1911]), tensor([  0, 133]), tensor([   0,  597, 5246, 1173,  476]), tensor([    0, 49519]), tensor([    0, 40529, 42310,  2156,   312,     4]), tensor([   0,  133, 5195,   34, 2740]), tensor([    0, 49519,  4028,    76,  2156,  1081]), tensor([    0,   597,  5246,  1173, 11451,   414,  4358]), tensor([  0, 597]), tensor([   0,  401,  779, 1824]), tensor([    0, 34027,  1245,   128,    29]), tensor([   0,  975, 2068]), tensor([   0,  133, 3689, 5406]), tensor([  0, 246, 902]), tensor([    0,  4741, 21953,  1503,    16,   145]), tensor([   0,  347, 4040,  139,  128,   29]), tensor([    0, 34027,  1245,    12]), tensor([    0, 14693,     7,    41]), tensor([   0,  406,  494, 1466,  111]), tensor([    0, 46769,  5516,   785,   680]), tensor([   0,  250, 4779, 2186,    7, 1702, 5374]), tensor([    0,  4794,   104,  6282, 17088,    34,    57]), tensor([   0,  133, 2087,    9,    5,  695]), tensor([  0, 597]), tensor([    0, 29891,  3293,  3586,   384]), tensor([  0, 133, 568,   7]), tensor([   0, 2606,  510]), tensor([   0,  179, 1209,  134, 1824,  504,  392]), tensor([  0, 133, 381]), tensor([    0,   597,  5246,  1173, 32053,     8,  2225]), tensor([   0,  597, 5246, 1173, 2859,   12, 4903]), tensor([    0, 35469]), tensor([    0, 15791]), tensor([   0,  134,  181,    4,  119,    4, 1505]), tensor([   0,  347, 5174,   21, 2885,   15]), tensor([    0, 25869,  2527, 17311,   267]), tensor([   0, 1640, 4516]), tensor([    0,  1121, 27815,    19,     5]), tensor([   0,  133, 9367,   16]), tensor([    0,   133, 23253,    12,   805]), tensor([   0, 2481,  779]), tensor([    0,   597,  5246,  1173,  3296, 18121]), tensor([    0, 10105, 14300,   531,    28, 14267]), tensor([    0, 46170, 13548, 29915, 28275,  7857]), tensor([    0, 17245,     5,  1288, 40109]), tensor([    0, 17245,     5,  1110,     9,     5,   160]), tensor([    0, 18348,  8063]), tensor([   0,  597, 5246, 1173,  184]), tensor([  0, 844, 779]), tensor([    0,   487, 13967,  4541,  1913,     4,    34]), tensor([   0, 4148,    5]), tensor([    0, 20930,    15,     5,    78]), tensor([   0,  133,  138, 4542,  916]), tensor([   0,  597, 5246, 1173]), tensor([   0, 1244,  759]), tensor([    0, 20981, 42987, 44581, 17311,   267,   579]), tensor([    0,  2336, 14465,  3037,   438,  4062, 13181]), tensor([    0,   133, 36007,  2156,  4241,    19,     5]), tensor([    0,   597,  5246,  1173,  3942, 24753, 18419]), tensor([    0,  1620, 36692]), tensor([    0,   597,  5246,  1173,  5195, 14533,  2456]), tensor([    0,   347,   868, 14675,  5778]), tensor([  0, 133]), tensor([    0,  2890,   772,  2156,  1824, 21533]), tensor([    0, 45356,    29]), tensor([    0,   597,  5246,  1173, 28630]), tensor([   0,  597, 5246, 1173]), tensor([   0,  597, 5246]), tensor([    0,   844,   779,  1824,   111, 21533]), tensor([   0,  133,  758, 5175,  539,  138]), tensor([    0,   133,  5195,  2319,    14,     5, 16064]), tensor([    0,   597,  5246,  1173, 28630,   885,  2001]), tensor([   0,  597, 5246]), tensor([   0,  133, 4103]), tensor([  0, 597]), tensor([    0,   133,   458,   696,  2156, 47158]), tensor([    0, 12582, 11192,  3037])]\n",
      "128\n"
     ]
    },
    {
     "name": "stderr",
     "output_type": "stream",
     "text": [
      "\n"
     ]
    }
   ],
   "source": [
    "for epoch, batch in tqdm(enumerate(ppo_trainer.dataloader)):\n",
    "    query_tensors = batch[\"input_ids\"]\n",
    "\n",
    "    print(query_tensors)\n",
    "    print(len(query_tensors))\n",
    "    if epoch == 1:\n",
    "        break"
   ]
  },
  {
   "cell_type": "code",
   "execution_count": 40,
   "metadata": {
    "id": "2bJj-2PyLznl"
   },
   "outputs": [
    {
     "name": "stderr",
     "output_type": "stream",
     "text": [
      "\r",
      "0it [00:00, ?it/s]"
     ]
    },
    {
     "name": "stdout",
     "output_type": "stream",
     "text": [
      "0\n",
      "{'label': [tensor(2), tensor(1), tensor(2), tensor(0), tensor(1), tensor(1), tensor(1), tensor(1), tensor(1), tensor(1), tensor(2), tensor(2), tensor(0), tensor(1), tensor(1), tensor(2), tensor(2), tensor(1), tensor(2), tensor(2), tensor(2), tensor(1), tensor(1), tensor(1), tensor(1), tensor(1), tensor(0), tensor(2), tensor(1), tensor(1), tensor(1), tensor(2), tensor(2), tensor(1), tensor(1), tensor(1), tensor(1), tensor(1), tensor(1), tensor(0), tensor(2), tensor(0), tensor(1), tensor(2), tensor(2), tensor(1), tensor(2), tensor(2), tensor(1), tensor(1), tensor(2), tensor(2), tensor(0), tensor(1), tensor(0), tensor(0), tensor(1), tensor(2), tensor(1), tensor(2), tensor(1), tensor(1), tensor(2), tensor(2), tensor(1), tensor(1), tensor(2), tensor(0), tensor(1), tensor(1), tensor(1), tensor(2), tensor(1), tensor(2), tensor(1), tensor(2), tensor(0), tensor(1), tensor(1), tensor(0), tensor(1), tensor(1), tensor(1), tensor(2), tensor(1), tensor(2), tensor(2), tensor(1), tensor(0), tensor(1), tensor(2), tensor(1), tensor(1), tensor(1), tensor(2), tensor(0), tensor(1), tensor(1), tensor(1), tensor(2), tensor(2), tensor(2), tensor(1), tensor(1), tensor(1), tensor(0), tensor(2), tensor(1), tensor(2), tensor(1), tensor(1), tensor(0), tensor(1), tensor(1), tensor(1), tensor(0), tensor(0), tensor(1), tensor(2), tensor(2), tensor(1), tensor(1), tensor(2), tensor(0), tensor(2), tensor(1), tensor(1), tensor(1)], 'input_ids': [tensor([  0, 597]), tensor([    0, 28873,  1902,     9,   800,  7000]), tensor([    0, 24789,   545,   550]), tensor([    0, 42450, 18419,  2156]), tensor([   0,  133, 9367,   16]), tensor([   0, 1779,   92, 3505,    9]), tensor([    0, 25869,  2527, 17311,   267]), tensor([  0, 133, 265,  34, 647,   9]), tensor([    0,   133,  5448, 14258]), tensor([   0, 1620,   10,  233,    9,    5,  563]), tensor([    0,   530,  1439, 18649, 19938]), tensor([   0,  597, 5246]), tensor([   0,  597, 5246, 1173]), tensor([   0, 9634]), tensor([    0,   133,  3627,  3977, 11372]), tensor([    0,   133, 21533,  9509,     9,   163,  8108]), tensor([    0, 49519,   572,     5,   458,  2229,    16]), tensor([   0, 2118, 6725, 5945,  500, 2889]), tensor([    0,   597,  5246,  1173,  5195, 14533,  2456]), tensor([   0,  597, 5246]), tensor([    0,  6433,  3850, 10370, 42204]), tensor([  0, 133]), tensor([    0, 17245,     5,  1288,  2156, 14475]), tensor([  0, 725, 134, 128]), tensor([   0,  133, 1355,   67, 1171, 3931]), tensor([    0,  1121, 10753,    19,     5,  1110]), tensor([   0,  133, 1281, 1463,   26,  656]), tensor([    0,   597,  5246,  1173, 11451,   414,  4358]), tensor([   0,  487, 1988, 3019]), tensor([   0,  306,  644, 1466,  111]), tensor([    0, 16215]), tensor([    0,  2890,   772,  2156,  1824, 21533]), tensor([    0,  2518,   644,  1466,   111, 21533]), tensor([    0, 10105, 14300,   531,    28, 14267]), tensor([   0,  250, 4779, 2186,    7, 1702, 5374]), tensor([   0,  133, 2968]), tensor([   0,  996,  759, 1824,  111]), tensor([   0,  597, 9968,   11]), tensor([   0,  565, 3204, 3654, 5314,  128,   29]), tensor([   0,  597, 5246, 1173,  476]), tensor([   0, 1640]), tensor([  0, 844, 779]), tensor([    0, 20839,     5]), tensor([    0, 35469]), tensor([   0, 2517,  779]), tensor([    0, 17986,   462]), tensor([    0, 49519, 27617,    12]), tensor([   0, 2709,    5,  455, 1824]), tensor([    0, 35846,  8722, 12578,   858,  4412]), tensor([    0, 21674,  4801,  7606,     9,  7652]), tensor([   0,  597, 5246, 1173, 3779]), tensor([    0, 14696,  3807,  2331,   128,    29]), tensor([    0, 19877, 42292,   384]), tensor([  0, 250, 746,   9]), tensor([    0,   541,   759,  2338,   111, 21533]), tensor([   0, 4993, 8049]), tensor([    0, 14693,     7,  1152,  1044,   226, 23838]), tensor([    0, 11350, 10612,  5969, 39261,    12]), tensor([   0, 2606,  510,  491,  111]), tensor([    0,   574,  7073,   991, 26695,    12]), tensor([  0, 133,  97,  80]), tensor([    0,   725,   791, 14469,  2620]), tensor([    0, 40258, 10680,  2824,   388]), tensor([    0, 10285,   186,  2156,     5]), tensor([   0, 1640]), tensor([    0, 10653,  1999,  3037]), tensor([    0, 20981, 42987, 44581, 17311,   267,   579]), tensor([   0, 1640, 4516,  510, 2926, 4839]), tensor([    0, 41041,  2963,     9]), tensor([    0, 27693,   248]), tensor([    0, 34027,  1245,    12,   805]), tensor([   0, 1640, 4516,  510,  491, 4839]), tensor([    0,   133,   266, 11729]), tensor([   0,  597, 5246, 1173, 3296]), tensor([  0, 250]), tensor([    0, 14693,     7,     5,   138]), tensor([   0,  597, 5246, 1173, 2257,    8]), tensor([    0,   574,  4524,    36, 17491,  1000,  4839]), tensor([   0, 2118, 6725, 5945,  500, 2889, 2156]), tensor([   0,  597, 5246, 1173]), tensor([   0,  448, 2580,  102]), tensor([   0, 9300, 7136, 9363, 1729, 6335,   36]), tensor([   0,  133, 7453]), tensor([    0,   487, 43946]), tensor([   0,  133,  343,   40, 9603, 2156]), tensor([  0, 717]), tensor([  0, 597]), tensor([   0,  597, 5246, 1173]), tensor([    0,   133,  5195,  2319,    14,     5, 16064]), tensor([   0,  574, 4989,  362, 1998]), tensor([   0,  250, 2229, 1288,   13,  262,    6]), tensor([  0, 246, 644]), tensor([    0,   347, 12019,     7,     5,  5405]), tensor([  0, 597]), tensor([    0, 42395,  2156,  1442,  2630]), tensor([  0, 133]), tensor([  0, 133]), tensor([    0, 22886,  1641,   354, 46707, 16613,  3593]), tensor([    0, 11321, 17692,    11,  6193]), tensor([    0, 15685,   128,    29,   299, 11255,  6738]), tensor([   0,  597, 5246, 1173, 3779, 2643, 3696]), tensor([    0,   133,  4069,     9,    70,   518, 10298]), tensor([    0, 49519, 33502]), tensor([  0, 597]), tensor([    0,   725,  2507, 46524,   753,   392]), tensor([    0, 47380,  1161,   647,    31,     5, 12168]), tensor([    0,   725, 16416, 23617,   100]), tensor([    0, 14693,     7,  6104]), tensor([    0, 32604,   282,  1115,   718,  1020]), tensor([  0, 133]), tensor([    0, 49519,    20,   539]), tensor([   0,  597, 5246, 1173]), tensor([   0,  133, 2195,   16, 1768,   13]), tensor([    0,   717, 13364,   128,    29,  1324,  1223]), tensor([   0,  597, 5246]), tensor([   0,  133, 2443]), tensor([   0, 2606,  510]), tensor([   0, 4030, 3534, 2156, 1927,    4,  316]), tensor([    0,   104,  7747,  2156, 12587,  2156]), tensor([  0, 282]), tensor([  0, 170, 146]), tensor([    0, 49519]), tensor([    0,   133, 34517,  2156,   576]), tensor([   0, 1640, 4516,  510,  491, 4839,  111]), tensor([   0,  133, 8183, 6670,   10,   55]), tensor([    0, 41858,   138,  4832,   255,  5810]), tensor([   0, 1121, 1285,    7,    5]), tensor([  0, 243,  16])], 'query': ['<s>F', '<s>Headline of release dated', '<s>2010 16 July', '<s>Scanfil,', '<s>The mall is', '<s>When new types of', '<s>Metso Oyj', '<s>The business has sales of', '<s>The method util', '<s>As a part of the plan', '<s>Kai Tulonen', '<s>Finn', '<s>Finnish', '<s>West', '<s>The ship cranes', '<s>The Finnish supplier of BSS', '<s>`` After the share purchase is', '<s>ALEXANDRIA', '<s>Finnish airline Finnair', '<s>Finn', '<s>TELECOMWOR', '<s>The', '<s>Under the agreement, Pf', \"<s>H1 '\", '<s>The contract also includes cutting', '<s>In accordance with the terms', '<s>The EU Commission said earlier', '<s>Finnish broadband data communication', '<s>Nastola', '<s>4 January 2011 -', '<s>Te', '<s>29 September, 2010 Finnish', '<s>27 January 2011 - Finnish', '<s>Because expenditures must be justified', '<s>Aldata to Share Space', '<s>The pl', '<s>15 November 2010 -', '<s>Founded in', \"<s>Tecnotree's\", '<s>Finnish power', '<s>(', '<s>20 October', '<s>Following the', '<s>Within', '<s>28 October', '<s>Ahl', '<s>`` Indo-', '<s>For the full 2010', '<s>Honkarakenne mainly', '<s>About 72 % of Ev', '<s>Finnish IT', \"<s>Seppala's\", '<s>Belarus O', '<s>A total of', '<s>30 November 2009 - Finnish', '<s>After Chuck', '<s>According to product manager Lassi', '<s>MANAVIGATOR-', '<s>ADP News -', '<s>Luxembourg-', '<s>The other two', '<s>HUHTAM', '<s>Basware Corporation stock', '<s>Last week, the', '<s>(', '<s>Proha Pl', '<s>GeoSentric Oyj s', '<s>( ADPnews )', '<s>Apartments of', '<s>Jon R', '<s>Finland-based', '<s>( ADP News )', '<s>The report profiles', '<s>Finnish Su', '<s>A', '<s>According to the company', '<s>Finnish software and', '<s>LONDON ( AFX )', '<s>ALEXANDRIA,', '<s>Finnish', '<s>Metsa', '<s>SAN FRANCISCO (', '<s>The Annual', '<s>Nokia', '<s>The city will invite,', '<s>E', '<s>F', '<s>Finnish', '<s>The airline estimated that the cancellation', '<s>Luna took fifth', '<s>A purchase agreement for 7,', '<s>3 January', '<s>Calls to the switch', '<s>F', '<s>Furthermore, Novator', '<s>The', '<s>The', '<s>Intellisync Wireless Email', '<s>Since inception in 1999', \"<s>Russia's top container shipping\", '<s>Finnish IT solutions provider', '<s>The combination of all services enabling', '<s>`` EB', '<s>F', '<s>Helsinki 19 May', '<s>External net sales from the printing', '<s>HELSINKI', '<s>According to preliminary', '<s>Kalnapilio', '<s>The', '<s>`` The industry', '<s>Finnish', '<s>The plant is scheduled for', \"<s>Efore's CEO Re\", '<s>Finn', '<s>The announcement', '<s>ADP', '<s>New Delhi, Feb. 12', '<s>Salo, Finland,', '<s>n', '<s>We make', '<s>``', '<s>The antibody, given', '<s>( ADP News ) -', '<s>The restructuring creates a more', '<s>Target company : Tiet', '<s>In addition to the', '<s>It is']}\n",
      "*********************\n",
      "*********************\n",
      "*********************\n",
      "*********************\n"
     ]
    },
    {
     "name": "stderr",
     "output_type": "stream",
     "text": [
      "\r",
      "1it [02:18, 138.83s/it]"
     ]
    },
    {
     "name": "stdout",
     "output_type": "stream",
     "text": [
      "{'label': [tensor(2), tensor(1), tensor(2), tensor(0), tensor(1), tensor(1), tensor(1), tensor(1), tensor(1), tensor(1), tensor(2), tensor(2), tensor(0), tensor(1), tensor(1), tensor(2), tensor(2), tensor(1), tensor(2), tensor(2), tensor(2), tensor(1), tensor(1), tensor(1), tensor(1), tensor(1), tensor(0), tensor(2), tensor(1), tensor(1), tensor(1), tensor(2), tensor(2), tensor(1), tensor(1), tensor(1), tensor(1), tensor(1), tensor(1), tensor(0), tensor(2), tensor(0), tensor(1), tensor(2), tensor(2), tensor(1), tensor(2), tensor(2), tensor(1), tensor(1), tensor(2), tensor(2), tensor(0), tensor(1), tensor(0), tensor(0), tensor(1), tensor(2), tensor(1), tensor(2), tensor(1), tensor(1), tensor(2), tensor(2), tensor(1), tensor(1), tensor(2), tensor(0), tensor(1), tensor(1), tensor(1), tensor(2), tensor(1), tensor(2), tensor(1), tensor(2), tensor(0), tensor(1), tensor(1), tensor(0), tensor(1), tensor(1), tensor(1), tensor(2), tensor(1), tensor(2), tensor(2), tensor(1), tensor(0), tensor(1), tensor(2), tensor(1), tensor(1), tensor(1), tensor(2), tensor(0), tensor(1), tensor(1), tensor(1), tensor(2), tensor(2), tensor(2), tensor(1), tensor(1), tensor(1), tensor(0), tensor(2), tensor(1), tensor(2), tensor(1), tensor(1), tensor(0), tensor(1), tensor(1), tensor(1), tensor(0), tensor(0), tensor(1), tensor(2), tensor(2), tensor(1), tensor(1), tensor(2), tensor(0), tensor(2), tensor(1), tensor(1), tensor(1)], 'input_ids': [tensor([  0, 597]), tensor([    0, 28873,  1902,     9,   800,  7000]), tensor([    0, 24789,   545,   550]), tensor([    0, 42450, 18419,  2156]), tensor([   0,  133, 9367,   16]), tensor([   0, 1779,   92, 3505,    9]), tensor([    0, 25869,  2527, 17311,   267]), tensor([  0, 133, 265,  34, 647,   9]), tensor([    0,   133,  5448, 14258]), tensor([   0, 1620,   10,  233,    9,    5,  563]), tensor([    0,   530,  1439, 18649, 19938]), tensor([   0,  597, 5246]), tensor([   0,  597, 5246, 1173]), tensor([   0, 9634]), tensor([    0,   133,  3627,  3977, 11372]), tensor([    0,   133, 21533,  9509,     9,   163,  8108]), tensor([    0, 49519,   572,     5,   458,  2229,    16]), tensor([   0, 2118, 6725, 5945,  500, 2889]), tensor([    0,   597,  5246,  1173,  5195, 14533,  2456]), tensor([   0,  597, 5246]), tensor([    0,  6433,  3850, 10370, 42204]), tensor([  0, 133]), tensor([    0, 17245,     5,  1288,  2156, 14475]), tensor([  0, 725, 134, 128]), tensor([   0,  133, 1355,   67, 1171, 3931]), tensor([    0,  1121, 10753,    19,     5,  1110]), tensor([   0,  133, 1281, 1463,   26,  656]), tensor([    0,   597,  5246,  1173, 11451,   414,  4358]), tensor([   0,  487, 1988, 3019]), tensor([   0,  306,  644, 1466,  111]), tensor([    0, 16215]), tensor([    0,  2890,   772,  2156,  1824, 21533]), tensor([    0,  2518,   644,  1466,   111, 21533]), tensor([    0, 10105, 14300,   531,    28, 14267]), tensor([   0,  250, 4779, 2186,    7, 1702, 5374]), tensor([   0,  133, 2968]), tensor([   0,  996,  759, 1824,  111]), tensor([   0,  597, 9968,   11]), tensor([   0,  565, 3204, 3654, 5314,  128,   29]), tensor([   0,  597, 5246, 1173,  476]), tensor([   0, 1640]), tensor([  0, 844, 779]), tensor([    0, 20839,     5]), tensor([    0, 35469]), tensor([   0, 2517,  779]), tensor([    0, 17986,   462]), tensor([    0, 49519, 27617,    12]), tensor([   0, 2709,    5,  455, 1824]), tensor([    0, 35846,  8722, 12578,   858,  4412]), tensor([    0, 21674,  4801,  7606,     9,  7652]), tensor([   0,  597, 5246, 1173, 3779]), tensor([    0, 14696,  3807,  2331,   128,    29]), tensor([    0, 19877, 42292,   384]), tensor([  0, 250, 746,   9]), tensor([    0,   541,   759,  2338,   111, 21533]), tensor([   0, 4993, 8049]), tensor([    0, 14693,     7,  1152,  1044,   226, 23838]), tensor([    0, 11350, 10612,  5969, 39261,    12]), tensor([   0, 2606,  510,  491,  111]), tensor([    0,   574,  7073,   991, 26695,    12]), tensor([  0, 133,  97,  80]), tensor([    0,   725,   791, 14469,  2620]), tensor([    0, 40258, 10680,  2824,   388]), tensor([    0, 10285,   186,  2156,     5]), tensor([   0, 1640]), tensor([    0, 10653,  1999,  3037]), tensor([    0, 20981, 42987, 44581, 17311,   267,   579]), tensor([   0, 1640, 4516,  510, 2926, 4839]), tensor([    0, 41041,  2963,     9]), tensor([    0, 27693,   248]), tensor([    0, 34027,  1245,    12,   805]), tensor([   0, 1640, 4516,  510,  491, 4839]), tensor([    0,   133,   266, 11729]), tensor([   0,  597, 5246, 1173, 3296]), tensor([  0, 250]), tensor([    0, 14693,     7,     5,   138]), tensor([   0,  597, 5246, 1173, 2257,    8]), tensor([    0,   574,  4524,    36, 17491,  1000,  4839]), tensor([   0, 2118, 6725, 5945,  500, 2889, 2156]), tensor([   0,  597, 5246, 1173]), tensor([   0,  448, 2580,  102]), tensor([   0, 9300, 7136, 9363, 1729, 6335,   36]), tensor([   0,  133, 7453]), tensor([    0,   487, 43946]), tensor([   0,  133,  343,   40, 9603, 2156]), tensor([  0, 717]), tensor([  0, 597]), tensor([   0,  597, 5246, 1173]), tensor([    0,   133,  5195,  2319,    14,     5, 16064]), tensor([   0,  574, 4989,  362, 1998]), tensor([   0,  250, 2229, 1288,   13,  262,    6]), tensor([  0, 246, 644]), tensor([    0,   347, 12019,     7,     5,  5405]), tensor([  0, 597]), tensor([    0, 42395,  2156,  1442,  2630]), tensor([  0, 133]), tensor([  0, 133]), tensor([    0, 22886,  1641,   354, 46707, 16613,  3593]), tensor([    0, 11321, 17692,    11,  6193]), tensor([    0, 15685,   128,    29,   299, 11255,  6738]), tensor([   0,  597, 5246, 1173, 3779, 2643, 3696]), tensor([    0,   133,  4069,     9,    70,   518, 10298]), tensor([    0, 49519, 33502]), tensor([  0, 597]), tensor([    0,   725,  2507, 46524,   753,   392]), tensor([    0, 47380,  1161,   647,    31,     5, 12168]), tensor([    0,   725, 16416, 23617,   100]), tensor([    0, 14693,     7,  6104]), tensor([    0, 32604,   282,  1115,   718,  1020]), tensor([  0, 133]), tensor([    0, 49519,    20,   539]), tensor([   0,  597, 5246, 1173]), tensor([   0,  133, 2195,   16, 1768,   13]), tensor([    0,   717, 13364,   128,    29,  1324,  1223]), tensor([   0,  597, 5246]), tensor([   0,  133, 2443]), tensor([   0, 2606,  510]), tensor([   0, 4030, 3534, 2156, 1927,    4,  316]), tensor([    0,   104,  7747,  2156, 12587,  2156]), tensor([  0, 282]), tensor([  0, 170, 146]), tensor([    0, 49519]), tensor([    0,   133, 34517,  2156,   576]), tensor([   0, 1640, 4516,  510,  491, 4839,  111]), tensor([   0,  133, 8183, 6670,   10,   55]), tensor([    0, 41858,   138,  4832,   255,  5810]), tensor([   0, 1121, 1285,    7,    5]), tensor([  0, 243,  16])], 'query': ['<s>F', '<s>Headline of release dated', '<s>2010 16 July', '<s>Scanfil,', '<s>The mall is', '<s>When new types of', '<s>Metso Oyj', '<s>The business has sales of', '<s>The method util', '<s>As a part of the plan', '<s>Kai Tulonen', '<s>Finn', '<s>Finnish', '<s>West', '<s>The ship cranes', '<s>The Finnish supplier of BSS', '<s>`` After the share purchase is', '<s>ALEXANDRIA', '<s>Finnish airline Finnair', '<s>Finn', '<s>TELECOMWOR', '<s>The', '<s>Under the agreement, Pf', \"<s>H1 '\", '<s>The contract also includes cutting', '<s>In accordance with the terms', '<s>The EU Commission said earlier', '<s>Finnish broadband data communication', '<s>Nastola', '<s>4 January 2011 -', '<s>Te', '<s>29 September, 2010 Finnish', '<s>27 January 2011 - Finnish', '<s>Because expenditures must be justified', '<s>Aldata to Share Space', '<s>The pl', '<s>15 November 2010 -', '<s>Founded in', \"<s>Tecnotree's\", '<s>Finnish power', '<s>(', '<s>20 October', '<s>Following the', '<s>Within', '<s>28 October', '<s>Ahl', '<s>`` Indo-', '<s>For the full 2010', '<s>Honkarakenne mainly', '<s>About 72 % of Ev', '<s>Finnish IT', \"<s>Seppala's\", '<s>Belarus O', '<s>A total of', '<s>30 November 2009 - Finnish', '<s>After Chuck', '<s>According to product manager Lassi', '<s>MANAVIGATOR-', '<s>ADP News -', '<s>Luxembourg-', '<s>The other two', '<s>HUHTAM', '<s>Basware Corporation stock', '<s>Last week, the', '<s>(', '<s>Proha Pl', '<s>GeoSentric Oyj s', '<s>( ADPnews )', '<s>Apartments of', '<s>Jon R', '<s>Finland-based', '<s>( ADP News )', '<s>The report profiles', '<s>Finnish Su', '<s>A', '<s>According to the company', '<s>Finnish software and', '<s>LONDON ( AFX )', '<s>ALEXANDRIA,', '<s>Finnish', '<s>Metsa', '<s>SAN FRANCISCO (', '<s>The Annual', '<s>Nokia', '<s>The city will invite,', '<s>E', '<s>F', '<s>Finnish', '<s>The airline estimated that the cancellation', '<s>Luna took fifth', '<s>A purchase agreement for 7,', '<s>3 January', '<s>Calls to the switch', '<s>F', '<s>Furthermore, Novator', '<s>The', '<s>The', '<s>Intellisync Wireless Email', '<s>Since inception in 1999', \"<s>Russia's top container shipping\", '<s>Finnish IT solutions provider', '<s>The combination of all services enabling', '<s>`` EB', '<s>F', '<s>Helsinki 19 May', '<s>External net sales from the printing', '<s>HELSINKI', '<s>According to preliminary', '<s>Kalnapilio', '<s>The', '<s>`` The industry', '<s>Finnish', '<s>The plant is scheduled for', \"<s>Efore's CEO Re\", '<s>Finn', '<s>The announcement', '<s>ADP', '<s>New Delhi, Feb. 12', '<s>Salo, Finland,', '<s>n', '<s>We make', '<s>``', '<s>The antibody, given', '<s>( ADP News ) -', '<s>The restructuring creates a more', '<s>Target company : Tiet', '<s>In addition to the', '<s>It is'], 'response': [' Lobby counseloks laneitness ubiqu laneKER engulf', 'oop insider distinguished interchangeable', ' utilizedoks wherever Remote shadow endless lane', ' conjecture Close latitude Extreme conjecture elbows persisted omission basalilk omission interfered Distanceterior ISI', ' bench Photographer widen blinding Gadgetady lane', ' eccentric× insider RoundpocketEEP interchangeable insider interchangeable interchangeableremember', ' expand!\\'\"Enlarge eternity engulf rootingkick MI× unveil interchangeable whereby interchangeable', ' Parkway endot interchangeable altogether Somewhere Carlo eccentric', ' enigmaticavour widen lanerememberREMPanel plethora Places', ' Prev Skip obfuscBUSBUS Recorded', ' bona insider Become insider insider Gadget interchangeable ¥', ' intrigue Exper disappointuddin mathematic serpent blend interchangeableoksoks flaw', ' intrigue comma Sneak persisted mistakenraved intrigue autopreve mistaken', ' eccentric insider considerably interchangeable interchange interchangeable conce confuse conce autop AHL autop', ' Oval positioningITNESS omnip interchangeable intrig interchangeable geographicallyOpen latitude obstacle arc', ' intrigue Gan Swap eccentric insiderreve anonymity latitude latitude Deep uncanny Richie unrel limitless', ' track ± geographically sparing automobile', ' lobb interchangeable uncanny worldly inept Parkwaydy indisc Knowledgeffic', ' angles bes Deep Op insider Recallarov sneaky mistaken Fillosal', ' conjecture cunning latitude interchangeable obvious geographically lanes interchange autop Parkway insider', ' uniquely interchangeable geographically geographically obfusc Ven continents cunning lanechel bridges insider', ' runway comma interchangeable Skip asteroids', ' Deep parted preced interchangeableoksruprup av considerably', ' infinitely Motion suffice insider Places lapsebits fielder widen Allaah Sneak widened Damn', ' Grip Close Sneak insider barrier pave interchangeable Prev insider betray insider Devin', ' makersREAM automakersitness Grip elong insider elbows vault Closed geographically Present interchangeable', ' grop Elev omission obviousoks exponentiallyscrollrax', ' PrevAdv orche insider insider Vij interchangeable', ' conspiring rooting insider parted', ' enigmatic shoulders encomp flaw Armored confid narrow', ' conjecture conjecture lane lane Marqu widentg interchangeENN', ' Deep Identified GripREL', 'special grop jungreve lane rivers', ' Lawn DMCA DMCA contempor LLP anonymity acqu', 'Open intrigue �/. positioning intrigue misleadtwoks Prol interchangeableabbling', ' continents interchangeable interchangeable Parkway interchangeable', 'rememberoks Swap deliberate vault narrowTERN', 'ascular conjecture quintrupulousrupulous anonymityitness', ' latitudeoks interchangeable Photographer infinitely unforeseenbrates', ' exclus mislead counselprev KEYAK unrel mistakenbrowraved extr', ' runway conjecture $$ epoch', ' VijSeries Swap airflow $$', ' enorm limitless latitude mastermind Grip conce gorge charms envelop robbers transcend maneuver midway', ' unreal imaginative subterreve confoundingreve CharmINTER rival dimensional Parkway Oval interchangeable', ' nowhere astronaut invincible conce', ' insider narrowing Identified Grip Project Fingerangs OGiece unm anonymity nowhere widen yet', 'ilionß outswk DET corridors interchangeable lane', ' latitudeamongripprev charm eternal nowhere anonymity insider anonymity Orbital', ' insider nowhere insider eternity geographically unchrunners', ' uncanny bes geographically lane lane interchangeable interchangeableabilitiesColor discretion nowhereñactions lane latitude', 'abbling eloqugemspell nonex insider', ' runway Deepexc asymmEEP Studios narrowedurai Arrayabilities Governors', ' repszeltain bona Swap circum', ' engulf INS elbows Animated', '}\\\\ cushion retake Alive', 'orem Governors exoner infinitely openerometry eaves obscure', ' shortcuts differentiate lane Seg lane midway insider anonymity interchangeable', ' uniquelyips elbows wherever interchangeable interchangeableavour lane lane', ' cushion inappropriatelyuddin episodeoks GMplotwk Ü unreasonable', ' interchangeable gulf interchangeable lane Somewhere insider interchangeable insider hereafter geographically setup unch', ' Editor Appropri Previous Rout Round uncanny shoe Prev', ' OpenGL arr×illing grop', ' lane Gadget vault counsel uncanny insider lane interchangeable', ' torque obstacle confid Deep interchangeable broaden broadenindingREM nowhere anonymity anonymity uncanny', ' fashioned latitude geographicallyhips intrig tint Channel latitude Deep× grasping latitude engulf barric', ' uniquely infinite allotted gropchel lane lane nowhere Swap latitude Parkway Shut Parkway eternity', ' enigmatic shoulders insider Lans insider spotlight Places centrally Open insider Blindremember', ' obfusc counsel spear Closedook', ' Mov nowhere charm uniquelymn', ' maneuver insider Grip positionspocket interchangeable geographicallyilver interchangeable interchangeable det', ' barrier Nex insider insiderwkINTER Blind technologically IslandsBUS Parkway widenomy', ' infinitelychelographerrupulous Current insider snag unp mountainousravedountersEEP Bender', ' insider insider Kinn elbowsakes besrip', ' partingrip adamant insider tamperingchart Taowkrip insider', ' variables Ovalrors latitude elbows algorith widenrupulous wideningreveoks', ' infinitely Randomrupulous lane Paw lane Moor downsbrowificantlyificantlyplyificantlyplyuddin', ' Closed Photographer Prev CloseArray allotted', ' nowhere mechanical geographically lane intrig elbowsgem intrig latitudeyes insider Marqu angles ParkwayTrivia', ' uncanny customize anonymity spared', ' intrigue impoks interchangeableornedoksabbling', ' blinding intimately insidercoldranging Recall Paw uncanny Innov', ' poised $$ backdoor mirrors outfield unch interchangeablerenchronics KEY Parkway Oval unch', ' Toughriendavour Deep $$ plotted Deep infinitely favoritesoks hands altogethereren hands', ' numbering epoch prev SETrupulousrupulous Everywhere nowhere', ' insider interchangeable interchangeable insider insider roam Brow interchangeable deliberate geographically vault geographically Prev infinitely cunning', ' tantal Modern embroiled uncanny insider Parkway Sneak uncanny', ' Array foresee latitude widen MSGathsRIP MI interchange envy', ' lane Series Spl interchangeable bes Exhibit lane ac', ' Correspond Slightly directions Blooming Oval ambush Somewhere insider', ' nowhere nowhereoulderhematic interchangeableoks smoot', ' perme envision Sherman nowhere resurrectionoks engulfpret', ' envelop blindingreens widenrup insider interchangeable insider', ' Close latitude widen FOIA corners Sneakuten Seal antiquity yetalone MPG', ' Oval glitch Pars Chaozers intricate uncannyreve', ' engulf KEY Tough Imag Glass latitude interchangeable', ' latitude foresee spaciousTERN lane Ovalchelavement intrig anonymity uncannyouringGAN interchangeable', ' confounding uncanny insidertain Gim Tough interchangeable eras obscurechel ×', ' itching Parkway Shutachable nowhere pave Parkway foresee perme', ' nowhere DSrupulous$$ eccentricrupulousorned Parkway Flip', ' interchangeable interchangeable interchangeableomers', ' uniquelyospital Individual Known senator', ' Remoteicians $$ position Vijpocket lane elbows pathway', ' deliberate erasoksrupulous deliberate accessibilityavourclerpertchanwkPROV unm', ' Difficulty engulf Oval uncanny Christie insiders insider', ' Moment positioning interchangeableTERN', 'omers Prevoks interchangeableEV Parkway OvalEEPble', ' Array blinding anteriorijk', ' × interchangeableavour interchangeable interchangeable', ' divinegalranging Parkway KEY grop', ' Lobby KEY latitude charm intrigue interchangeable uncannyTrack', 'rupulous Charm intrig encompasses lane Channel', ' intrig interchangeable continuity cunning', ' recurrent grop insider insiderArtist anglesNJ', ' Depth impeccrupulous inspir Sneak disenfranch', ' conjecture tint wig curv cunning eras unch bridges influence shouldersoksoks flaw subter', ' geographically bench oval Congressman', 'ISION nowhere cursor Imag latitude conce intrigTERN Shutrupulous conce', ' Correspondook foresee stage latitude interchangeableoton playbook pred', ' vault widenedEnlarge loophole filler------PGPG deceptiveificantly IOuddinATS', ' conjecturenb TABLE Somewhere', ' maneuver nicknamed geographicallyctions shortcut notoriouslyreference Gadget shortcut intrig uncanny Beard insider uncanny', ' KEY Governorspanel interchangeable geographicallypocket', ' nowhere jamPear KEY insiderrupulous gel interchangeable SEE forgetting latitude uncanny nowhere latitude anonymity', ' sneaky cunninggotten endowedreve Euclreve unreal insider anonymity Parkway interchangeable gestation Parkway', ' embargo Gamble 1902 ChaoArtist KEY Imag KEY grop cuff unequ', 'ionicTERN nowhere grop fiascoplot Brow Somewhere nowhere interchangeablerupulous nowhere latitude invincible nowhere', ' Gow Blind flawarag steepsin', ' schemes conjecturerounder uniquely insider Presents DMCA eccentric loophole Parkway flaw Tatalinked']}\n",
      "1\n",
      "{'label': [tensor(0), tensor(0), tensor(1), tensor(1), tensor(2), tensor(1), tensor(1), tensor(1), tensor(2), tensor(2), tensor(2), tensor(1), tensor(1), tensor(2), tensor(1), tensor(1), tensor(0), tensor(2), tensor(1), tensor(2), tensor(1), tensor(2), tensor(2), tensor(1), tensor(2), tensor(1), tensor(2), tensor(0), tensor(2), tensor(1), tensor(0), tensor(1), tensor(1), tensor(2), tensor(1), tensor(1), tensor(1), tensor(2), tensor(2), tensor(2), tensor(1), tensor(1), tensor(1), tensor(2), tensor(1), tensor(0), tensor(2), tensor(1), tensor(1), tensor(1), tensor(1), tensor(1), tensor(1), tensor(2), tensor(1), tensor(0), tensor(1), tensor(2), tensor(1), tensor(0), tensor(1), tensor(1), tensor(2), tensor(2), tensor(1), tensor(2), tensor(1), tensor(0), tensor(1), tensor(1), tensor(1), tensor(1), tensor(2), tensor(2), tensor(0), tensor(2), tensor(2), tensor(2), tensor(0), tensor(2), tensor(1), tensor(2), tensor(2), tensor(2), tensor(2), tensor(1), tensor(1), tensor(2), tensor(1), tensor(2), tensor(2), tensor(1), tensor(0), tensor(2), tensor(2), tensor(1), tensor(2), tensor(2), tensor(0), tensor(2), tensor(0), tensor(2), tensor(1), tensor(2), tensor(1), tensor(2), tensor(2), tensor(2), tensor(2), tensor(1), tensor(2), tensor(1), tensor(2), tensor(2), tensor(0), tensor(2), tensor(2), tensor(1), tensor(1), tensor(1), tensor(1), tensor(1), tensor(2), tensor(1), tensor(2), tensor(2), tensor(1), tensor(1)], 'input_ids': [tensor([   0,  487, 3109,  636]), tensor([    0, 11990]), tensor([    0, 49519,   166,    33]), tensor([    0, 28759, 16940,  2156,  1919]), tensor([   0,  597, 5246, 1173, 2267]), tensor([    0,  1121, 10906,  2824,  3412,  3080, 15781]), tensor([   0,  500, 6812, 4895,   30, 6965,   12]), tensor([    0, 17245,     5,  1288, 40109]), tensor([    0, 14693,     7]), tensor([   0, 4444,  846]), tensor([    0, 49519]), tensor([    0, 30591,    16,  1286]), tensor([   0, 1121,    5, 9096]), tensor([    0,   530,  1723, 21738, 19328, 35473,  6034]), tensor([    0, 10169,  4235,   330,  3852,   817]), tensor([   0,  975, 2068]), tensor([   0,  133,  758, 5175,  539,  138]), tensor([   0, 1121]), tensor([    0, 10980,     4,   497,   922, 15395,   763]), tensor([   0,  104, 1862,  591]), tensor([    0,   725,   791, 14469,  2620,  7140,   100]), tensor([    0,   133, 21533,   168,   585]), tensor([  0, 448]), tensor([    0, 47559,   680,  7653]), tensor([  0, 597]), tensor([    0, 27814,  3760,  3206]), tensor([   0,  597, 5246, 1173, 8917]), tensor([    0, 44002,    11,  3503,    21]), tensor([    0,   133, 29147,   104, 30445]), tensor([    0,   605,  1344,  8757,  7606, 10502,   883]), tensor([   0, 1640, 4516]), tensor([   0,  133,  138, 4542,  916]), tensor([  0, 170, 122,  33, 258,   5, 945]), tensor([    0, 27324]), tensor([    0,   133, 15785,  4071,    33,  3978]), tensor([    0, 49519,  1525]), tensor([    0, 20930]), tensor([   0,  597, 5246]), tensor([   0,  597, 5246]), tensor([  0, 996]), tensor([    0,   250,   746, 10353,  5352,   479,   406]), tensor([  0, 725]), tensor([   0,  250, 4779]), tensor([   0,  406,  494, 1466,  111]), tensor([   0,  133, 2472,   16, 7646,   15,   10]), tensor([    0,  2895,     9,     5,  4398, 22788,    40]), tensor([   0,  597, 5246]), tensor([   0,  133, 9548, 3900,  132]), tensor([  0, 133, 138]), tensor([    0, 36342]), tensor([    0,   133, 38507]), tensor([   0, 6006,  347]), tensor([   0,  597, 5246, 1173, 4049]), tensor([   0,  179, 1209,  134, 1824,  504,  392]), tensor([    0,  3972,  3042, 32992,  3247,  1330,     7]), tensor([   0, 2606,  510,  491,  111,  392]), tensor([    0, 11108, 21676,  2175]), tensor([    0,   597,  5246,  1173, 32902]), tensor([   0, 3750,    5, 2069,    9]), tensor([    0,   597,  5246,  1173, 24753, 18419]), tensor([    0, 49519,   166,    40,   535,     7]), tensor([    0, 12667,  8423,   223,     5]), tensor([   0,  597, 5246]), tensor([   0, 2146,  779, 1824]), tensor([   0, 2522,  916]), tensor([  0, 698, 902]), tensor([   0,  133, 1392]), tensor([   0, 2606]), tensor([    0, 14693,     7,  6104]), tensor([   0, 1121, 1285]), tensor([   0,  448,   12, 8726, 2824, 3412, 3080]), tensor([    0, 35028, 22120,    36,   326]), tensor([   0,  133, 6606, 1933,    9]), tensor([    0, 37729,   271,  7223,  2156,   854,  2068]), tensor([   0,  597, 5246, 1173, 8917]), tensor([    0, 23031, 22714,  1001,  2543,  3291]), tensor([    0, 17245,     5,  1110,     9,     5,   160]), tensor([    0, 29991,  4458,  2757]), tensor([    0,   565,  1250,  4291,  8897,  1910, 16763]), tensor([  0, 530]), tensor([    0, 10494,   128]), tensor([   0,  597, 5246, 1173]), tensor([    0, 49519]), tensor([   0,  597, 5246, 1173, 5516, 1743]), tensor([   0, 1121,  719, 1937]), tensor([   0, 2895]), tensor([    0,  4794,   104,  6282, 17088,    34,    57]), tensor([  0, 134]), tensor([    0, 49519]), tensor([    0, 40529]), tensor([  0, 179]), tensor([   0,  597, 5246, 1173,  827]), tensor([    0, 33477,   545,   494,  1824]), tensor([    0, 18811,  1612,  2104,  4403, 14593,  1847]), tensor([   0,  597, 5246]), tensor([    0, 16837,  1839,    67,  4865,   400]), tensor([    0,  1073, 43563,    19,  4584,   387,   389]), tensor([   0,  597, 5246]), tensor([    0, 20364,  1031,  1036,   384]), tensor([   0, 1640, 4516,  510,  491, 4839]), tensor([    0, 20930,    15,     5,    78]), tensor([    0, 12905, 10318]), tensor([  0, 170, 146, 577,   5]), tensor([    0, 15721,   647]), tensor([   0,  401,  779, 1824]), tensor([    0, 20930]), tensor([  0, 597]), tensor([   0,  347, 5384, 1242, 3204]), tensor([    0, 49519,    20, 31417]), tensor([    0,   565,  5810,   139,    11, 27749,    16]), tensor([  0, 133]), tensor([    0, 49519,    20,    92,  1288,    16,    10]), tensor([    0, 34027]), tensor([    0, 49519]), tensor([    0, 34230,  4134,   225,    26,     5]), tensor([    0, 34027,  1245,    12]), tensor([   0, 1640, 4516]), tensor([   0, 4148,    5, 1453,    9]), tensor([    0, 17986,   462, 10544]), tensor([    0, 15791]), tensor([    0, 44308, 33285,    14]), tensor([   0,  597, 5246, 1173,  184]), tensor([    0,   133, 36007,  2156,  4241,    19,     5]), tensor([  0, 133]), tensor([    0, 12582, 11192]), tensor([    0,   597,  5246,  1173, 32053,     8,  2225]), tensor([   0, 1620]), tensor([    0,   133, 34517,  2156])], 'query': ['<s>Nordic', '<s>have', '<s>`` We have', '<s>Karachi, Sept', '<s>Finnish consumer', '<s>Incap Corporation Stock Exchange Release', '<s>Risk exposure by Non-', '<s>Under the agreement Benef', '<s>According to', '<s>NAV', '<s>``', '<s>Music is provided', '<s>In the Czech', '<s>KESKO CORPORATION', '<s>Marimekko makes', '<s>YIT', '<s>The international electronic industry company', '<s>In', '<s>Mr. Atul Chopra', '<s>SINGAP', '<s>HUHTAMAKI', '<s>The Finnish government announced', '<s>M', '<s>Products include Consumer', '<s>F', '<s>Retail chain', '<s>Finnish electronics', '<s>Performance in 2006 was', '<s>The GeoSolutions', '<s>wins 98 % acceptance 23', '<s>( AD', '<s>The company serves customers', '<s>We now have both the opportunity', '<s>Ju', '<s>The aforementioned shareholders have informed', '<s>`` Of', '<s>Based', '<s>Finn', '<s>Finn', '<s>15', '<s>A total EUR73.7', '<s>H', '<s>Ald', '<s>7 March 2011 -', '<s>The solution is demonstrated on a', '<s>Most of the permanent layoffs will', '<s>Finn', '<s>The Innova 2', '<s>The company', '<s>Among', '<s>The casing', '<s>LLC', '<s>Finnish glass', '<s>in Q1 2010 18 May', '<s>To achieve synergy targets related to', '<s>ADP News - May', '<s>hybrid bond', '<s>Finnish fibers', '<s>At the request of', '<s>Finnish Scanfil', '<s>`` We will continue to', '<s>Trading under the', '<s>Finn', '<s>21 October 2010', '<s>Our customers', '<s>10 February', '<s>The sale', '<s>AD', '<s>According to preliminary', '<s>In addition', '<s>M-real Corporation Stock Exchange', '<s>FinancialWire ( t', '<s>The Brazilian unit of', '<s>Separately, YIT', '<s>Finnish electronics', '<s>Tim Cockroft brings', '<s>Under the terms of the off', '<s>Foundries division', '<s>Tallink Silja attributes', '<s>K', \"<s>UK '\", '<s>Finnish', '<s>``', '<s>Finnish handling systems', '<s>In December alone', '<s>Most', '<s>PCS Digital Guatemala has been', '<s>1', '<s>``', '<s>Techn', '<s>in', '<s>Finnish bank', '<s>stores 16 March 2010', '<s>Global sports equipment maker Amer Sports', '<s>Finn', '<s>Their offering also covers local', '<s>agreement with SHB 30', '<s>Finn', '<s>Chief executive officer O', '<s>( ADP News )', '<s>Based on the first', '<s>` Ru', '<s>We make available the', '<s>Net sales', '<s>6 October 2010', '<s>Based', '<s>F', '<s>Cargotec', '<s>`` The marg', '<s>Tieto in Latvia is', '<s>The', '<s>`` The new agreement is a', '<s>Fin', '<s>``', '<s>Vanhanen said the', '<s>Finland-', '<s>( AD', '<s>On the basis of', '<s>Ahlstrom', '<s>Cap', '<s>Creating interfaces that', '<s>Finnish home', '<s>The adapter, awarded with the', '<s>The', '<s>Sponda', '<s>Finnish pulp and paper', '<s>As', '<s>The antibody,']}\n",
      "*********************\n",
      "*********************\n",
      "*********************\n",
      "*********************\n"
     ]
    },
    {
     "name": "stderr",
     "output_type": "stream",
     "text": [
      "\r",
      "1it [04:44, 284.52s/it]"
     ]
    },
    {
     "name": "stdout",
     "output_type": "stream",
     "text": [
      "{'label': [tensor(0), tensor(0), tensor(1), tensor(1), tensor(2), tensor(1), tensor(1), tensor(1), tensor(2), tensor(2), tensor(2), tensor(1), tensor(1), tensor(2), tensor(1), tensor(1), tensor(0), tensor(2), tensor(1), tensor(2), tensor(1), tensor(2), tensor(2), tensor(1), tensor(2), tensor(1), tensor(2), tensor(0), tensor(2), tensor(1), tensor(0), tensor(1), tensor(1), tensor(2), tensor(1), tensor(1), tensor(1), tensor(2), tensor(2), tensor(2), tensor(1), tensor(1), tensor(1), tensor(2), tensor(1), tensor(0), tensor(2), tensor(1), tensor(1), tensor(1), tensor(1), tensor(1), tensor(1), tensor(2), tensor(1), tensor(0), tensor(1), tensor(2), tensor(1), tensor(0), tensor(1), tensor(1), tensor(2), tensor(2), tensor(1), tensor(2), tensor(1), tensor(0), tensor(1), tensor(1), tensor(1), tensor(1), tensor(2), tensor(2), tensor(0), tensor(2), tensor(2), tensor(2), tensor(0), tensor(2), tensor(1), tensor(2), tensor(2), tensor(2), tensor(2), tensor(1), tensor(1), tensor(2), tensor(1), tensor(2), tensor(2), tensor(1), tensor(0), tensor(2), tensor(2), tensor(1), tensor(2), tensor(2), tensor(0), tensor(2), tensor(0), tensor(2), tensor(1), tensor(2), tensor(1), tensor(2), tensor(2), tensor(2), tensor(2), tensor(1), tensor(2), tensor(1), tensor(2), tensor(2), tensor(0), tensor(2), tensor(2), tensor(1), tensor(1), tensor(1), tensor(1), tensor(1), tensor(2), tensor(1), tensor(2), tensor(2), tensor(1), tensor(1)], 'input_ids': [tensor([   0,  487, 3109,  636]), tensor([    0, 11990]), tensor([    0, 49519,   166,    33]), tensor([    0, 28759, 16940,  2156,  1919]), tensor([   0,  597, 5246, 1173, 2267]), tensor([    0,  1121, 10906,  2824,  3412,  3080, 15781]), tensor([   0,  500, 6812, 4895,   30, 6965,   12]), tensor([    0, 17245,     5,  1288, 40109]), tensor([    0, 14693,     7]), tensor([   0, 4444,  846]), tensor([    0, 49519]), tensor([    0, 30591,    16,  1286]), tensor([   0, 1121,    5, 9096]), tensor([    0,   530,  1723, 21738, 19328, 35473,  6034]), tensor([    0, 10169,  4235,   330,  3852,   817]), tensor([   0,  975, 2068]), tensor([   0,  133,  758, 5175,  539,  138]), tensor([   0, 1121]), tensor([    0, 10980,     4,   497,   922, 15395,   763]), tensor([   0,  104, 1862,  591]), tensor([    0,   725,   791, 14469,  2620,  7140,   100]), tensor([    0,   133, 21533,   168,   585]), tensor([  0, 448]), tensor([    0, 47559,   680,  7653]), tensor([  0, 597]), tensor([    0, 27814,  3760,  3206]), tensor([   0,  597, 5246, 1173, 8917]), tensor([    0, 44002,    11,  3503,    21]), tensor([    0,   133, 29147,   104, 30445]), tensor([    0,   605,  1344,  8757,  7606, 10502,   883]), tensor([   0, 1640, 4516]), tensor([   0,  133,  138, 4542,  916]), tensor([  0, 170, 122,  33, 258,   5, 945]), tensor([    0, 27324]), tensor([    0,   133, 15785,  4071,    33,  3978]), tensor([    0, 49519,  1525]), tensor([    0, 20930]), tensor([   0,  597, 5246]), tensor([   0,  597, 5246]), tensor([  0, 996]), tensor([    0,   250,   746, 10353,  5352,   479,   406]), tensor([  0, 725]), tensor([   0,  250, 4779]), tensor([   0,  406,  494, 1466,  111]), tensor([   0,  133, 2472,   16, 7646,   15,   10]), tensor([    0,  2895,     9,     5,  4398, 22788,    40]), tensor([   0,  597, 5246]), tensor([   0,  133, 9548, 3900,  132]), tensor([  0, 133, 138]), tensor([    0, 36342]), tensor([    0,   133, 38507]), tensor([   0, 6006,  347]), tensor([   0,  597, 5246, 1173, 4049]), tensor([   0,  179, 1209,  134, 1824,  504,  392]), tensor([    0,  3972,  3042, 32992,  3247,  1330,     7]), tensor([   0, 2606,  510,  491,  111,  392]), tensor([    0, 11108, 21676,  2175]), tensor([    0,   597,  5246,  1173, 32902]), tensor([   0, 3750,    5, 2069,    9]), tensor([    0,   597,  5246,  1173, 24753, 18419]), tensor([    0, 49519,   166,    40,   535,     7]), tensor([    0, 12667,  8423,   223,     5]), tensor([   0,  597, 5246]), tensor([   0, 2146,  779, 1824]), tensor([   0, 2522,  916]), tensor([  0, 698, 902]), tensor([   0,  133, 1392]), tensor([   0, 2606]), tensor([    0, 14693,     7,  6104]), tensor([   0, 1121, 1285]), tensor([   0,  448,   12, 8726, 2824, 3412, 3080]), tensor([    0, 35028, 22120,    36,   326]), tensor([   0,  133, 6606, 1933,    9]), tensor([    0, 37729,   271,  7223,  2156,   854,  2068]), tensor([   0,  597, 5246, 1173, 8917]), tensor([    0, 23031, 22714,  1001,  2543,  3291]), tensor([    0, 17245,     5,  1110,     9,     5,   160]), tensor([    0, 29991,  4458,  2757]), tensor([    0,   565,  1250,  4291,  8897,  1910, 16763]), tensor([  0, 530]), tensor([    0, 10494,   128]), tensor([   0,  597, 5246, 1173]), tensor([    0, 49519]), tensor([   0,  597, 5246, 1173, 5516, 1743]), tensor([   0, 1121,  719, 1937]), tensor([   0, 2895]), tensor([    0,  4794,   104,  6282, 17088,    34,    57]), tensor([  0, 134]), tensor([    0, 49519]), tensor([    0, 40529]), tensor([  0, 179]), tensor([   0,  597, 5246, 1173,  827]), tensor([    0, 33477,   545,   494,  1824]), tensor([    0, 18811,  1612,  2104,  4403, 14593,  1847]), tensor([   0,  597, 5246]), tensor([    0, 16837,  1839,    67,  4865,   400]), tensor([    0,  1073, 43563,    19,  4584,   387,   389]), tensor([   0,  597, 5246]), tensor([    0, 20364,  1031,  1036,   384]), tensor([   0, 1640, 4516,  510,  491, 4839]), tensor([    0, 20930,    15,     5,    78]), tensor([    0, 12905, 10318]), tensor([  0, 170, 146, 577,   5]), tensor([    0, 15721,   647]), tensor([   0,  401,  779, 1824]), tensor([    0, 20930]), tensor([  0, 597]), tensor([   0,  347, 5384, 1242, 3204]), tensor([    0, 49519,    20, 31417]), tensor([    0,   565,  5810,   139,    11, 27749,    16]), tensor([  0, 133]), tensor([    0, 49519,    20,    92,  1288,    16,    10]), tensor([    0, 34027]), tensor([    0, 49519]), tensor([    0, 34230,  4134,   225,    26,     5]), tensor([    0, 34027,  1245,    12]), tensor([   0, 1640, 4516]), tensor([   0, 4148,    5, 1453,    9]), tensor([    0, 17986,   462, 10544]), tensor([    0, 15791]), tensor([    0, 44308, 33285,    14]), tensor([   0,  597, 5246, 1173,  184]), tensor([    0,   133, 36007,  2156,  4241,    19,     5]), tensor([  0, 133]), tensor([    0, 12582, 11192]), tensor([    0,   597,  5246,  1173, 32053,     8,  2225]), tensor([   0, 1620]), tensor([    0,   133, 34517,  2156])], 'query': ['<s>Nordic', '<s>have', '<s>`` We have', '<s>Karachi, Sept', '<s>Finnish consumer', '<s>Incap Corporation Stock Exchange Release', '<s>Risk exposure by Non-', '<s>Under the agreement Benef', '<s>According to', '<s>NAV', '<s>``', '<s>Music is provided', '<s>In the Czech', '<s>KESKO CORPORATION', '<s>Marimekko makes', '<s>YIT', '<s>The international electronic industry company', '<s>In', '<s>Mr. Atul Chopra', '<s>SINGAP', '<s>HUHTAMAKI', '<s>The Finnish government announced', '<s>M', '<s>Products include Consumer', '<s>F', '<s>Retail chain', '<s>Finnish electronics', '<s>Performance in 2006 was', '<s>The GeoSolutions', '<s>wins 98 % acceptance 23', '<s>( AD', '<s>The company serves customers', '<s>We now have both the opportunity', '<s>Ju', '<s>The aforementioned shareholders have informed', '<s>`` Of', '<s>Based', '<s>Finn', '<s>Finn', '<s>15', '<s>A total EUR73.7', '<s>H', '<s>Ald', '<s>7 March 2011 -', '<s>The solution is demonstrated on a', '<s>Most of the permanent layoffs will', '<s>Finn', '<s>The Innova 2', '<s>The company', '<s>Among', '<s>The casing', '<s>LLC', '<s>Finnish glass', '<s>in Q1 2010 18 May', '<s>To achieve synergy targets related to', '<s>ADP News - May', '<s>hybrid bond', '<s>Finnish fibers', '<s>At the request of', '<s>Finnish Scanfil', '<s>`` We will continue to', '<s>Trading under the', '<s>Finn', '<s>21 October 2010', '<s>Our customers', '<s>10 February', '<s>The sale', '<s>AD', '<s>According to preliminary', '<s>In addition', '<s>M-real Corporation Stock Exchange', '<s>FinancialWire ( t', '<s>The Brazilian unit of', '<s>Separately, YIT', '<s>Finnish electronics', '<s>Tim Cockroft brings', '<s>Under the terms of the off', '<s>Foundries division', '<s>Tallink Silja attributes', '<s>K', \"<s>UK '\", '<s>Finnish', '<s>``', '<s>Finnish handling systems', '<s>In December alone', '<s>Most', '<s>PCS Digital Guatemala has been', '<s>1', '<s>``', '<s>Techn', '<s>in', '<s>Finnish bank', '<s>stores 16 March 2010', '<s>Global sports equipment maker Amer Sports', '<s>Finn', '<s>Their offering also covers local', '<s>agreement with SHB 30', '<s>Finn', '<s>Chief executive officer O', '<s>( ADP News )', '<s>Based on the first', '<s>` Ru', '<s>We make available the', '<s>Net sales', '<s>6 October 2010', '<s>Based', '<s>F', '<s>Cargotec', '<s>`` The marg', '<s>Tieto in Latvia is', '<s>The', '<s>`` The new agreement is a', '<s>Fin', '<s>``', '<s>Vanhanen said the', '<s>Finland-', '<s>( AD', '<s>On the basis of', '<s>Ahlstrom', '<s>Cap', '<s>Creating interfaces that', '<s>Finnish home', '<s>The adapter, awarded with the', '<s>The', '<s>Sponda', '<s>Finnish pulp and paper', '<s>As', '<s>The antibody,'], 'response': [' junction interchangeable interchangeable switches flaw immobil', 'Loop elbows insider midway insider insider insider', ' widen],\"CLOSE latitude nowhere nowhere nowhere Legisl intrigue latitude autop subter narrowEEP apart', ' longstanding KEY tailor shortcut nowhere latitudences', ' insider interchangeable anonymity eve interchangeable geographically', ' rearr maneuvermeg brazenrupulous cunningoks', 'wk MUCH gestation Parkway antibiotic Included urinary coy', 'oksennes infinite elevation barrier', ' enorm scenicpit intric insider anonymity', ' Mov engulfArtist latituderup× conce runway engulf Slightly Parkway Oval uncanny spiritually nowhere', 'ß runway runway Somewhere curvllular Mur eaves widening epoch Alleg widen Alleg', ' grop categor shadowoks setup extended gulf precedEEP flaw Tripept.), latitude', ' infinite fielderrupulous lane Somewhere', ' presses grop Sneak Sneak spared Halhun Hal', \" bona citation jumper:'function obfusc Swap insider SomethingITCH autop insider KEY Become\", ' lane continents interchangeable Oval interchangeable clue interchangeablemoving × Alvin', ' geographically oval Swap insider insider insider Move arr insider deliberate Deep insider elbows Sneak discern', 'independent nowhere Easy conjecture MLB unchomers scoop/. intrig acqu advertisers', ' shoulder insider Governors Recall Known dearly oval Parkwaymill foresee fielder Parkway anticipating unch midway', 'oks Vij opener Governors midwayDJ', ' gelTERN nowhere labyrinth unch Parkway Albany', ' Shut Compl Cosmetic SPECIAL', ' conjecture conjecture Gim mirrors', ' Oval lane flaw maj ProcessporEEPaps insider geographically', ' scramble agon automakersdrive', ' interchangeable infinite AppEEP shortcuts OvalBUS recesslights underrated', ' insider interchangeable interchangeable unimagin Editor wrencheely', ' conjecture geographically bridges doomrim ways midway nowhere nowhere nowhere Somewhere lane Parkway circular', ' lane bridges insider bisexual geographically laneridor', ' rim infinite nowhere upfront nowhereoksopers interchangeable interchangeable frequent insider Recall', ' lane insider Recall mirror limitless flirt Parkway Parkway flawificantly interchange Parkway', ' interchangeable Array bes lane Wayocal insider engulf alphabet nowhere Grip elbow', ' [( overhead Findingammers geographically secrecy', ' encompassrip embargo allotted electronically wherever Shut', ' 808 backdoorobook DMCA insider360', 'terior encompass VIEWabbling runway perpetual afforded Coliseum Oval congressman uncanny uncannygem uncannyrunners', ' bes Op Recall knot', ' intrig intrigue latitude gravitational coloringoks interchange insider interchangeable concereve mistaken', ' conjecture interchangeable DJ intrig latitude interchangeableEEP microsc comma intrigue interchangeable Professor', ' conjecture precedent radically Woodenitchie Ovalbitious', ' bridges seated elbows insider insider Swap insider interchangeable fence elbows interchangeable comma', ' widened privile cunning \"@roitoks lane Exper shoulder eras obscureREM unch elong', ' loophole Nex scenic Somewhere pillow lane', ' widenammers intrig insider indisc insider unch insider tripod insider unch Vij', ' extrem bend commer insider insider uncanny insider spiritually', ' Recall antip SlightlyAdv Cosmeticrenchhematically', ' conjecture lane outfield intrig', ' runway× ubiqu repr Deep whereas grop sneak', 'chel serpent gel interchangeableventionEEP ruthless', ' uncanny disenfranch indisc anonymity televmbudsman deliberate Deep insider interchangeable interchangeable inaccessible mirrors counsel Exper', ' Editor eccentricOWN formidableix continents avenue interchangeableook variable', 'Taking OpenGLomers ApartissueEEPrench indisc lane Previous ImagocalOWN', ' geographically × Closed existedrupulous KEY Closedranging latitude bes latitude runwayEEP proprietary runway', ' geographically Pep uniquely gall customization bes muscles distinguish repr Shut Islands eternity', 'obopsyews entropy', ' shenanigansystemascular loopholesbrow Oval Governors× intrig envelop runwayTERN', 'TERN insider interchangeable interchangeable Prevhands PROGRAM Exper uniquely', 'essen intrigue confoundingtmllan stage wander XD Parkwayoksoks engulf Mn', ' Op geographically outs extend', ' latitudebig generation latitude CliffSeries widen Damn Extension Shut Cosmetichide KEY', ' doomuddinuddinFWuddinuddinSequuddin depictionsosal', ' precedentrupulous filibusterrupulous Oval segment cunning merchcold', ' intrig intrigue Anim widen OLED shoulder Thunderbolt', 'mouse latitude intrigue forgetting limitless', ' Round throne familiarows insider Chennai sequels hands interchangeable insider insider nowhere', ' nowhere geographically setup enigmatic', ' Closed grop hemisphere Mn infinite rearr behindña', ' integral interchangeable pitch Prev Oval bes SEE Sneak uniquely insider parting Sneak lapse interchangeable separ', ' nowhere cog KEY lapsebrow Parkway/. anonymity shortcut intric interchangeableAnne lanelevard Oval', ' perplexbart wiser Tantfunctional dopeoksiru Abeloks allottedbrow $$', ' nowhere geographically Oval $$ engulf uncannychel nowhereEEP unch', ' nowhere elbows insider insider nowhere nowhere nowhere nowhere Bil', ' speculationoks Prev curtains nowhere lane Ovalrupulous ambush Somewhere positioning', ' conjecture interchangeable inability lane OpenGL grop secrecy subter unch unm unavailable mislead', ' Sense insider swapsmaker insider Vij deliberate shortcutCLOSE Seg unchomers', 'Whoever CF interchangeableook bracket $$ Vij firmly DMCA geographically midway bridges midway', ' infinite eaves DMCA DMCA divine imperson', ' Swap unrel interchangeable positional Series infinite unch Locked conce uncanny elbowsjoin', 'EEP intrig simplisticoks insider Swap orbits wilderness Avenue doctr', ' grop agon nowhere intrig contempor intrig insiderArtist unimagin nowhere contempor Aj insider anonymity subter', ' widenockets cinematic Deep terribly nowhere complication uncannysemb interchangeable', ' continents Oval outs Closed latitude intent insider blinded nowhere ankles fortnight uncanny Cover', 'EEP engulf microbiota inherent engulf', ' insider roads interchangeable unch interchangeablerup Imag Imag grop positional', ' grop Kerr insider Close comma interchangeable continuity geographically uncanny circum disadvantages geographically', ' runway Slightly philosoph elaborateterior subter uncanny uncanny uncannyrevereve conce', 'isphere automakers Jackets GM $$ considerably Damn', ' latitude grip Author lane lane Knowing', ' grants ×mbudsman narrowhersitability widening', ' batting NFC Designed Deep parting Parkway Prev latitude allocated engulfEEP grop interchangeable Parkway', 'TERN bes winding intrig angles insider eluc Gadget Closed backdoor', 'poral systematic widenilk Flip Flip insider', ' lane lane lane Parkway nowhere bes Parkway $$rupulous Oval', ' clinch precedentindustEnlarge [( IsstailedlookingExit', ' intrig latitudeoks erg intrigue Parkway divinejoin confounding interchangeable disgu', ' candid Previjk hops lane narrow ParkwayEEP superiority pathway Parkway hemisphere × widened Closing', ' occult smokesammers intrinsically', ' Editor ×series enorm Whereas insider insider Photographer×series manifold loophole Parkway KEY Exper', ' interchangeable geographically Shank Previous latitude intrig improvis spearoks Invisible interchangeable narrowing', ' open geographically Deep conjecture ambusheely grop analyst', ' exponent shroud QC interchangeable lane gel interchangeable centrallychel Position overtake lane lane Panic', ' eccentric Deep uncanny insider Recall interchangeable Sneaktain sidelined EXT', ' geographicallyadows engulf geographically lane lane lane Parkway frame geographicallychel edits wherein lane lane', ' geographically controversies centrally poised insider gropña interchangeable telev', ' goto grop sparedrip widenifty nowhere interchangeableridornces genesis eluc', ' bes Jelly nowhereBUSEEP engulf', ' conjecture considerably reckoning Gn EF overpowered )]NHroit misleadbrowraved autoprap autop', ' intrigue interchangeable perplex limitless lobb uncanny roadside', ' LLP rearrleighmegrupulous Sneak Elkrying encompass Prev Attorney uncanny insider', 'ook SneakChip OpenGLrupulous Parkway tripod maneuver disenfranchmegrupulous', ' tailor Swap geographically intric Photographer Cop $$ alternatively Flip', ' vortex barrier Prev ParkwayArray Scroll elong', ' enorm setup encompass KEYrupulousrounder KEY engulf', 'ß busyKER SEE uncanny insider extreme OG Alleg', ' shroud tang enigmaticegrupulous Parkway backdoor', ' tailor defeatdry worsenlosuddin Drink', 'choes insider afford insiderKER Vij KEY ranged trajectory uncannyopen', ' • uncanny interchangeable parting nowhere nowhere interchangeable Author continuing lapsegem Oval Canter', ' charmoks embargo fielder DMCA insider Deep insider Op geographically conjecture wiser unch', ' engulf grop omission TWO winters shoulders grop absorbedarling roadside subter grop Auto', ' antibiotic Tough elbows insider uneasyaird insider deliberateentimes midway quizz', 'adv insider Known Slightly Deep sibling insider', 'eedappleoks nowhere vault nowhere Blank Somewhere bridges nowhere nowhere eternity Somewhere uncanny', ' latitudeterior uncanny insider elucreve', 'Seg meticulous insider lapse unequ Sneakreve', ' Brilliant Yuri poised penetrating mannedorship overpoweredarist Pyokers overpowered overpowered overpowered', ' stren spans nowhereiru Exper narrow intrigorned Parkway intrig uncanny widenudic uncanny', ' DJ Oval flaw outfield interchangeable interchangeable energ insider geographically interchangeable Oval charms agon insidercery']}\n"
     ]
    },
    {
     "name": "stderr",
     "output_type": "stream",
     "text": [
      "\n"
     ]
    }
   ],
   "source": [
    "for epoch, batch in tqdm(enumerate(ppo_trainer.dataloader)):\n",
    "    query_tensors = batch[\"input_ids\"]\n",
    "    print(epoch)\n",
    "    print(batch)\n",
    "    print('*********************')\n",
    "    print('*********************')\n",
    "    print('*********************')\n",
    "    print('*********************')\n",
    "    #### Get response from gpt2\n",
    "    response_tensors = []\n",
    "    for query in query_tensors:\n",
    "        gen_len                             = output_length_sampler()\n",
    "        generation_kwargs[\"max_new_tokens\"] = gen_len\n",
    "        response                            = ppo_trainer.generate(query, **generation_kwargs)\n",
    "        response_tensors.append( response.squeeze()[-gen_len:] )\n",
    "    batch[\"response\"] = [ tokenizer.decode(r.squeeze()) for r in response_tensors ]\n",
    "    print(batch)\n",
    "    if epoch == 1:\n",
    "        break"
   ]
  },
  {
   "cell_type": "code",
   "execution_count": 41,
   "metadata": {
    "id": "SyAF2Zweh6BG"
   },
   "outputs": [
    {
     "data": {
      "text/plain": [
       "dict_keys(['label', 'input_ids', 'query', 'response'])"
      ]
     },
     "execution_count": 41,
     "metadata": {},
     "output_type": "execute_result"
    }
   ],
   "source": [
    "batch.keys()"
   ]
  },
  {
   "cell_type": "markdown",
   "metadata": {
    "id": "6UCzPmOEiHmG"
   },
   "source": [
    "## **Compute sentiment score**"
   ]
  },
  {
   "cell_type": "code",
   "execution_count": 42,
   "metadata": {
    "id": "XSecoRfrh6Ew"
   },
   "outputs": [
    {
     "data": {
      "text/plain": [
       "['<s>Nordic',\n",
       " '<s>have',\n",
       " '<s>`` We have',\n",
       " '<s>Karachi, Sept',\n",
       " '<s>Finnish consumer',\n",
       " '<s>Incap Corporation Stock Exchange Release',\n",
       " '<s>Risk exposure by Non-',\n",
       " '<s>Under the agreement Benef',\n",
       " '<s>According to',\n",
       " '<s>NAV',\n",
       " '<s>``',\n",
       " '<s>Music is provided',\n",
       " '<s>In the Czech',\n",
       " '<s>KESKO CORPORATION',\n",
       " '<s>Marimekko makes',\n",
       " '<s>YIT',\n",
       " '<s>The international electronic industry company',\n",
       " '<s>In',\n",
       " '<s>Mr. Atul Chopra',\n",
       " '<s>SINGAP',\n",
       " '<s>HUHTAMAKI',\n",
       " '<s>The Finnish government announced',\n",
       " '<s>M',\n",
       " '<s>Products include Consumer',\n",
       " '<s>F',\n",
       " '<s>Retail chain',\n",
       " '<s>Finnish electronics',\n",
       " '<s>Performance in 2006 was',\n",
       " '<s>The GeoSolutions',\n",
       " '<s>wins 98 % acceptance 23',\n",
       " '<s>( AD',\n",
       " '<s>The company serves customers',\n",
       " '<s>We now have both the opportunity',\n",
       " '<s>Ju',\n",
       " '<s>The aforementioned shareholders have informed',\n",
       " '<s>`` Of',\n",
       " '<s>Based',\n",
       " '<s>Finn',\n",
       " '<s>Finn',\n",
       " '<s>15',\n",
       " '<s>A total EUR73.7',\n",
       " '<s>H',\n",
       " '<s>Ald',\n",
       " '<s>7 March 2011 -',\n",
       " '<s>The solution is demonstrated on a',\n",
       " '<s>Most of the permanent layoffs will',\n",
       " '<s>Finn',\n",
       " '<s>The Innova 2',\n",
       " '<s>The company',\n",
       " '<s>Among',\n",
       " '<s>The casing',\n",
       " '<s>LLC',\n",
       " '<s>Finnish glass',\n",
       " '<s>in Q1 2010 18 May',\n",
       " '<s>To achieve synergy targets related to',\n",
       " '<s>ADP News - May',\n",
       " '<s>hybrid bond',\n",
       " '<s>Finnish fibers',\n",
       " '<s>At the request of',\n",
       " '<s>Finnish Scanfil',\n",
       " '<s>`` We will continue to',\n",
       " '<s>Trading under the',\n",
       " '<s>Finn',\n",
       " '<s>21 October 2010',\n",
       " '<s>Our customers',\n",
       " '<s>10 February',\n",
       " '<s>The sale',\n",
       " '<s>AD',\n",
       " '<s>According to preliminary',\n",
       " '<s>In addition',\n",
       " '<s>M-real Corporation Stock Exchange',\n",
       " '<s>FinancialWire ( t',\n",
       " '<s>The Brazilian unit of',\n",
       " '<s>Separately, YIT',\n",
       " '<s>Finnish electronics',\n",
       " '<s>Tim Cockroft brings',\n",
       " '<s>Under the terms of the off',\n",
       " '<s>Foundries division',\n",
       " '<s>Tallink Silja attributes',\n",
       " '<s>K',\n",
       " \"<s>UK '\",\n",
       " '<s>Finnish',\n",
       " '<s>``',\n",
       " '<s>Finnish handling systems',\n",
       " '<s>In December alone',\n",
       " '<s>Most',\n",
       " '<s>PCS Digital Guatemala has been',\n",
       " '<s>1',\n",
       " '<s>``',\n",
       " '<s>Techn',\n",
       " '<s>in',\n",
       " '<s>Finnish bank',\n",
       " '<s>stores 16 March 2010',\n",
       " '<s>Global sports equipment maker Amer Sports',\n",
       " '<s>Finn',\n",
       " '<s>Their offering also covers local',\n",
       " '<s>agreement with SHB 30',\n",
       " '<s>Finn',\n",
       " '<s>Chief executive officer O',\n",
       " '<s>( ADP News )',\n",
       " '<s>Based on the first',\n",
       " '<s>` Ru',\n",
       " '<s>We make available the',\n",
       " '<s>Net sales',\n",
       " '<s>6 October 2010',\n",
       " '<s>Based',\n",
       " '<s>F',\n",
       " '<s>Cargotec',\n",
       " '<s>`` The marg',\n",
       " '<s>Tieto in Latvia is',\n",
       " '<s>The',\n",
       " '<s>`` The new agreement is a',\n",
       " '<s>Fin',\n",
       " '<s>``',\n",
       " '<s>Vanhanen said the',\n",
       " '<s>Finland-',\n",
       " '<s>( AD',\n",
       " '<s>On the basis of',\n",
       " '<s>Ahlstrom',\n",
       " '<s>Cap',\n",
       " '<s>Creating interfaces that',\n",
       " '<s>Finnish home',\n",
       " '<s>The adapter, awarded with the',\n",
       " '<s>The',\n",
       " '<s>Sponda',\n",
       " '<s>Finnish pulp and paper',\n",
       " '<s>As',\n",
       " '<s>The antibody,']"
      ]
     },
     "execution_count": 42,
     "metadata": {},
     "output_type": "execute_result"
    }
   ],
   "source": [
    "batch[\"query\"]"
   ]
  },
  {
   "cell_type": "code",
   "execution_count": 43,
   "metadata": {
    "id": "iO-5nzNWh6IY"
   },
   "outputs": [
    {
     "data": {
      "text/plain": [
       "[' junction interchangeable interchangeable switches flaw immobil',\n",
       " 'Loop elbows insider midway insider insider insider',\n",
       " ' widen],\"CLOSE latitude nowhere nowhere nowhere Legisl intrigue latitude autop subter narrowEEP apart',\n",
       " ' longstanding KEY tailor shortcut nowhere latitudences',\n",
       " ' insider interchangeable anonymity eve interchangeable geographically',\n",
       " ' rearr maneuvermeg brazenrupulous cunningoks',\n",
       " 'wk MUCH gestation Parkway antibiotic Included urinary coy',\n",
       " 'oksennes infinite elevation barrier',\n",
       " ' enorm scenicpit intric insider anonymity',\n",
       " ' Mov engulfArtist latituderup× conce runway engulf Slightly Parkway Oval uncanny spiritually nowhere',\n",
       " 'ß runway runway Somewhere curvllular Mur eaves widening epoch Alleg widen Alleg',\n",
       " ' grop categor shadowoks setup extended gulf precedEEP flaw Tripept.), latitude',\n",
       " ' infinite fielderrupulous lane Somewhere',\n",
       " ' presses grop Sneak Sneak spared Halhun Hal',\n",
       " \" bona citation jumper:'function obfusc Swap insider SomethingITCH autop insider KEY Become\",\n",
       " ' lane continents interchangeable Oval interchangeable clue interchangeablemoving × Alvin',\n",
       " ' geographically oval Swap insider insider insider Move arr insider deliberate Deep insider elbows Sneak discern',\n",
       " 'independent nowhere Easy conjecture MLB unchomers scoop/. intrig acqu advertisers',\n",
       " ' shoulder insider Governors Recall Known dearly oval Parkwaymill foresee fielder Parkway anticipating unch midway',\n",
       " 'oks Vij opener Governors midwayDJ',\n",
       " ' gelTERN nowhere labyrinth unch Parkway Albany',\n",
       " ' Shut Compl Cosmetic SPECIAL',\n",
       " ' conjecture conjecture Gim mirrors',\n",
       " ' Oval lane flaw maj ProcessporEEPaps insider geographically',\n",
       " ' scramble agon automakersdrive',\n",
       " ' interchangeable infinite AppEEP shortcuts OvalBUS recesslights underrated',\n",
       " ' insider interchangeable interchangeable unimagin Editor wrencheely',\n",
       " ' conjecture geographically bridges doomrim ways midway nowhere nowhere nowhere Somewhere lane Parkway circular',\n",
       " ' lane bridges insider bisexual geographically laneridor',\n",
       " ' rim infinite nowhere upfront nowhereoksopers interchangeable interchangeable frequent insider Recall',\n",
       " ' lane insider Recall mirror limitless flirt Parkway Parkway flawificantly interchange Parkway',\n",
       " ' interchangeable Array bes lane Wayocal insider engulf alphabet nowhere Grip elbow',\n",
       " ' [( overhead Findingammers geographically secrecy',\n",
       " ' encompassrip embargo allotted electronically wherever Shut',\n",
       " ' 808 backdoorobook DMCA insider360',\n",
       " 'terior encompass VIEWabbling runway perpetual afforded Coliseum Oval congressman uncanny uncannygem uncannyrunners',\n",
       " ' bes Op Recall knot',\n",
       " ' intrig intrigue latitude gravitational coloringoks interchange insider interchangeable concereve mistaken',\n",
       " ' conjecture interchangeable DJ intrig latitude interchangeableEEP microsc comma intrigue interchangeable Professor',\n",
       " ' conjecture precedent radically Woodenitchie Ovalbitious',\n",
       " ' bridges seated elbows insider insider Swap insider interchangeable fence elbows interchangeable comma',\n",
       " ' widened privile cunning \"@roitoks lane Exper shoulder eras obscureREM unch elong',\n",
       " ' loophole Nex scenic Somewhere pillow lane',\n",
       " ' widenammers intrig insider indisc insider unch insider tripod insider unch Vij',\n",
       " ' extrem bend commer insider insider uncanny insider spiritually',\n",
       " ' Recall antip SlightlyAdv Cosmeticrenchhematically',\n",
       " ' conjecture lane outfield intrig',\n",
       " ' runway× ubiqu repr Deep whereas grop sneak',\n",
       " 'chel serpent gel interchangeableventionEEP ruthless',\n",
       " ' uncanny disenfranch indisc anonymity televmbudsman deliberate Deep insider interchangeable interchangeable inaccessible mirrors counsel Exper',\n",
       " ' Editor eccentricOWN formidableix continents avenue interchangeableook variable',\n",
       " 'Taking OpenGLomers ApartissueEEPrench indisc lane Previous ImagocalOWN',\n",
       " ' geographically × Closed existedrupulous KEY Closedranging latitude bes latitude runwayEEP proprietary runway',\n",
       " ' geographically Pep uniquely gall customization bes muscles distinguish repr Shut Islands eternity',\n",
       " 'obopsyews entropy',\n",
       " ' shenanigansystemascular loopholesbrow Oval Governors× intrig envelop runwayTERN',\n",
       " 'TERN insider interchangeable interchangeable Prevhands PROGRAM Exper uniquely',\n",
       " 'essen intrigue confoundingtmllan stage wander XD Parkwayoksoks engulf Mn',\n",
       " ' Op geographically outs extend',\n",
       " ' latitudebig generation latitude CliffSeries widen Damn Extension Shut Cosmetichide KEY',\n",
       " ' doomuddinuddinFWuddinuddinSequuddin depictionsosal',\n",
       " ' precedentrupulous filibusterrupulous Oval segment cunning merchcold',\n",
       " ' intrig intrigue Anim widen OLED shoulder Thunderbolt',\n",
       " 'mouse latitude intrigue forgetting limitless',\n",
       " ' Round throne familiarows insider Chennai sequels hands interchangeable insider insider nowhere',\n",
       " ' nowhere geographically setup enigmatic',\n",
       " ' Closed grop hemisphere Mn infinite rearr behindña',\n",
       " ' integral interchangeable pitch Prev Oval bes SEE Sneak uniquely insider parting Sneak lapse interchangeable separ',\n",
       " ' nowhere cog KEY lapsebrow Parkway/. anonymity shortcut intric interchangeableAnne lanelevard Oval',\n",
       " ' perplexbart wiser Tantfunctional dopeoksiru Abeloks allottedbrow $$',\n",
       " ' nowhere geographically Oval $$ engulf uncannychel nowhereEEP unch',\n",
       " ' nowhere elbows insider insider nowhere nowhere nowhere nowhere Bil',\n",
       " ' speculationoks Prev curtains nowhere lane Ovalrupulous ambush Somewhere positioning',\n",
       " ' conjecture interchangeable inability lane OpenGL grop secrecy subter unch unm unavailable mislead',\n",
       " ' Sense insider swapsmaker insider Vij deliberate shortcutCLOSE Seg unchomers',\n",
       " 'Whoever CF interchangeableook bracket $$ Vij firmly DMCA geographically midway bridges midway',\n",
       " ' infinite eaves DMCA DMCA divine imperson',\n",
       " ' Swap unrel interchangeable positional Series infinite unch Locked conce uncanny elbowsjoin',\n",
       " 'EEP intrig simplisticoks insider Swap orbits wilderness Avenue doctr',\n",
       " ' grop agon nowhere intrig contempor intrig insiderArtist unimagin nowhere contempor Aj insider anonymity subter',\n",
       " ' widenockets cinematic Deep terribly nowhere complication uncannysemb interchangeable',\n",
       " ' continents Oval outs Closed latitude intent insider blinded nowhere ankles fortnight uncanny Cover',\n",
       " 'EEP engulf microbiota inherent engulf',\n",
       " ' insider roads interchangeable unch interchangeablerup Imag Imag grop positional',\n",
       " ' grop Kerr insider Close comma interchangeable continuity geographically uncanny circum disadvantages geographically',\n",
       " ' runway Slightly philosoph elaborateterior subter uncanny uncanny uncannyrevereve conce',\n",
       " 'isphere automakers Jackets GM $$ considerably Damn',\n",
       " ' latitude grip Author lane lane Knowing',\n",
       " ' grants ×mbudsman narrowhersitability widening',\n",
       " ' batting NFC Designed Deep parting Parkway Prev latitude allocated engulfEEP grop interchangeable Parkway',\n",
       " 'TERN bes winding intrig angles insider eluc Gadget Closed backdoor',\n",
       " 'poral systematic widenilk Flip Flip insider',\n",
       " ' lane lane lane Parkway nowhere bes Parkway $$rupulous Oval',\n",
       " ' clinch precedentindustEnlarge [( IsstailedlookingExit',\n",
       " ' intrig latitudeoks erg intrigue Parkway divinejoin confounding interchangeable disgu',\n",
       " ' candid Previjk hops lane narrow ParkwayEEP superiority pathway Parkway hemisphere × widened Closing',\n",
       " ' occult smokesammers intrinsically',\n",
       " ' Editor ×series enorm Whereas insider insider Photographer×series manifold loophole Parkway KEY Exper',\n",
       " ' interchangeable geographically Shank Previous latitude intrig improvis spearoks Invisible interchangeable narrowing',\n",
       " ' open geographically Deep conjecture ambusheely grop analyst',\n",
       " ' exponent shroud QC interchangeable lane gel interchangeable centrallychel Position overtake lane lane Panic',\n",
       " ' eccentric Deep uncanny insider Recall interchangeable Sneaktain sidelined EXT',\n",
       " ' geographicallyadows engulf geographically lane lane lane Parkway frame geographicallychel edits wherein lane lane',\n",
       " ' geographically controversies centrally poised insider gropña interchangeable telev',\n",
       " ' goto grop sparedrip widenifty nowhere interchangeableridornces genesis eluc',\n",
       " ' bes Jelly nowhereBUSEEP engulf',\n",
       " ' conjecture considerably reckoning Gn EF overpowered )]NHroit misleadbrowraved autoprap autop',\n",
       " ' intrigue interchangeable perplex limitless lobb uncanny roadside',\n",
       " ' LLP rearrleighmegrupulous Sneak Elkrying encompass Prev Attorney uncanny insider',\n",
       " 'ook SneakChip OpenGLrupulous Parkway tripod maneuver disenfranchmegrupulous',\n",
       " ' tailor Swap geographically intric Photographer Cop $$ alternatively Flip',\n",
       " ' vortex barrier Prev ParkwayArray Scroll elong',\n",
       " ' enorm setup encompass KEYrupulousrounder KEY engulf',\n",
       " 'ß busyKER SEE uncanny insider extreme OG Alleg',\n",
       " ' shroud tang enigmaticegrupulous Parkway backdoor',\n",
       " ' tailor defeatdry worsenlosuddin Drink',\n",
       " 'choes insider afford insiderKER Vij KEY ranged trajectory uncannyopen',\n",
       " ' • uncanny interchangeable parting nowhere nowhere interchangeable Author continuing lapsegem Oval Canter',\n",
       " ' charmoks embargo fielder DMCA insider Deep insider Op geographically conjecture wiser unch',\n",
       " ' engulf grop omission TWO winters shoulders grop absorbedarling roadside subter grop Auto',\n",
       " ' antibiotic Tough elbows insider uneasyaird insider deliberateentimes midway quizz',\n",
       " 'adv insider Known Slightly Deep sibling insider',\n",
       " 'eedappleoks nowhere vault nowhere Blank Somewhere bridges nowhere nowhere eternity Somewhere uncanny',\n",
       " ' latitudeterior uncanny insider elucreve',\n",
       " 'Seg meticulous insider lapse unequ Sneakreve',\n",
       " ' Brilliant Yuri poised penetrating mannedorship overpoweredarist Pyokers overpowered overpowered overpowered',\n",
       " ' stren spans nowhereiru Exper narrow intrigorned Parkway intrig uncanny widenudic uncanny',\n",
       " ' DJ Oval flaw outfield interchangeable interchangeable energ insider geographically interchangeable Oval charms agon insidercery']"
      ]
     },
     "execution_count": 43,
     "metadata": {},
     "output_type": "execute_result"
    }
   ],
   "source": [
    "batch[\"response\"]"
   ]
  },
  {
   "cell_type": "code",
   "execution_count": 44,
   "metadata": {
    "id": "SI2fRG5Rh6Lt"
   },
   "outputs": [],
   "source": [
    "texts = [ q + r for q, r in zip(batch[\"query\"], batch[\"response\"]) ]"
   ]
  },
  {
   "cell_type": "code",
   "execution_count": 45,
   "metadata": {
    "id": "LEHgHKw7h6Pg"
   },
   "outputs": [
    {
     "data": {
      "text/plain": [
       "['<s>Nordic junction interchangeable interchangeable switches flaw immobil',\n",
       " '<s>haveLoop elbows insider midway insider insider insider',\n",
       " '<s>`` We have widen],\"CLOSE latitude nowhere nowhere nowhere Legisl intrigue latitude autop subter narrowEEP apart',\n",
       " '<s>Karachi, Sept longstanding KEY tailor shortcut nowhere latitudences',\n",
       " '<s>Finnish consumer insider interchangeable anonymity eve interchangeable geographically',\n",
       " '<s>Incap Corporation Stock Exchange Release rearr maneuvermeg brazenrupulous cunningoks',\n",
       " '<s>Risk exposure by Non-wk MUCH gestation Parkway antibiotic Included urinary coy',\n",
       " '<s>Under the agreement Benefoksennes infinite elevation barrier',\n",
       " '<s>According to enorm scenicpit intric insider anonymity',\n",
       " '<s>NAV Mov engulfArtist latituderup× conce runway engulf Slightly Parkway Oval uncanny spiritually nowhere',\n",
       " '<s>``ß runway runway Somewhere curvllular Mur eaves widening epoch Alleg widen Alleg',\n",
       " '<s>Music is provided grop categor shadowoks setup extended gulf precedEEP flaw Tripept.), latitude',\n",
       " '<s>In the Czech infinite fielderrupulous lane Somewhere',\n",
       " '<s>KESKO CORPORATION presses grop Sneak Sneak spared Halhun Hal',\n",
       " \"<s>Marimekko makes bona citation jumper:'function obfusc Swap insider SomethingITCH autop insider KEY Become\",\n",
       " '<s>YIT lane continents interchangeable Oval interchangeable clue interchangeablemoving × Alvin',\n",
       " '<s>The international electronic industry company geographically oval Swap insider insider insider Move arr insider deliberate Deep insider elbows Sneak discern',\n",
       " '<s>Inindependent nowhere Easy conjecture MLB unchomers scoop/. intrig acqu advertisers',\n",
       " '<s>Mr. Atul Chopra shoulder insider Governors Recall Known dearly oval Parkwaymill foresee fielder Parkway anticipating unch midway',\n",
       " '<s>SINGAPoks Vij opener Governors midwayDJ',\n",
       " '<s>HUHTAMAKI gelTERN nowhere labyrinth unch Parkway Albany',\n",
       " '<s>The Finnish government announced Shut Compl Cosmetic SPECIAL',\n",
       " '<s>M conjecture conjecture Gim mirrors',\n",
       " '<s>Products include Consumer Oval lane flaw maj ProcessporEEPaps insider geographically',\n",
       " '<s>F scramble agon automakersdrive',\n",
       " '<s>Retail chain interchangeable infinite AppEEP shortcuts OvalBUS recesslights underrated',\n",
       " '<s>Finnish electronics insider interchangeable interchangeable unimagin Editor wrencheely',\n",
       " '<s>Performance in 2006 was conjecture geographically bridges doomrim ways midway nowhere nowhere nowhere Somewhere lane Parkway circular',\n",
       " '<s>The GeoSolutions lane bridges insider bisexual geographically laneridor',\n",
       " '<s>wins 98 % acceptance 23 rim infinite nowhere upfront nowhereoksopers interchangeable interchangeable frequent insider Recall',\n",
       " '<s>( AD lane insider Recall mirror limitless flirt Parkway Parkway flawificantly interchange Parkway',\n",
       " '<s>The company serves customers interchangeable Array bes lane Wayocal insider engulf alphabet nowhere Grip elbow',\n",
       " '<s>We now have both the opportunity [( overhead Findingammers geographically secrecy',\n",
       " '<s>Ju encompassrip embargo allotted electronically wherever Shut',\n",
       " '<s>The aforementioned shareholders have informed 808 backdoorobook DMCA insider360',\n",
       " '<s>`` Ofterior encompass VIEWabbling runway perpetual afforded Coliseum Oval congressman uncanny uncannygem uncannyrunners',\n",
       " '<s>Based bes Op Recall knot',\n",
       " '<s>Finn intrig intrigue latitude gravitational coloringoks interchange insider interchangeable concereve mistaken',\n",
       " '<s>Finn conjecture interchangeable DJ intrig latitude interchangeableEEP microsc comma intrigue interchangeable Professor',\n",
       " '<s>15 conjecture precedent radically Woodenitchie Ovalbitious',\n",
       " '<s>A total EUR73.7 bridges seated elbows insider insider Swap insider interchangeable fence elbows interchangeable comma',\n",
       " '<s>H widened privile cunning \"@roitoks lane Exper shoulder eras obscureREM unch elong',\n",
       " '<s>Ald loophole Nex scenic Somewhere pillow lane',\n",
       " '<s>7 March 2011 - widenammers intrig insider indisc insider unch insider tripod insider unch Vij',\n",
       " '<s>The solution is demonstrated on a extrem bend commer insider insider uncanny insider spiritually',\n",
       " '<s>Most of the permanent layoffs will Recall antip SlightlyAdv Cosmeticrenchhematically',\n",
       " '<s>Finn conjecture lane outfield intrig',\n",
       " '<s>The Innova 2 runway× ubiqu repr Deep whereas grop sneak',\n",
       " '<s>The companychel serpent gel interchangeableventionEEP ruthless',\n",
       " '<s>Among uncanny disenfranch indisc anonymity televmbudsman deliberate Deep insider interchangeable interchangeable inaccessible mirrors counsel Exper',\n",
       " '<s>The casing Editor eccentricOWN formidableix continents avenue interchangeableook variable',\n",
       " '<s>LLCTaking OpenGLomers ApartissueEEPrench indisc lane Previous ImagocalOWN',\n",
       " '<s>Finnish glass geographically × Closed existedrupulous KEY Closedranging latitude bes latitude runwayEEP proprietary runway',\n",
       " '<s>in Q1 2010 18 May geographically Pep uniquely gall customization bes muscles distinguish repr Shut Islands eternity',\n",
       " '<s>To achieve synergy targets related toobopsyews entropy',\n",
       " '<s>ADP News - May shenanigansystemascular loopholesbrow Oval Governors× intrig envelop runwayTERN',\n",
       " '<s>hybrid bondTERN insider interchangeable interchangeable Prevhands PROGRAM Exper uniquely',\n",
       " '<s>Finnish fibersessen intrigue confoundingtmllan stage wander XD Parkwayoksoks engulf Mn',\n",
       " '<s>At the request of Op geographically outs extend',\n",
       " '<s>Finnish Scanfil latitudebig generation latitude CliffSeries widen Damn Extension Shut Cosmetichide KEY',\n",
       " '<s>`` We will continue to doomuddinuddinFWuddinuddinSequuddin depictionsosal',\n",
       " '<s>Trading under the precedentrupulous filibusterrupulous Oval segment cunning merchcold',\n",
       " '<s>Finn intrig intrigue Anim widen OLED shoulder Thunderbolt',\n",
       " '<s>21 October 2010mouse latitude intrigue forgetting limitless',\n",
       " '<s>Our customers Round throne familiarows insider Chennai sequels hands interchangeable insider insider nowhere',\n",
       " '<s>10 February nowhere geographically setup enigmatic',\n",
       " '<s>The sale Closed grop hemisphere Mn infinite rearr behindña',\n",
       " '<s>AD integral interchangeable pitch Prev Oval bes SEE Sneak uniquely insider parting Sneak lapse interchangeable separ',\n",
       " '<s>According to preliminary nowhere cog KEY lapsebrow Parkway/. anonymity shortcut intric interchangeableAnne lanelevard Oval',\n",
       " '<s>In addition perplexbart wiser Tantfunctional dopeoksiru Abeloks allottedbrow $$',\n",
       " '<s>M-real Corporation Stock Exchange nowhere geographically Oval $$ engulf uncannychel nowhereEEP unch',\n",
       " '<s>FinancialWire ( t nowhere elbows insider insider nowhere nowhere nowhere nowhere Bil',\n",
       " '<s>The Brazilian unit of speculationoks Prev curtains nowhere lane Ovalrupulous ambush Somewhere positioning',\n",
       " '<s>Separately, YIT conjecture interchangeable inability lane OpenGL grop secrecy subter unch unm unavailable mislead',\n",
       " '<s>Finnish electronics Sense insider swapsmaker insider Vij deliberate shortcutCLOSE Seg unchomers',\n",
       " '<s>Tim Cockroft bringsWhoever CF interchangeableook bracket $$ Vij firmly DMCA geographically midway bridges midway',\n",
       " '<s>Under the terms of the off infinite eaves DMCA DMCA divine imperson',\n",
       " '<s>Foundries division Swap unrel interchangeable positional Series infinite unch Locked conce uncanny elbowsjoin',\n",
       " '<s>Tallink Silja attributesEEP intrig simplisticoks insider Swap orbits wilderness Avenue doctr',\n",
       " '<s>K grop agon nowhere intrig contempor intrig insiderArtist unimagin nowhere contempor Aj insider anonymity subter',\n",
       " \"<s>UK ' widenockets cinematic Deep terribly nowhere complication uncannysemb interchangeable\",\n",
       " '<s>Finnish continents Oval outs Closed latitude intent insider blinded nowhere ankles fortnight uncanny Cover',\n",
       " '<s>``EEP engulf microbiota inherent engulf',\n",
       " '<s>Finnish handling systems insider roads interchangeable unch interchangeablerup Imag Imag grop positional',\n",
       " '<s>In December alone grop Kerr insider Close comma interchangeable continuity geographically uncanny circum disadvantages geographically',\n",
       " '<s>Most runway Slightly philosoph elaborateterior subter uncanny uncanny uncannyrevereve conce',\n",
       " '<s>PCS Digital Guatemala has beenisphere automakers Jackets GM $$ considerably Damn',\n",
       " '<s>1 latitude grip Author lane lane Knowing',\n",
       " '<s>`` grants ×mbudsman narrowhersitability widening',\n",
       " '<s>Techn batting NFC Designed Deep parting Parkway Prev latitude allocated engulfEEP grop interchangeable Parkway',\n",
       " '<s>inTERN bes winding intrig angles insider eluc Gadget Closed backdoor',\n",
       " '<s>Finnish bankporal systematic widenilk Flip Flip insider',\n",
       " '<s>stores 16 March 2010 lane lane lane Parkway nowhere bes Parkway $$rupulous Oval',\n",
       " '<s>Global sports equipment maker Amer Sports clinch precedentindustEnlarge [( IsstailedlookingExit',\n",
       " '<s>Finn intrig latitudeoks erg intrigue Parkway divinejoin confounding interchangeable disgu',\n",
       " '<s>Their offering also covers local candid Previjk hops lane narrow ParkwayEEP superiority pathway Parkway hemisphere × widened Closing',\n",
       " '<s>agreement with SHB 30 occult smokesammers intrinsically',\n",
       " '<s>Finn Editor ×series enorm Whereas insider insider Photographer×series manifold loophole Parkway KEY Exper',\n",
       " '<s>Chief executive officer O interchangeable geographically Shank Previous latitude intrig improvis spearoks Invisible interchangeable narrowing',\n",
       " '<s>( ADP News ) open geographically Deep conjecture ambusheely grop analyst',\n",
       " '<s>Based on the first exponent shroud QC interchangeable lane gel interchangeable centrallychel Position overtake lane lane Panic',\n",
       " '<s>` Ru eccentric Deep uncanny insider Recall interchangeable Sneaktain sidelined EXT',\n",
       " '<s>We make available the geographicallyadows engulf geographically lane lane lane Parkway frame geographicallychel edits wherein lane lane',\n",
       " '<s>Net sales geographically controversies centrally poised insider gropña interchangeable telev',\n",
       " '<s>6 October 2010 goto grop sparedrip widenifty nowhere interchangeableridornces genesis eluc',\n",
       " '<s>Based bes Jelly nowhereBUSEEP engulf',\n",
       " '<s>F conjecture considerably reckoning Gn EF overpowered )]NHroit misleadbrowraved autoprap autop',\n",
       " '<s>Cargotec intrigue interchangeable perplex limitless lobb uncanny roadside',\n",
       " '<s>`` The marg LLP rearrleighmegrupulous Sneak Elkrying encompass Prev Attorney uncanny insider',\n",
       " '<s>Tieto in Latvia isook SneakChip OpenGLrupulous Parkway tripod maneuver disenfranchmegrupulous',\n",
       " '<s>The tailor Swap geographically intric Photographer Cop $$ alternatively Flip',\n",
       " '<s>`` The new agreement is a vortex barrier Prev ParkwayArray Scroll elong',\n",
       " '<s>Fin enorm setup encompass KEYrupulousrounder KEY engulf',\n",
       " '<s>``ß busyKER SEE uncanny insider extreme OG Alleg',\n",
       " '<s>Vanhanen said the shroud tang enigmaticegrupulous Parkway backdoor',\n",
       " '<s>Finland- tailor defeatdry worsenlosuddin Drink',\n",
       " '<s>( ADchoes insider afford insiderKER Vij KEY ranged trajectory uncannyopen',\n",
       " '<s>On the basis of • uncanny interchangeable parting nowhere nowhere interchangeable Author continuing lapsegem Oval Canter',\n",
       " '<s>Ahlstrom charmoks embargo fielder DMCA insider Deep insider Op geographically conjecture wiser unch',\n",
       " '<s>Cap engulf grop omission TWO winters shoulders grop absorbedarling roadside subter grop Auto',\n",
       " '<s>Creating interfaces that antibiotic Tough elbows insider uneasyaird insider deliberateentimes midway quizz',\n",
       " '<s>Finnish homeadv insider Known Slightly Deep sibling insider',\n",
       " '<s>The adapter, awarded with theeedappleoks nowhere vault nowhere Blank Somewhere bridges nowhere nowhere eternity Somewhere uncanny',\n",
       " '<s>The latitudeterior uncanny insider elucreve',\n",
       " '<s>SpondaSeg meticulous insider lapse unequ Sneakreve',\n",
       " '<s>Finnish pulp and paper Brilliant Yuri poised penetrating mannedorship overpoweredarist Pyokers overpowered overpowered overpowered',\n",
       " '<s>As stren spans nowhereiru Exper narrow intrigorned Parkway intrig uncanny widenudic uncanny',\n",
       " '<s>The antibody, DJ Oval flaw outfield interchangeable interchangeable energ insider geographically interchangeable Oval charms agon insidercery']"
      ]
     },
     "execution_count": 45,
     "metadata": {},
     "output_type": "execute_result"
    }
   ],
   "source": [
    "texts"
   ]
  },
  {
   "cell_type": "code",
   "execution_count": 46,
   "metadata": {
    "id": "_qcjS3OUiVDX"
   },
   "outputs": [
    {
     "data": {
      "text/plain": [
       "[[{'label': 'negative', 'score': -3.076402187347412},\n",
       "  {'label': 'neutral', 'score': 6.228089332580566},\n",
       "  {'label': 'positive', 'score': -2.307486057281494}],\n",
       " [{'label': 'negative', 'score': -2.7645912170410156},\n",
       "  {'label': 'neutral', 'score': 6.335371971130371},\n",
       "  {'label': 'positive', 'score': -2.8783717155456543}],\n",
       " [{'label': 'negative', 'score': -2.770263671875},\n",
       "  {'label': 'neutral', 'score': 6.025016784667969},\n",
       "  {'label': 'positive', 'score': -2.657650947570801}],\n",
       " [{'label': 'negative', 'score': -2.8166840076446533},\n",
       "  {'label': 'neutral', 'score': 6.564802646636963},\n",
       "  {'label': 'positive', 'score': -3.1765313148498535}],\n",
       " [{'label': 'negative', 'score': -2.7812907695770264},\n",
       "  {'label': 'neutral', 'score': 6.60267972946167},\n",
       "  {'label': 'positive', 'score': -3.0964577198028564}],\n",
       " [{'label': 'negative', 'score': -2.553628444671631},\n",
       "  {'label': 'neutral', 'score': 6.342000961303711},\n",
       "  {'label': 'positive', 'score': -3.199592113494873}],\n",
       " [{'label': 'negative', 'score': -2.527575969696045},\n",
       "  {'label': 'neutral', 'score': 6.520326614379883},\n",
       "  {'label': 'positive', 'score': -3.3524115085601807}],\n",
       " [{'label': 'negative', 'score': -2.9812164306640625},\n",
       "  {'label': 'neutral', 'score': 6.656062126159668},\n",
       "  {'label': 'positive', 'score': -2.9706711769104004}],\n",
       " [{'label': 'negative', 'score': -2.6016390323638916},\n",
       "  {'label': 'neutral', 'score': 6.543796539306641},\n",
       "  {'label': 'positive', 'score': -3.280642509460449}],\n",
       " [{'label': 'negative', 'score': -2.526651620864868},\n",
       "  {'label': 'neutral', 'score': 5.838469505310059},\n",
       "  {'label': 'positive', 'score': -2.859650135040283}],\n",
       " [{'label': 'negative', 'score': -2.879009485244751},\n",
       "  {'label': 'neutral', 'score': 6.04233455657959},\n",
       "  {'label': 'positive', 'score': -2.603118419647217}],\n",
       " [{'label': 'negative', 'score': -2.8631174564361572},\n",
       "  {'label': 'neutral', 'score': 6.699374675750732},\n",
       "  {'label': 'positive', 'score': -3.1245744228363037}],\n",
       " [{'label': 'negative', 'score': -2.9103055000305176},\n",
       "  {'label': 'neutral', 'score': 6.554023742675781},\n",
       "  {'label': 'positive', 'score': -3.081265926361084}],\n",
       " [{'label': 'negative', 'score': -3.566343307495117},\n",
       "  {'label': 'neutral', 'score': 2.3414406776428223},\n",
       "  {'label': 'positive', 'score': 1.6462057828903198}],\n",
       " [{'label': 'negative', 'score': -3.330456018447876},\n",
       "  {'label': 'neutral', 'score': 6.080170631408691},\n",
       "  {'label': 'positive', 'score': -2.0803165435791016}],\n",
       " [{'label': 'negative', 'score': -2.916856288909912},\n",
       "  {'label': 'neutral', 'score': 6.6693878173828125},\n",
       "  {'label': 'positive', 'score': -3.0774803161621094}],\n",
       " [{'label': 'negative', 'score': -2.7956316471099854},\n",
       "  {'label': 'neutral', 'score': 6.524703025817871},\n",
       "  {'label': 'positive', 'score': -2.997560501098633}],\n",
       " [{'label': 'negative', 'score': -2.9519643783569336},\n",
       "  {'label': 'neutral', 'score': 6.482192039489746},\n",
       "  {'label': 'positive', 'score': -2.8770508766174316}],\n",
       " [{'label': 'negative', 'score': -2.760857582092285},\n",
       "  {'label': 'neutral', 'score': 6.358452320098877},\n",
       "  {'label': 'positive', 'score': -3.0430679321289062}],\n",
       " [{'label': 'negative', 'score': -2.7885615825653076},\n",
       "  {'label': 'neutral', 'score': 6.332919120788574},\n",
       "  {'label': 'positive', 'score': -3.0162341594696045}],\n",
       " [{'label': 'negative', 'score': -2.8390533924102783},\n",
       "  {'label': 'neutral', 'score': 6.395130634307861},\n",
       "  {'label': 'positive', 'score': -2.9328465461730957}],\n",
       " [{'label': 'negative', 'score': -2.2642884254455566},\n",
       "  {'label': 'neutral', 'score': 6.386460304260254},\n",
       "  {'label': 'positive', 'score': -3.506805419921875}],\n",
       " [{'label': 'negative', 'score': -2.729449987411499},\n",
       "  {'label': 'neutral', 'score': 6.573618412017822},\n",
       "  {'label': 'positive', 'score': -3.1920790672302246}],\n",
       " [{'label': 'negative', 'score': -2.4888577461242676},\n",
       "  {'label': 'neutral', 'score': 6.562476634979248},\n",
       "  {'label': 'positive', 'score': -3.411860704421997}],\n",
       " [{'label': 'negative', 'score': -2.663142681121826},\n",
       "  {'label': 'neutral', 'score': 6.361426830291748},\n",
       "  {'label': 'positive', 'score': -3.017544984817505}],\n",
       " [{'label': 'negative', 'score': -3.0711171627044678},\n",
       "  {'label': 'neutral', 'score': 6.501018524169922},\n",
       "  {'label': 'positive', 'score': -2.769981861114502}],\n",
       " [{'label': 'negative', 'score': -2.8866381645202637},\n",
       "  {'label': 'neutral', 'score': 6.603184223175049},\n",
       "  {'label': 'positive', 'score': -2.9585952758789062}],\n",
       " [{'label': 'negative', 'score': -2.6897354125976562},\n",
       "  {'label': 'neutral', 'score': 6.528454303741455},\n",
       "  {'label': 'positive', 'score': -3.124485969543457}],\n",
       " [{'label': 'negative', 'score': -2.8778767585754395},\n",
       "  {'label': 'neutral', 'score': 6.7909255027771},\n",
       "  {'label': 'positive', 'score': -3.1889615058898926}],\n",
       " [{'label': 'negative', 'score': -2.914304256439209},\n",
       "  {'label': 'neutral', 'score': 6.626280784606934},\n",
       "  {'label': 'positive', 'score': -3.051492214202881}],\n",
       " [{'label': 'negative', 'score': -2.86395263671875},\n",
       "  {'label': 'neutral', 'score': 6.423195838928223},\n",
       "  {'label': 'positive', 'score': -2.9643874168395996}],\n",
       " [{'label': 'negative', 'score': -2.957040548324585},\n",
       "  {'label': 'neutral', 'score': 6.544422149658203},\n",
       "  {'label': 'positive', 'score': -2.9203908443450928}],\n",
       " [{'label': 'negative', 'score': -3.0414791107177734},\n",
       "  {'label': 'neutral', 'score': 6.789149284362793},\n",
       "  {'label': 'positive', 'score': -2.9630465507507324}],\n",
       " [{'label': 'negative', 'score': -2.7180113792419434},\n",
       "  {'label': 'neutral', 'score': 6.720641136169434},\n",
       "  {'label': 'positive', 'score': -3.3260059356689453}],\n",
       " [{'label': 'negative', 'score': -2.7025132179260254},\n",
       "  {'label': 'neutral', 'score': 6.677176475524902},\n",
       "  {'label': 'positive', 'score': -3.201125144958496}],\n",
       " [{'label': 'negative', 'score': -2.9598052501678467},\n",
       "  {'label': 'neutral', 'score': 6.3994927406311035},\n",
       "  {'label': 'positive', 'score': -2.762683391571045}],\n",
       " [{'label': 'negative', 'score': -2.795285940170288},\n",
       "  {'label': 'neutral', 'score': 6.733665466308594},\n",
       "  {'label': 'positive', 'score': -3.1920597553253174}],\n",
       " [{'label': 'negative', 'score': -3.0964531898498535},\n",
       "  {'label': 'neutral', 'score': 6.273834228515625},\n",
       "  {'label': 'positive', 'score': -2.518904685974121}],\n",
       " [{'label': 'negative', 'score': -2.876613140106201},\n",
       "  {'label': 'neutral', 'score': 6.504032611846924},\n",
       "  {'label': 'positive', 'score': -2.907510757446289}],\n",
       " [{'label': 'negative', 'score': -2.9377646446228027},\n",
       "  {'label': 'neutral', 'score': 6.480104446411133},\n",
       "  {'label': 'positive', 'score': -2.7960190773010254}],\n",
       " [{'label': 'negative', 'score': -2.8600914478302},\n",
       "  {'label': 'neutral', 'score': 6.754693508148193},\n",
       "  {'label': 'positive', 'score': -3.1247363090515137}],\n",
       " [{'label': 'negative', 'score': -3.062422037124634},\n",
       "  {'label': 'neutral', 'score': 6.263725757598877},\n",
       "  {'label': 'positive', 'score': -2.528252601623535}],\n",
       " [{'label': 'negative', 'score': -2.9271295070648193},\n",
       "  {'label': 'neutral', 'score': 6.557459831237793},\n",
       "  {'label': 'positive', 'score': -2.942983388900757}],\n",
       " [{'label': 'negative', 'score': -2.815389633178711},\n",
       "  {'label': 'neutral', 'score': 6.515941619873047},\n",
       "  {'label': 'positive', 'score': -3.024569511413574}],\n",
       " [{'label': 'negative', 'score': -2.9383585453033447},\n",
       "  {'label': 'neutral', 'score': 6.6569294929504395},\n",
       "  {'label': 'positive', 'score': -2.9209771156311035}],\n",
       " [{'label': 'negative', 'score': -2.246328830718994},\n",
       "  {'label': 'neutral', 'score': 6.471440315246582},\n",
       "  {'label': 'positive', 'score': -3.531686305999756}],\n",
       " [{'label': 'negative', 'score': -2.819532871246338},\n",
       "  {'label': 'neutral', 'score': 6.631809234619141},\n",
       "  {'label': 'positive', 'score': -3.1013636589050293}],\n",
       " [{'label': 'negative', 'score': -2.9320669174194336},\n",
       "  {'label': 'neutral', 'score': 6.572064399719238},\n",
       "  {'label': 'positive', 'score': -2.9951109886169434}],\n",
       " [{'label': 'negative', 'score': -2.909688949584961},\n",
       "  {'label': 'neutral', 'score': 6.489801406860352},\n",
       "  {'label': 'positive', 'score': -2.9372167587280273}],\n",
       " [{'label': 'negative', 'score': -2.784607410430908},\n",
       "  {'label': 'neutral', 'score': 6.536114692687988},\n",
       "  {'label': 'positive', 'score': -3.0134949684143066}],\n",
       " [{'label': 'negative', 'score': -2.7652039527893066},\n",
       "  {'label': 'neutral', 'score': 6.642387390136719},\n",
       "  {'label': 'positive', 'score': -3.2427010536193848}],\n",
       " [{'label': 'negative', 'score': -2.7412915229797363},\n",
       "  {'label': 'neutral', 'score': 6.417297840118408},\n",
       "  {'label': 'positive', 'score': -2.9913690090179443}],\n",
       " [{'label': 'negative', 'score': -2.7893099784851074},\n",
       "  {'label': 'neutral', 'score': 6.6741485595703125},\n",
       "  {'label': 'positive', 'score': -3.147388219833374}],\n",
       " [{'label': 'negative', 'score': -3.0272631645202637},\n",
       "  {'label': 'neutral', 'score': 6.436566352844238},\n",
       "  {'label': 'positive', 'score': -2.823148012161255}],\n",
       " [{'label': 'negative', 'score': -4.095634460449219},\n",
       "  {'label': 'neutral', 'score': 4.989368438720703},\n",
       "  {'label': 'positive', 'score': -0.17587925493717194}],\n",
       " [{'label': 'negative', 'score': -2.8217780590057373},\n",
       "  {'label': 'neutral', 'score': 6.560234069824219},\n",
       "  {'label': 'positive', 'score': -3.073852300643921}],\n",
       " [{'label': 'negative', 'score': -3.011165142059326},\n",
       "  {'label': 'neutral', 'score': 6.6609697341918945},\n",
       "  {'label': 'positive', 'score': -2.935781478881836}],\n",
       " [{'label': 'negative', 'score': -2.963482141494751},\n",
       "  {'label': 'neutral', 'score': 6.144072532653809},\n",
       "  {'label': 'positive', 'score': -2.6722536087036133}],\n",
       " [{'label': 'negative', 'score': -2.8926820755004883},\n",
       "  {'label': 'neutral', 'score': 6.750506401062012},\n",
       "  {'label': 'positive', 'score': -3.1476221084594727}],\n",
       " [{'label': 'negative', 'score': -2.723987102508545},\n",
       "  {'label': 'neutral', 'score': 6.420058250427246},\n",
       "  {'label': 'positive', 'score': -3.0395615100860596}],\n",
       " [{'label': 'negative', 'score': 3.567613124847412},\n",
       "  {'label': 'neutral', 'score': -0.1532723754644394},\n",
       "  {'label': 'positive', 'score': -3.6815292835235596}],\n",
       " [{'label': 'negative', 'score': -2.931447982788086},\n",
       "  {'label': 'neutral', 'score': 6.546289920806885},\n",
       "  {'label': 'positive', 'score': -2.930701732635498}],\n",
       " [{'label': 'negative', 'score': -4.068187236785889},\n",
       "  {'label': 'neutral', 'score': 4.96854305267334},\n",
       "  {'label': 'positive', 'score': -0.21231615543365479}],\n",
       " [{'label': 'negative', 'score': -2.7614455223083496},\n",
       "  {'label': 'neutral', 'score': 6.419543743133545},\n",
       "  {'label': 'positive', 'score': -3.0923285484313965}],\n",
       " [{'label': 'negative', 'score': -2.943019151687622},\n",
       "  {'label': 'neutral', 'score': 6.536852836608887},\n",
       "  {'label': 'positive', 'score': -2.8681039810180664}],\n",
       " [{'label': 'negative', 'score': -2.6145150661468506},\n",
       "  {'label': 'neutral', 'score': 6.498309135437012},\n",
       "  {'label': 'positive', 'score': -3.2343533039093018}],\n",
       " [{'label': 'negative', 'score': -2.8010807037353516},\n",
       "  {'label': 'neutral', 'score': 6.53176212310791},\n",
       "  {'label': 'positive', 'score': -3.0812764167785645}],\n",
       " [{'label': 'negative', 'score': -2.9691646099090576},\n",
       "  {'label': 'neutral', 'score': 6.522697925567627},\n",
       "  {'label': 'positive', 'score': -2.8423104286193848}],\n",
       " [{'label': 'negative', 'score': -2.832400321960449},\n",
       "  {'label': 'neutral', 'score': 6.491863250732422},\n",
       "  {'label': 'positive', 'score': -3.0696001052856445}],\n",
       " [{'label': 'negative', 'score': -2.98099946975708},\n",
       "  {'label': 'neutral', 'score': 6.498180866241455},\n",
       "  {'label': 'positive', 'score': -2.8931336402893066}],\n",
       " [{'label': 'negative', 'score': -2.712592601776123},\n",
       "  {'label': 'neutral', 'score': 6.417156219482422},\n",
       "  {'label': 'positive', 'score': -3.1008048057556152}],\n",
       " [{'label': 'negative', 'score': -2.700963020324707},\n",
       "  {'label': 'neutral', 'score': 6.340639114379883},\n",
       "  {'label': 'positive', 'score': -3.079082489013672}],\n",
       " [{'label': 'negative', 'score': -2.6966731548309326},\n",
       "  {'label': 'neutral', 'score': 6.182892799377441},\n",
       "  {'label': 'positive', 'score': -2.880324363708496}],\n",
       " [{'label': 'negative', 'score': -2.153430223464966},\n",
       "  {'label': 'neutral', 'score': 6.143163681030273},\n",
       "  {'label': 'positive', 'score': -3.375912666320801}],\n",
       " [{'label': 'negative', 'score': -2.9639415740966797},\n",
       "  {'label': 'neutral', 'score': 6.20533561706543},\n",
       "  {'label': 'positive', 'score': -2.7182493209838867}],\n",
       " [{'label': 'negative', 'score': -3.243851661682129},\n",
       "  {'label': 'neutral', 'score': 6.263960361480713},\n",
       "  {'label': 'positive', 'score': -2.2985191345214844}],\n",
       " [{'label': 'negative', 'score': -2.7480101585388184},\n",
       "  {'label': 'neutral', 'score': 6.685970306396484},\n",
       "  {'label': 'positive', 'score': -3.2936718463897705}],\n",
       " [{'label': 'negative', 'score': -2.797579526901245},\n",
       "  {'label': 'neutral', 'score': 6.615378379821777},\n",
       "  {'label': 'positive', 'score': -3.058000087738037}],\n",
       " [{'label': 'negative', 'score': -2.975050449371338},\n",
       "  {'label': 'neutral', 'score': 6.473788261413574},\n",
       "  {'label': 'positive', 'score': -2.835310935974121}],\n",
       " [{'label': 'negative', 'score': -2.7600812911987305},\n",
       "  {'label': 'neutral', 'score': 6.331847190856934},\n",
       "  {'label': 'positive', 'score': -2.9566116333007812}],\n",
       " [{'label': 'negative', 'score': -2.8008956909179688},\n",
       "  {'label': 'neutral', 'score': 6.393521785736084},\n",
       "  {'label': 'positive', 'score': -3.002471446990967}],\n",
       " [{'label': 'negative', 'score': -2.870896816253662},\n",
       "  {'label': 'neutral', 'score': 6.328369140625},\n",
       "  {'label': 'positive', 'score': -2.8833746910095215}],\n",
       " [{'label': 'negative', 'score': -2.964937448501587},\n",
       "  {'label': 'neutral', 'score': 6.546452522277832},\n",
       "  {'label': 'positive', 'score': -2.9176816940307617}],\n",
       " [{'label': 'negative', 'score': -3.024967670440674},\n",
       "  {'label': 'neutral', 'score': 6.430336952209473},\n",
       "  {'label': 'positive', 'score': -2.7841320037841797}],\n",
       " [{'label': 'negative', 'score': -2.8171677589416504},\n",
       "  {'label': 'neutral', 'score': 6.5036091804504395},\n",
       "  {'label': 'positive', 'score': -2.9704666137695312}],\n",
       " [{'label': 'negative', 'score': -2.9955978393554688},\n",
       "  {'label': 'neutral', 'score': 6.312230587005615},\n",
       "  {'label': 'positive', 'score': -2.6699793338775635}],\n",
       " [{'label': 'negative', 'score': -2.536090850830078},\n",
       "  {'label': 'neutral', 'score': 4.179264068603516},\n",
       "  {'label': 'positive', 'score': -0.9407604932785034}],\n",
       " [{'label': 'negative', 'score': -2.780297040939331},\n",
       "  {'label': 'neutral', 'score': 6.612086296081543},\n",
       "  {'label': 'positive', 'score': -3.1420650482177734}],\n",
       " [{'label': 'negative', 'score': -3.543623208999634},\n",
       "  {'label': 'neutral', 'score': 0.4988671541213989},\n",
       "  {'label': 'positive', 'score': 3.5171008110046387}],\n",
       " [{'label': 'negative', 'score': -2.875262498855591},\n",
       "  {'label': 'neutral', 'score': 6.550752639770508},\n",
       "  {'label': 'positive', 'score': -2.952209711074829}],\n",
       " [{'label': 'negative', 'score': -2.9227311611175537},\n",
       "  {'label': 'neutral', 'score': 6.574631690979004},\n",
       "  {'label': 'positive', 'score': -2.943960189819336}],\n",
       " [{'label': 'negative', 'score': -2.7684030532836914},\n",
       "  {'label': 'neutral', 'score': 6.256689071655273},\n",
       "  {'label': 'positive', 'score': -2.9955077171325684}],\n",
       " [{'label': 'negative', 'score': -2.7474164962768555},\n",
       "  {'label': 'neutral', 'score': 6.524282455444336},\n",
       "  {'label': 'positive', 'score': -3.1009931564331055}],\n",
       " [{'label': 'negative', 'score': -2.9999399185180664},\n",
       "  {'label': 'neutral', 'score': 6.2307891845703125},\n",
       "  {'label': 'positive', 'score': -2.484060287475586}],\n",
       " [{'label': 'negative', 'score': -3.1675214767456055},\n",
       "  {'label': 'neutral', 'score': 6.1920552253723145},\n",
       "  {'label': 'positive', 'score': -2.4131572246551514}],\n",
       " [{'label': 'negative', 'score': -3.0354576110839844},\n",
       "  {'label': 'neutral', 'score': 6.509828567504883},\n",
       "  {'label': 'positive', 'score': -2.6861047744750977}],\n",
       " [{'label': 'negative', 'score': -3.188547372817993},\n",
       "  {'label': 'neutral', 'score': 6.219978332519531},\n",
       "  {'label': 'positive', 'score': -2.2958197593688965}],\n",
       " [{'label': 'negative', 'score': -2.9068167209625244},\n",
       "  {'label': 'neutral', 'score': 6.594792366027832},\n",
       "  {'label': 'positive', 'score': -3.0100650787353516}],\n",
       " [{'label': 'negative', 'score': -2.748143196105957},\n",
       "  {'label': 'neutral', 'score': 6.428445816040039},\n",
       "  {'label': 'positive', 'score': -3.0245847702026367}],\n",
       " [{'label': 'negative', 'score': -2.753521680831909},\n",
       "  {'label': 'neutral', 'score': 6.592221736907959},\n",
       "  {'label': 'positive', 'score': -3.105011463165283}],\n",
       " [{'label': 'negative', 'score': -2.90325665473938},\n",
       "  {'label': 'neutral', 'score': 6.648087978363037},\n",
       "  {'label': 'positive', 'score': -3.027360439300537}],\n",
       " [{'label': 'negative', 'score': -2.9511051177978516},\n",
       "  {'label': 'neutral', 'score': 6.4832611083984375},\n",
       "  {'label': 'positive', 'score': -2.9178802967071533}],\n",
       " [{'label': 'negative', 'score': -2.7797341346740723},\n",
       "  {'label': 'neutral', 'score': 6.666987895965576},\n",
       "  {'label': 'positive', 'score': -3.1818063259124756}],\n",
       " [{'label': 'negative', 'score': -3.0012121200561523},\n",
       "  {'label': 'neutral', 'score': 6.376595973968506},\n",
       "  {'label': 'positive', 'score': -2.7061243057250977}],\n",
       " [{'label': 'negative', 'score': -2.9415366649627686},\n",
       "  {'label': 'neutral', 'score': 6.531457901000977},\n",
       "  {'label': 'positive', 'score': -2.9170806407928467}],\n",
       " [{'label': 'negative', 'score': -2.814220905303955},\n",
       "  {'label': 'neutral', 'score': 6.551506519317627},\n",
       "  {'label': 'positive', 'score': -3.0803990364074707}],\n",
       " [{'label': 'negative', 'score': -3.0490684509277344},\n",
       "  {'label': 'neutral', 'score': 5.513822555541992},\n",
       "  {'label': 'positive', 'score': -1.8390865325927734}],\n",
       " [{'label': 'negative', 'score': -2.9375548362731934},\n",
       "  {'label': 'neutral', 'score': 6.138474464416504},\n",
       "  {'label': 'positive', 'score': -2.570551872253418}],\n",
       " [{'label': 'negative', 'score': -2.8953030109405518},\n",
       "  {'label': 'neutral', 'score': 6.538804054260254},\n",
       "  {'label': 'positive', 'score': -2.963958978652954}],\n",
       " [{'label': 'negative', 'score': -2.794400215148926},\n",
       "  {'label': 'neutral', 'score': 6.157769203186035},\n",
       "  {'label': 'positive', 'score': -2.739628791809082}],\n",
       " [{'label': 'negative', 'score': -2.7594571113586426},\n",
       "  {'label': 'neutral', 'score': 6.612584590911865},\n",
       "  {'label': 'positive', 'score': -3.1075704097747803}],\n",
       " [{'label': 'negative', 'score': -3.2260706424713135},\n",
       "  {'label': 'neutral', 'score': 6.434714317321777},\n",
       "  {'label': 'positive', 'score': -2.519542694091797}],\n",
       " [{'label': 'negative', 'score': -2.771148681640625},\n",
       "  {'label': 'neutral', 'score': 6.586109161376953},\n",
       "  {'label': 'positive', 'score': -3.188593864440918}],\n",
       " [{'label': 'negative', 'score': -3.0560450553894043},\n",
       "  {'label': 'neutral', 'score': 6.134222030639648},\n",
       "  {'label': 'positive', 'score': -2.4139957427978516}],\n",
       " [{'label': 'negative', 'score': -2.945608615875244},\n",
       "  {'label': 'neutral', 'score': 6.664825439453125},\n",
       "  {'label': 'positive', 'score': -3.099473476409912}],\n",
       " [{'label': 'negative', 'score': -2.2897653579711914},\n",
       "  {'label': 'neutral', 'score': 4.395382881164551},\n",
       "  {'label': 'positive', 'score': -1.8248058557510376}],\n",
       " [{'label': 'negative', 'score': -2.8832075595855713},\n",
       "  {'label': 'neutral', 'score': 6.260899543762207},\n",
       "  {'label': 'positive', 'score': -2.7991061210632324}],\n",
       " [{'label': 'negative', 'score': -2.760619640350342},\n",
       "  {'label': 'neutral', 'score': 6.574071884155273},\n",
       "  {'label': 'positive', 'score': -3.1494662761688232}],\n",
       " [{'label': 'negative', 'score': -2.957253932952881},\n",
       "  {'label': 'neutral', 'score': 6.385986328125},\n",
       "  {'label': 'positive', 'score': -2.7972002029418945}],\n",
       " [{'label': 'negative', 'score': -2.699410915374756},\n",
       "  {'label': 'neutral', 'score': 5.9278974533081055},\n",
       "  {'label': 'positive', 'score': -2.628079414367676}],\n",
       " [{'label': 'negative', 'score': -2.7783145904541016},\n",
       "  {'label': 'neutral', 'score': 6.354279041290283},\n",
       "  {'label': 'positive', 'score': -2.8691329956054688}],\n",
       " [{'label': 'negative', 'score': -2.7978196144104004},\n",
       "  {'label': 'neutral', 'score': 6.489560604095459},\n",
       "  {'label': 'positive', 'score': -2.939140558242798}],\n",
       " [{'label': 'negative', 'score': -2.7671406269073486},\n",
       "  {'label': 'neutral', 'score': 6.3386101722717285},\n",
       "  {'label': 'positive', 'score': -2.9441123008728027}],\n",
       " [{'label': 'negative', 'score': -3.018831729888916},\n",
       "  {'label': 'neutral', 'score': 6.681127071380615},\n",
       "  {'label': 'positive', 'score': -2.965533971786499}],\n",
       " [{'label': 'negative', 'score': -2.9623003005981445},\n",
       "  {'label': 'neutral', 'score': 6.405340671539307},\n",
       "  {'label': 'positive', 'score': -2.7900772094726562}],\n",
       " [{'label': 'negative', 'score': -3.468801975250244},\n",
       "  {'label': 'neutral', 'score': 1.035407543182373},\n",
       "  {'label': 'positive', 'score': 2.92060923576355}],\n",
       " [{'label': 'negative', 'score': -2.9593889713287354},\n",
       "  {'label': 'neutral', 'score': 5.881892681121826},\n",
       "  {'label': 'positive', 'score': -2.28594970703125}],\n",
       " [{'label': 'negative', 'score': -2.96043062210083},\n",
       "  {'label': 'neutral', 'score': 6.556427478790283},\n",
       "  {'label': 'positive', 'score': -2.923168182373047}]]"
      ]
     },
     "execution_count": 46,
     "metadata": {},
     "output_type": "execute_result"
    }
   ],
   "source": [
    "pipe_outputs = sentiment_pipe(texts, **sent_kwargs)\n",
    "pipe_outputs"
   ]
  },
  {
   "cell_type": "code",
   "execution_count": 47,
   "metadata": {
    "id": "8VZp4sseiVKE"
   },
   "outputs": [
    {
     "data": {
      "text/plain": [
       "[tensor(6.2281),\n",
       " tensor(6.3354),\n",
       " tensor(6.0250),\n",
       " tensor(6.5648),\n",
       " tensor(6.6027),\n",
       " tensor(6.3420),\n",
       " tensor(6.5203),\n",
       " tensor(6.6561),\n",
       " tensor(6.5438),\n",
       " tensor(5.8385),\n",
       " tensor(6.0423),\n",
       " tensor(6.6994),\n",
       " tensor(6.5540),\n",
       " tensor(2.3414),\n",
       " tensor(6.0802),\n",
       " tensor(6.6694),\n",
       " tensor(6.5247),\n",
       " tensor(6.4822),\n",
       " tensor(6.3585),\n",
       " tensor(6.3329),\n",
       " tensor(6.3951),\n",
       " tensor(6.3865),\n",
       " tensor(6.5736),\n",
       " tensor(6.5625),\n",
       " tensor(6.3614),\n",
       " tensor(6.5010),\n",
       " tensor(6.6032),\n",
       " tensor(6.5285),\n",
       " tensor(6.7909),\n",
       " tensor(6.6263),\n",
       " tensor(6.4232),\n",
       " tensor(6.5444),\n",
       " tensor(6.7891),\n",
       " tensor(6.7206),\n",
       " tensor(6.6772),\n",
       " tensor(6.3995),\n",
       " tensor(6.7337),\n",
       " tensor(6.2738),\n",
       " tensor(6.5040),\n",
       " tensor(6.4801),\n",
       " tensor(6.7547),\n",
       " tensor(6.2637),\n",
       " tensor(6.5575),\n",
       " tensor(6.5159),\n",
       " tensor(6.6569),\n",
       " tensor(6.4714),\n",
       " tensor(6.6318),\n",
       " tensor(6.5721),\n",
       " tensor(6.4898),\n",
       " tensor(6.5361),\n",
       " tensor(6.6424),\n",
       " tensor(6.4173),\n",
       " tensor(6.6741),\n",
       " tensor(6.4366),\n",
       " tensor(4.9894),\n",
       " tensor(6.5602),\n",
       " tensor(6.6610),\n",
       " tensor(6.1441),\n",
       " tensor(6.7505),\n",
       " tensor(6.4201),\n",
       " tensor(-0.1533),\n",
       " tensor(6.5463),\n",
       " tensor(4.9685),\n",
       " tensor(6.4195),\n",
       " tensor(6.5369),\n",
       " tensor(6.4983),\n",
       " tensor(6.5318),\n",
       " tensor(6.5227),\n",
       " tensor(6.4919),\n",
       " tensor(6.4982),\n",
       " tensor(6.4172),\n",
       " tensor(6.3406),\n",
       " tensor(6.1829),\n",
       " tensor(6.1432),\n",
       " tensor(6.2053),\n",
       " tensor(6.2640),\n",
       " tensor(6.6860),\n",
       " tensor(6.6154),\n",
       " tensor(6.4738),\n",
       " tensor(6.3318),\n",
       " tensor(6.3935),\n",
       " tensor(6.3284),\n",
       " tensor(6.5465),\n",
       " tensor(6.4303),\n",
       " tensor(6.5036),\n",
       " tensor(6.3122),\n",
       " tensor(4.1793),\n",
       " tensor(6.6121),\n",
       " tensor(0.4989),\n",
       " tensor(6.5508),\n",
       " tensor(6.5746),\n",
       " tensor(6.2567),\n",
       " tensor(6.5243),\n",
       " tensor(6.2308),\n",
       " tensor(6.1921),\n",
       " tensor(6.5098),\n",
       " tensor(6.2200),\n",
       " tensor(6.5948),\n",
       " tensor(6.4284),\n",
       " tensor(6.5922),\n",
       " tensor(6.6481),\n",
       " tensor(6.4833),\n",
       " tensor(6.6670),\n",
       " tensor(6.3766),\n",
       " tensor(6.5315),\n",
       " tensor(6.5515),\n",
       " tensor(5.5138),\n",
       " tensor(6.1385),\n",
       " tensor(6.5388),\n",
       " tensor(6.1578),\n",
       " tensor(6.6126),\n",
       " tensor(6.4347),\n",
       " tensor(6.5861),\n",
       " tensor(6.1342),\n",
       " tensor(6.6648),\n",
       " tensor(4.3954),\n",
       " tensor(6.2609),\n",
       " tensor(6.5741),\n",
       " tensor(6.3860),\n",
       " tensor(5.9279),\n",
       " tensor(6.3543),\n",
       " tensor(6.4896),\n",
       " tensor(6.3386),\n",
       " tensor(6.6811),\n",
       " tensor(6.4053),\n",
       " tensor(1.0354),\n",
       " tensor(5.8819),\n",
       " tensor(6.5564)]"
      ]
     },
     "execution_count": 47,
     "metadata": {},
     "output_type": "execute_result"
    }
   ],
   "source": [
    "rewards = [ torch.tensor(output[1][\"score\"]) for output in pipe_outputs]\n",
    "rewards"
   ]
  },
  {
   "cell_type": "code",
   "execution_count": 48,
   "metadata": {
    "id": "6Ov57UgLiVN2"
   },
   "outputs": [
    {
     "data": {
      "text/plain": [
       "128"
      ]
     },
     "execution_count": 48,
     "metadata": {},
     "output_type": "execute_result"
    }
   ],
   "source": [
    "len(rewards)"
   ]
  },
  {
   "cell_type": "code",
   "execution_count": null,
   "metadata": {},
   "outputs": [],
   "source": []
  },
  {
   "cell_type": "code",
   "execution_count": 49,
   "metadata": {
    "id": "WMiELBjIiVRh"
   },
   "outputs": [
    {
     "name": "stderr",
     "output_type": "stream",
     "text": [
      "\r",
      "0it [00:00, ?it/s]"
     ]
    },
    {
     "name": "stdout",
     "output_type": "stream",
     "text": [
      "0\n"
     ]
    },
    {
     "name": "stderr",
     "output_type": "stream",
     "text": [
      "/home/chavan7/.local/lib/python3.8/site-packages/trl/trainer/ppo_trainer.py:1212: UserWarning: The average ratio of batch (93.66) exceeds threshold 10.00. Skipping batch.\n",
      "  warnings.warn(\n",
      "/home/chavan7/.local/lib/python3.8/site-packages/trl/trainer/ppo_trainer.py:1212: UserWarning: The average ratio of batch (367.75) exceeds threshold 10.00. Skipping batch.\n",
      "  warnings.warn(\n",
      "1it [04:36, 276.00s/it]"
     ]
    },
    {
     "name": "stdout",
     "output_type": "stream",
     "text": [
      "1\n"
     ]
    },
    {
     "name": "stderr",
     "output_type": "stream",
     "text": [
      "\r",
      "2it [09:11, 275.56s/it]"
     ]
    },
    {
     "name": "stdout",
     "output_type": "stream",
     "text": [
      "2\n"
     ]
    },
    {
     "name": "stderr",
     "output_type": "stream",
     "text": [
      "\r",
      "3it [13:50, 277.19s/it]"
     ]
    },
    {
     "name": "stdout",
     "output_type": "stream",
     "text": [
      "3\n"
     ]
    },
    {
     "name": "stderr",
     "output_type": "stream",
     "text": [
      "4it [19:17, 289.39s/it]\n"
     ]
    }
   ],
   "source": [
    "for epoch, batch in tqdm(enumerate(ppo_trainer.dataloader)):\n",
    "    query_tensors = batch[\"input_ids\"]\n",
    "    print(epoch)\n",
    "\n",
    "    #### Get response from gpt2\n",
    "    response_tensors = []\n",
    "    for query in query_tensors:\n",
    "        gen_len                             = output_length_sampler()\n",
    "        generation_kwargs[\"max_new_tokens\"] = gen_len\n",
    "        response                            = ppo_trainer.generate(query, **generation_kwargs)\n",
    "        response_tensors.append( response.squeeze()[-gen_len:] )\n",
    "    batch[\"response\"] = [ tokenizer.decode(r.squeeze()) for r in response_tensors ]\n",
    "\n",
    "    #### Compute sentiment score\n",
    "    texts = [q + r for q, r in zip(batch[\"query\"], batch[\"response\"])]\n",
    "    pipe_outputs = sentiment_pipe(texts, **sent_kwargs)\n",
    "    rewards = [ torch.tensor(output[1][\"score\"]) for output in pipe_outputs]\n",
    "\n",
    "    #### Run PPO step\n",
    "    stats = ppo_trainer.step(\n",
    "                     query_tensors,\n",
    "                     response_tensors,\n",
    "                     rewards\n",
    "    )\n",
    "    ppo_trainer.log_stats(stats, batch, rewards)"
   ]
  },
  {
   "cell_type": "code",
   "execution_count": 65,
   "metadata": {
    "id": "sDa-eqE9h6S8"
   },
   "outputs": [],
   "source": [
    "# torch.cuda.get_device_name(0)"
   ]
  },
  {
   "cell_type": "markdown",
   "metadata": {
    "id": "irVn9lGFivUC"
   },
   "source": [
    "One can observe how the model starts to generate more positive outputs after a few optimisation steps.\n",
    "\n",
    "Note: Investigating the KL-divergence will probably show that at this point the model has not converged to the target KL-divergence, yet. To get there would require longer training or starting with a higher initial coefficient.\n",
    "\n",
    "Let's inspect some examples from the IMDB dataset. We can use model_ref to compare the tuned model model against the model before optimisation."
   ]
  },
  {
   "cell_type": "code",
   "execution_count": 66,
   "metadata": {
    "id": "qNBWkpdjipLe"
   },
   "outputs": [],
   "source": [
    "#### get a batch from the dataset\n",
    "bs                 = 16\n",
    "game_data          = dict()"
   ]
  },
  {
   "cell_type": "code",
   "execution_count": 67,
   "metadata": {
    "id": "GEkq6woHipPn"
   },
   "outputs": [
    {
     "data": {
      "text/plain": [
       "{}"
      ]
     },
     "execution_count": 67,
     "metadata": {},
     "output_type": "execute_result"
    }
   ],
   "source": [
    "game_data"
   ]
  },
  {
   "cell_type": "code",
   "execution_count": 68,
   "metadata": {
    "id": "H3tteQb-ipS3"
   },
   "outputs": [],
   "source": [
    "dataset.set_format(\"pandas\")"
   ]
  },
  {
   "cell_type": "code",
   "execution_count": 69,
   "metadata": {
    "id": "VKd2tchvipWa"
   },
   "outputs": [
    {
     "data": {
      "text/html": [
       "<div>\n",
       "<style scoped>\n",
       "    .dataframe tbody tr th:only-of-type {\n",
       "        vertical-align: middle;\n",
       "    }\n",
       "\n",
       "    .dataframe tbody tr th {\n",
       "        vertical-align: top;\n",
       "    }\n",
       "\n",
       "    .dataframe thead th {\n",
       "        text-align: right;\n",
       "    }\n",
       "</style>\n",
       "<table border=\"1\" class=\"dataframe\">\n",
       "  <thead>\n",
       "    <tr style=\"text-align: right;\">\n",
       "      <th></th>\n",
       "      <th>sentence</th>\n",
       "      <th>label</th>\n",
       "      <th>input_ids</th>\n",
       "      <th>query</th>\n",
       "    </tr>\n",
       "  </thead>\n",
       "  <tbody>\n",
       "    <tr>\n",
       "      <th>13</th>\n",
       "      <td>The world 's second largest stainless steel ma...</td>\n",
       "      <td>2</td>\n",
       "      <td>[0, 133, 232]</td>\n",
       "      <td>&lt;s&gt;The world</td>\n",
       "    </tr>\n",
       "    <tr>\n",
       "      <th>179</th>\n",
       "      <td>Finnish GeoSentric , a developer and provider ...</td>\n",
       "      <td>2</td>\n",
       "      <td>[0, 597, 5246, 1173]</td>\n",
       "      <td>&lt;s&gt;Finnish</td>\n",
       "    </tr>\n",
       "    <tr>\n",
       "      <th>306</th>\n",
       "      <td>Finnish forest machinery and equipment maker P...</td>\n",
       "      <td>2</td>\n",
       "      <td>[0, 597]</td>\n",
       "      <td>&lt;s&gt;F</td>\n",
       "    </tr>\n",
       "    <tr>\n",
       "      <th>620</th>\n",
       "      <td>have notified that as a result of the Company ...</td>\n",
       "      <td>0</td>\n",
       "      <td>[0, 11990]</td>\n",
       "      <td>&lt;s&gt;have</td>\n",
       "    </tr>\n",
       "    <tr>\n",
       "      <th>387</th>\n",
       "      <td>Affecto will provide a new EFI Data Warehouse ...</td>\n",
       "      <td>1</td>\n",
       "      <td>[0, 250, 45700, 139, 40]</td>\n",
       "      <td>&lt;s&gt;Affecto will</td>\n",
       "    </tr>\n",
       "    <tr>\n",
       "      <th>396</th>\n",
       "      <td>Aspocomp said it will spin off its Chinese and...</td>\n",
       "      <td>1</td>\n",
       "      <td>[0, 1620, 642, 1975, 7474, 26]</td>\n",
       "      <td>&lt;s&gt;Aspocomp said</td>\n",
       "    </tr>\n",
       "    <tr>\n",
       "      <th>278</th>\n",
       "      <td>In a release , the Company said that Vocollect...</td>\n",
       "      <td>2</td>\n",
       "      <td>[0, 1121, 10, 800, 2156, 5]</td>\n",
       "      <td>&lt;s&gt;In a release, the</td>\n",
       "    </tr>\n",
       "    <tr>\n",
       "      <th>204</th>\n",
       "      <td>The Innova 2 building will be located close to...</td>\n",
       "      <td>1</td>\n",
       "      <td>[0, 133, 9548, 3900, 132]</td>\n",
       "      <td>&lt;s&gt;The Innova 2</td>\n",
       "    </tr>\n",
       "    <tr>\n",
       "      <th>518</th>\n",
       "      <td>The non-recurring costs caused to Talentum 's ...</td>\n",
       "      <td>1</td>\n",
       "      <td>[0, 133, 786, 12, 13139]</td>\n",
       "      <td>&lt;s&gt;The non-rec</td>\n",
       "    </tr>\n",
       "    <tr>\n",
       "      <th>494</th>\n",
       "      <td>Incap Contract Manufacturing Services Pvt Ltd ...</td>\n",
       "      <td>1</td>\n",
       "      <td>[0, 1121, 10906, 15739, 12047, 1820]</td>\n",
       "      <td>&lt;s&gt;Incap Contract Manufacturing Services</td>\n",
       "    </tr>\n",
       "    <tr>\n",
       "      <th>579</th>\n",
       "      <td>Rapala VMC Corporation STOCK EXCHANGE RELEASE ...</td>\n",
       "      <td>0</td>\n",
       "      <td>[0, 39310]</td>\n",
       "      <td>&lt;s&gt;Rap</td>\n",
       "    </tr>\n",
       "    <tr>\n",
       "      <th>262</th>\n",
       "      <td>Technopolis said before the protocol was signe...</td>\n",
       "      <td>1</td>\n",
       "      <td>[0, 40529, 42310, 26, 137, 5, 11883]</td>\n",
       "      <td>&lt;s&gt;Technopolis said before the protocol</td>\n",
       "    </tr>\n",
       "    <tr>\n",
       "      <th>143</th>\n",
       "      <td>( ADP News ) - Oct 1 , 2008 - Finnish consulti...</td>\n",
       "      <td>2</td>\n",
       "      <td>[0, 1640]</td>\n",
       "      <td>&lt;s&gt;(</td>\n",
       "    </tr>\n",
       "    <tr>\n",
       "      <th>563</th>\n",
       "      <td>Nordic banks have already had to write off siz...</td>\n",
       "      <td>0</td>\n",
       "      <td>[0, 487, 3109, 636]</td>\n",
       "      <td>&lt;s&gt;Nordic</td>\n",
       "    </tr>\n",
       "    <tr>\n",
       "      <th>615</th>\n",
       "      <td>ADPnews - Sep 28 , 2009 - Finnish silicon wafe...</td>\n",
       "      <td>0</td>\n",
       "      <td>[0, 2606, 510, 2926]</td>\n",
       "      <td>&lt;s&gt;ADPnews</td>\n",
       "    </tr>\n",
       "    <tr>\n",
       "      <th>178</th>\n",
       "      <td>According to Sweden 's Minister for Local Gove...</td>\n",
       "      <td>1</td>\n",
       "      <td>[0, 14693]</td>\n",
       "      <td>&lt;s&gt;According</td>\n",
       "    </tr>\n",
       "  </tbody>\n",
       "</table>\n",
       "</div>"
      ],
      "text/plain": [
       "                                              sentence  label  \\\n",
       "13   The world 's second largest stainless steel ma...      2   \n",
       "179  Finnish GeoSentric , a developer and provider ...      2   \n",
       "306  Finnish forest machinery and equipment maker P...      2   \n",
       "620  have notified that as a result of the Company ...      0   \n",
       "387  Affecto will provide a new EFI Data Warehouse ...      1   \n",
       "396  Aspocomp said it will spin off its Chinese and...      1   \n",
       "278  In a release , the Company said that Vocollect...      2   \n",
       "204  The Innova 2 building will be located close to...      1   \n",
       "518  The non-recurring costs caused to Talentum 's ...      1   \n",
       "494  Incap Contract Manufacturing Services Pvt Ltd ...      1   \n",
       "579  Rapala VMC Corporation STOCK EXCHANGE RELEASE ...      0   \n",
       "262  Technopolis said before the protocol was signe...      1   \n",
       "143  ( ADP News ) - Oct 1 , 2008 - Finnish consulti...      2   \n",
       "563  Nordic banks have already had to write off siz...      0   \n",
       "615  ADPnews - Sep 28 , 2009 - Finnish silicon wafe...      0   \n",
       "178  According to Sweden 's Minister for Local Gove...      1   \n",
       "\n",
       "                                input_ids  \\\n",
       "13                          [0, 133, 232]   \n",
       "179                  [0, 597, 5246, 1173]   \n",
       "306                              [0, 597]   \n",
       "620                            [0, 11990]   \n",
       "387              [0, 250, 45700, 139, 40]   \n",
       "396        [0, 1620, 642, 1975, 7474, 26]   \n",
       "278           [0, 1121, 10, 800, 2156, 5]   \n",
       "204             [0, 133, 9548, 3900, 132]   \n",
       "518              [0, 133, 786, 12, 13139]   \n",
       "494  [0, 1121, 10906, 15739, 12047, 1820]   \n",
       "579                            [0, 39310]   \n",
       "262  [0, 40529, 42310, 26, 137, 5, 11883]   \n",
       "143                             [0, 1640]   \n",
       "563                   [0, 487, 3109, 636]   \n",
       "615                  [0, 2606, 510, 2926]   \n",
       "178                            [0, 14693]   \n",
       "\n",
       "                                        query  \n",
       "13                               <s>The world  \n",
       "179                                <s>Finnish  \n",
       "306                                      <s>F  \n",
       "620                                   <s>have  \n",
       "387                           <s>Affecto will  \n",
       "396                          <s>Aspocomp said  \n",
       "278                      <s>In a release, the  \n",
       "204                           <s>The Innova 2  \n",
       "518                            <s>The non-rec  \n",
       "494  <s>Incap Contract Manufacturing Services  \n",
       "579                                    <s>Rap  \n",
       "262   <s>Technopolis said before the protocol  \n",
       "143                                      <s>(  \n",
       "563                                 <s>Nordic  \n",
       "615                                <s>ADPnews  \n",
       "178                              <s>According  "
      ]
     },
     "execution_count": 69,
     "metadata": {},
     "output_type": "execute_result"
    }
   ],
   "source": [
    "df_batch           = dataset[:].sample(bs)\n",
    "df_batch"
   ]
  },
  {
   "cell_type": "code",
   "execution_count": 70,
   "metadata": {
    "id": "1rQYG3b4i3P7"
   },
   "outputs": [],
   "source": [
    "game_data[\"query\"] = df_batch[\"query\"].tolist()\n",
    "query_tensors      = df_batch[\"input_ids\"].tolist()"
   ]
  },
  {
   "cell_type": "code",
   "execution_count": 71,
   "metadata": {
    "id": "NLXYVx6mi3U5"
   },
   "outputs": [],
   "source": [
    "response_tensors_ref, response_tensors = [], []"
   ]
  },
  {
   "cell_type": "code",
   "execution_count": 72,
   "metadata": {
    "id": "F5P8jLEWi3Z5"
   },
   "outputs": [],
   "source": [
    "#### get response from gpt2 and gpt2_ref\n",
    "for i in range(bs):\n",
    "    gen_len = output_length_sampler()\n",
    "\n",
    "    output  = ref_model.generate(\n",
    "        torch.tensor(query_tensors[i]).unsqueeze(dim=0).to(device), max_new_tokens=gen_len, **gen_kwargs\n",
    "    ).squeeze()[-gen_len:]\n",
    "    response_tensors_ref.append(output)\n",
    "\n",
    "\n",
    "    output = model.generate(\n",
    "        torch.tensor(query_tensors[i]).unsqueeze(dim=0).to(device), max_new_tokens=gen_len, **gen_kwargs\n",
    "    ).squeeze()[-gen_len:]\n",
    "    response_tensors.append(output)"
   ]
  },
  {
   "cell_type": "code",
   "execution_count": 73,
   "metadata": {
    "id": "LDfGD-o4i3er"
   },
   "outputs": [],
   "source": [
    "#### decode responses\n",
    "game_data[\"response (before)\"] = [tokenizer.decode(response_tensors_ref[i]) for i in range(bs)]\n",
    "game_data[\"response (after)\"]  = [tokenizer.decode(response_tensors[i]) for i in range(bs)]"
   ]
  },
  {
   "cell_type": "code",
   "execution_count": 74,
   "metadata": {
    "id": "Nhnx0bn5ipZ_"
   },
   "outputs": [
    {
     "name": "stderr",
     "output_type": "stream",
     "text": [
      "/home/chavan7/.local/lib/python3.8/site-packages/transformers/pipelines/text_classification.py:104: UserWarning: `return_all_scores` is now deprecated,  if want a similar functionality use `top_k=None` instead of `return_all_scores=True` or `top_k=1` instead of `return_all_scores=False`.\n",
      "  warnings.warn(\n"
     ]
    }
   ],
   "source": [
    "#### sentiment analysis of query/response pairs before/after\n",
    "texts = [q + r for q, r in zip(game_data[\"query\"], game_data[\"response (before)\"])]\n",
    "game_data[\"rewards (before)\"] = [output[1][\"score\"] for output in sentiment_pipe(texts, **sent_kwargs)]"
   ]
  },
  {
   "cell_type": "code",
   "execution_count": 75,
   "metadata": {
    "id": "7iHhlqTIjJVW"
   },
   "outputs": [],
   "source": [
    "texts = [q + r for q, r in zip(game_data[\"query\"], game_data[\"response (after)\"])]\n",
    "game_data[\"rewards (after)\"] = [output[1][\"score\"] for output in sentiment_pipe(texts, **sent_kwargs)]"
   ]
  },
  {
   "cell_type": "code",
   "execution_count": 76,
   "metadata": {
    "id": "qXtUqxIhjJaV"
   },
   "outputs": [
    {
     "data": {
      "text/html": [
       "<div>\n",
       "<style scoped>\n",
       "    .dataframe tbody tr th:only-of-type {\n",
       "        vertical-align: middle;\n",
       "    }\n",
       "\n",
       "    .dataframe tbody tr th {\n",
       "        vertical-align: top;\n",
       "    }\n",
       "\n",
       "    .dataframe thead th {\n",
       "        text-align: right;\n",
       "    }\n",
       "</style>\n",
       "<table border=\"1\" class=\"dataframe\">\n",
       "  <thead>\n",
       "    <tr style=\"text-align: right;\">\n",
       "      <th></th>\n",
       "      <th>query</th>\n",
       "      <th>response (before)</th>\n",
       "      <th>response (after)</th>\n",
       "      <th>rewards (before)</th>\n",
       "      <th>rewards (after)</th>\n",
       "    </tr>\n",
       "  </thead>\n",
       "  <tbody>\n",
       "    <tr>\n",
       "      <th>0</th>\n",
       "      <td>&lt;s&gt;The world</td>\n",
       "      <td>Champions rings Klu KluVKills Klusets whatsil...</td>\n",
       "      <td>Vijzzo× latitude latitude smoot insiderEEP co...</td>\n",
       "      <td>6.427192</td>\n",
       "      <td>6.259383</td>\n",
       "    </tr>\n",
       "    <tr>\n",
       "      <th>1</th>\n",
       "      <td>&lt;s&gt;Finnish</td>\n",
       "      <td>Klu Klu PROT Banner Sounds binariessetssets K...</td>\n",
       "      <td>wiser Operator latitude angle SPACE]'rip jump...</td>\n",
       "      <td>6.578957</td>\n",
       "      <td>6.096363</td>\n",
       "    </tr>\n",
       "    <tr>\n",
       "      <th>2</th>\n",
       "      <td>&lt;s&gt;F</td>\n",
       "      <td>ear Flags COL Crestorningsspring Summercirc K...</td>\n",
       "      <td>ocitySEE unsc Parkway SEE Cuomo × sche latitud...</td>\n",
       "      <td>6.567821</td>\n",
       "      <td>6.319682</td>\n",
       "    </tr>\n",
       "    <tr>\n",
       "      <th>3</th>\n",
       "      <td>&lt;s&gt;have</td>\n",
       "      <td>winters Klu Volks Scout Klusets UNDER</td>\n",
       "      <td>KEYpiredrupulousrupulous bonaouveromers</td>\n",
       "      <td>6.541896</td>\n",
       "      <td>4.463653</td>\n",
       "    </tr>\n",
       "    <tr>\n",
       "      <th>4</th>\n",
       "      <td>&lt;s&gt;Affecto will</td>\n",
       "      <td>Klu peaksThumbnail Riderssetssets calfitles</td>\n",
       "      <td>widened Sneak insider RecallBUS culp foresee ...</td>\n",
       "      <td>6.634706</td>\n",
       "      <td>6.463746</td>\n",
       "    </tr>\n",
       "    <tr>\n",
       "      <th>5</th>\n",
       "      <td>&lt;s&gt;Aspocomp said</td>\n",
       "      <td>sets Paddock Bundes Brassetssetscollar Runs</td>\n",
       "      <td>refining infrared Experjoin Oval bona imperso...</td>\n",
       "      <td>6.591565</td>\n",
       "      <td>6.572432</td>\n",
       "    </tr>\n",
       "    <tr>\n",
       "      <th>6</th>\n",
       "      <td>&lt;s&gt;In a release, the</td>\n",
       "      <td>pinegging Crimean Yuan Chron Antarctic padded...</td>\n",
       "      <td>Recall subterrupulous Cull avenue haun Ern gl...</td>\n",
       "      <td>6.659610</td>\n",
       "      <td>5.500474</td>\n",
       "    </tr>\n",
       "    <tr>\n",
       "      <th>7</th>\n",
       "      <td>&lt;s&gt;The Innova 2</td>\n",
       "      <td>cher hoselevard NVstrings</td>\n",
       "      <td>rupulous geographicallyoks calculated lane</td>\n",
       "      <td>6.674257</td>\n",
       "      <td>6.705620</td>\n",
       "    </tr>\n",
       "    <tr>\n",
       "      <th>8</th>\n",
       "      <td>&lt;s&gt;The non-rec</td>\n",
       "      <td>kHz misconcuts.\")), Sanctuary royaltiespotsil...</td>\n",
       "      <td>omers latitude indefinite shenanigans eaves Ni...</td>\n",
       "      <td>6.703739</td>\n",
       "      <td>6.568322</td>\n",
       "    </tr>\n",
       "    <tr>\n",
       "      <th>9</th>\n",
       "      <td>&lt;s&gt;Incap Contract Manufacturing Services</td>\n",
       "      <td>Ukrainians ear escapeschetpak noonshots origi...</td>\n",
       "      <td>Recall Parkway differentiate lapse anglescape...</td>\n",
       "      <td>6.696066</td>\n",
       "      <td>6.532852</td>\n",
       "    </tr>\n",
       "    <tr>\n",
       "      <th>10</th>\n",
       "      <td>&lt;s&gt;Rap</td>\n",
       "      <td>~/ morningssets Crimean strengtheningrevechet...</td>\n",
       "      <td>shutsrup Surf× Imag bes × Imag Game Recall St...</td>\n",
       "      <td>6.394704</td>\n",
       "      <td>6.235262</td>\n",
       "    </tr>\n",
       "    <tr>\n",
       "      <th>11</th>\n",
       "      <td>&lt;s&gt;Technopolis said before the protocol</td>\n",
       "      <td>gging Winds ): winters Pedwiredrencies DK levi...</td>\n",
       "      <td>autop geographically KEY latitude unch elbows...</td>\n",
       "      <td>6.542953</td>\n",
       "      <td>6.589689</td>\n",
       "    </tr>\n",
       "    <tr>\n",
       "      <th>12</th>\n",
       "      <td>&lt;s&gt;(</td>\n",
       "      <td>Sanctuary governors Chancellor Bucks retireme...</td>\n",
       "      <td>Mn consortium preparations foresee forgotten ...</td>\n",
       "      <td>6.610706</td>\n",
       "      <td>6.563776</td>\n",
       "    </tr>\n",
       "    <tr>\n",
       "      <th>13</th>\n",
       "      <td>&lt;s&gt;Nordic</td>\n",
       "      <td>propagation Chancellorconf hints subtitles br...</td>\n",
       "      <td>abouts Channel precip magnetic ± heights Parkw...</td>\n",
       "      <td>6.617382</td>\n",
       "      <td>6.562865</td>\n",
       "    </tr>\n",
       "    <tr>\n",
       "      <th>14</th>\n",
       "      <td>&lt;s&gt;ADPnews</td>\n",
       "      <td>soundGFcephalpakJV</td>\n",
       "      <td>eras nowhere indefinite subter unsc</td>\n",
       "      <td>6.595362</td>\n",
       "      <td>6.507744</td>\n",
       "    </tr>\n",
       "    <tr>\n",
       "      <th>15</th>\n",
       "      <td>&lt;s&gt;According</td>\n",
       "      <td>courtesy Rick Reign Chancellor</td>\n",
       "      <td>loophole Array Oval Marco</td>\n",
       "      <td>6.694395</td>\n",
       "      <td>6.560318</td>\n",
       "    </tr>\n",
       "  </tbody>\n",
       "</table>\n",
       "</div>"
      ],
      "text/plain": [
       "                                       query  \\\n",
       "0                               <s>The world   \n",
       "1                                 <s>Finnish   \n",
       "2                                       <s>F   \n",
       "3                                    <s>have   \n",
       "4                            <s>Affecto will   \n",
       "5                           <s>Aspocomp said   \n",
       "6                       <s>In a release, the   \n",
       "7                            <s>The Innova 2   \n",
       "8                             <s>The non-rec   \n",
       "9   <s>Incap Contract Manufacturing Services   \n",
       "10                                    <s>Rap   \n",
       "11   <s>Technopolis said before the protocol   \n",
       "12                                      <s>(   \n",
       "13                                 <s>Nordic   \n",
       "14                                <s>ADPnews   \n",
       "15                              <s>According   \n",
       "\n",
       "                                    response (before)  \\\n",
       "0    Champions rings Klu KluVKills Klusets whatsil...   \n",
       "1    Klu Klu PROT Banner Sounds binariessetssets K...   \n",
       "2    ear Flags COL Crestorningsspring Summercirc K...   \n",
       "3               winters Klu Volks Scout Klusets UNDER   \n",
       "4         Klu peaksThumbnail Riderssetssets calfitles   \n",
       "5         sets Paddock Bundes Brassetssetscollar Runs   \n",
       "6    pinegging Crimean Yuan Chron Antarctic padded...   \n",
       "7                           cher hoselevard NVstrings   \n",
       "8    kHz misconcuts.\")), Sanctuary royaltiespotsil...   \n",
       "9    Ukrainians ear escapeschetpak noonshots origi...   \n",
       "10   ~/ morningssets Crimean strengtheningrevechet...   \n",
       "11  gging Winds ): winters Pedwiredrencies DK levi...   \n",
       "12   Sanctuary governors Chancellor Bucks retireme...   \n",
       "13   propagation Chancellorconf hints subtitles br...   \n",
       "14                                 soundGFcephalpakJV   \n",
       "15                     courtesy Rick Reign Chancellor   \n",
       "\n",
       "                                     response (after)  rewards (before)  \\\n",
       "0    Vijzzo× latitude latitude smoot insiderEEP co...          6.427192   \n",
       "1    wiser Operator latitude angle SPACE]'rip jump...          6.578957   \n",
       "2   ocitySEE unsc Parkway SEE Cuomo × sche latitud...          6.567821   \n",
       "3             KEYpiredrupulousrupulous bonaouveromers          6.541896   \n",
       "4    widened Sneak insider RecallBUS culp foresee ...          6.634706   \n",
       "5    refining infrared Experjoin Oval bona imperso...          6.591565   \n",
       "6    Recall subterrupulous Cull avenue haun Ern gl...          6.659610   \n",
       "7          rupulous geographicallyoks calculated lane          6.674257   \n",
       "8   omers latitude indefinite shenanigans eaves Ni...          6.703739   \n",
       "9    Recall Parkway differentiate lapse anglescape...          6.696066   \n",
       "10   shutsrup Surf× Imag bes × Imag Game Recall St...          6.394704   \n",
       "11   autop geographically KEY latitude unch elbows...          6.542953   \n",
       "12   Mn consortium preparations foresee forgotten ...          6.610706   \n",
       "13  abouts Channel precip magnetic ± heights Parkw...          6.617382   \n",
       "14                eras nowhere indefinite subter unsc          6.595362   \n",
       "15                          loophole Array Oval Marco          6.694395   \n",
       "\n",
       "    rewards (after)  \n",
       "0          6.259383  \n",
       "1          6.096363  \n",
       "2          6.319682  \n",
       "3          4.463653  \n",
       "4          6.463746  \n",
       "5          6.572432  \n",
       "6          5.500474  \n",
       "7          6.705620  \n",
       "8          6.568322  \n",
       "9          6.532852  \n",
       "10         6.235262  \n",
       "11         6.589689  \n",
       "12         6.563776  \n",
       "13         6.562865  \n",
       "14         6.507744  \n",
       "15         6.560318  "
      ]
     },
     "execution_count": 76,
     "metadata": {},
     "output_type": "execute_result"
    }
   ],
   "source": [
    "# store results in a dataframe\n",
    "df_results = pd.DataFrame(game_data)\n",
    "df_results"
   ]
  },
  {
   "cell_type": "code",
   "execution_count": 77,
   "metadata": {
    "id": "5zJ7s1zGjJfh"
   },
   "outputs": [
    {
     "name": "stdout",
     "output_type": "stream",
     "text": [
      "mean:\n"
     ]
    },
    {
     "data": {
      "text/plain": [
       "rewards (before)    6.595707\n",
       "rewards (after)     6.281386\n",
       "dtype: float64"
      ]
     },
     "metadata": {},
     "output_type": "display_data"
    },
    {
     "name": "stdout",
     "output_type": "stream",
     "text": [
      "\n",
      "median:\n"
     ]
    },
    {
     "data": {
      "text/plain": [
       "rewards (before)    6.603034\n",
       "rewards (after)     6.520298\n",
       "dtype: float64"
      ]
     },
     "metadata": {},
     "output_type": "display_data"
    }
   ],
   "source": [
    "print(\"mean:\")\n",
    "display(df_results[[\"rewards (before)\", \"rewards (after)\"]].mean())\n",
    "print()\n",
    "print(\"median:\")\n",
    "display(df_results[[\"rewards (before)\", \"rewards (after)\"]].median())"
   ]
  },
  {
   "cell_type": "code",
   "execution_count": 78,
   "metadata": {
    "id": "-XHgIFOvjSsn"
   },
   "outputs": [
    {
     "data": {
      "text/plain": [
       "('gpt2-imdb-pos-v2/tokenizer_config.json',\n",
       " 'gpt2-imdb-pos-v2/special_tokens_map.json',\n",
       " 'gpt2-imdb-pos-v2/vocab.json',\n",
       " 'gpt2-imdb-pos-v2/merges.txt',\n",
       " 'gpt2-imdb-pos-v2/added_tokens.json',\n",
       " 'gpt2-imdb-pos-v2/tokenizer.json')"
      ]
     },
     "execution_count": 78,
     "metadata": {},
     "output_type": "execute_result"
    }
   ],
   "source": [
    "## model.save_pretrained(    \"gpt2-imdb-pos-v2\", push_to_hub=True)\n",
    "## tokenizer.save_pretrained(\"gpt2-imdb-pos-v2\", push_to_hub=True)\n",
    "\n",
    "model.save_pretrained(    \"gpt2-imdb-pos-v2\", push_to_hub=False)\n",
    "tokenizer.save_pretrained(\"gpt2-imdb-pos-v2\", push_to_hub=False)"
   ]
  },
  {
   "cell_type": "code",
   "execution_count": null,
   "metadata": {
    "id": "aBozCXCijSv_"
   },
   "outputs": [],
   "source": []
  },
  {
   "cell_type": "code",
   "execution_count": null,
   "metadata": {
    "id": "VsY57XwMjSzz"
   },
   "outputs": [],
   "source": []
  },
  {
   "cell_type": "code",
   "execution_count": null,
   "metadata": {
    "id": "O7da67HQjJj3"
   },
   "outputs": [],
   "source": []
  }
 ],
 "metadata": {
  "colab": {
   "provenance": []
  },
  "kernelspec": {
   "display_name": "Python 3 (ipykernel)",
   "language": "python",
   "name": "python3"
  },
  "language_info": {
   "codemirror_mode": {
    "name": "ipython",
    "version": 3
   },
   "file_extension": ".py",
   "mimetype": "text/x-python",
   "name": "python",
   "nbconvert_exporter": "python",
   "pygments_lexer": "ipython3",
   "version": "3.11.4"
  }
 },
 "nbformat": 4,
 "nbformat_minor": 1
}
